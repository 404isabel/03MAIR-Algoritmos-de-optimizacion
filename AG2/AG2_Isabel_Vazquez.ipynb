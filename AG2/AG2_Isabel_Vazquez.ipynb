{
  "nbformat": 4,
  "nbformat_minor": 0,
  "metadata": {
    "colab": {
      "name": "AG2-Isabel_Vazquez.ipynb",
      "version": "0.3.2",
      "provenance": [],
      "collapsed_sections": [],
      "include_colab_link": true
    },
    "kernelspec": {
      "name": "python3",
      "display_name": "Python 3"
    }
  },
  "cells": [
    {
      "cell_type": "markdown",
      "metadata": {
        "id": "view-in-github",
        "colab_type": "text"
      },
      "source": [
        "<a href=\"https://colab.research.google.com/github/404isabel/03MAIR-Algoritmos-de-optimizacion/blob/master/AG2/AG2_Isabel_Vazquez.ipynb\" target=\"_parent\"><img src=\"https://colab.research.google.com/assets/colab-badge.svg\" alt=\"Open In Colab\"/></a>"
      ]
    },
    {
      "metadata": {
        "id": "yUOb0hQAHzOe",
        "colab_type": "text"
      },
      "cell_type": "markdown",
      "source": [
        "Isabel Vázquez - AG2 <br>\n",
        "Actividad Guiada2<br>\n",
        "Url: https://github.com/404isabel/03MAIR-Algoritmos-de-optimizacion/tree/master/AG2<br>"
      ]
    },
    {
      "metadata": {
        "id": "vJV190RoKNjy",
        "colab_type": "code",
        "outputId": "b6c67c72-aceb-4daa-c406-3fbff6b7eb69",
        "colab": {
          "base_uri": "https://localhost:8080/",
          "height": 54
        }
      },
      "cell_type": "code",
      "source": [
        "import math\n",
        "import random\n",
        "from time import time\n",
        "def calcular_tiempo(f):\n",
        "   \n",
        "    def wrapper(*args, **kwargs):        \n",
        "        inicio = time()       \n",
        "        resultado = f(*args, **kwargs)       \n",
        "        tiempo = float(time() - inicio)     \n",
        "        print(\"\\r\\n Tiempo de ejecución para algoritmo: \"+\"{0:.25f}\".format(tiempo))\n",
        "        return resultado\n",
        "    \n",
        "    return wrapper\n",
        "\n",
        "N=1000\n",
        "LISTA_2D = [ (random.randrange(1,N*10),random.randrange(1,N*10))  for _ in range(N)]\n",
        "print(LISTA_2D)"
      ],
      "execution_count": 89,
      "outputs": [
        {
          "output_type": "stream",
          "text": [
            "[(4527, 9168), (1627, 7835), (1689, 2035), (9648, 4199), (1274, 5947), (4577, 3119), (8750, 1846), (2819, 2298), (1144, 7039), (8625, 662), (7792, 1417), (244, 2381), (5559, 6258), (7340, 6080), (6192, 6009), (4157, 126), (2199, 1473), (4564, 9424), (2460, 8583), (1576, 9582), (8637, 7374), (2819, 300), (9803, 7680), (708, 2985), (8760, 3381), (2334, 1685), (5229, 5728), (8292, 1417), (7680, 8207), (3639, 9219), (2218, 5681), (2594, 4484), (793, 2519), (4420, 9695), (5479, 156), (6722, 6745), (6338, 9419), (8348, 4194), (8693, 7657), (6872, 7232), (10, 9499), (6125, 8243), (7560, 5441), (4513, 6978), (9277, 5052), (6468, 1636), (5549, 4617), (6362, 681), (6485, 5434), (3356, 6166), (7749, 1237), (1047, 8992), (5109, 1078), (9741, 9624), (6655, 3940), (4892, 3512), (6229, 4097), (3450, 9711), (3602, 6925), (7669, 2116), (1498, 2768), (4109, 4185), (873, 8537), (1961, 3161), (8365, 9415), (3855, 1038), (4468, 6537), (5787, 5797), (6860, 29), (9326, 1566), (1918, 2080), (9718, 405), (921, 8319), (2881, 8990), (2975, 809), (8379, 8978), (6223, 8283), (3477, 8175), (7707, 7595), (5166, 6018), (9175, 9981), (7370, 5215), (7562, 8603), (3693, 573), (5100, 9374), (7828, 3848), (7942, 9278), (31, 7540), (1086, 8853), (5591, 3328), (2389, 5087), (9869, 1498), (6666, 3441), (8970, 1522), (8439, 7684), (7154, 4836), (9993, 2909), (9962, 6925), (2363, 8371), (5542, 40), (7525, 9580), (8368, 800), (2026, 4232), (7235, 7570), (2044, 9492), (794, 9482), (8138, 5134), (7118, 3092), (4657, 8002), (4726, 5216), (5620, 1272), (6497, 3098), (7309, 9677), (431, 7368), (6107, 5498), (8089, 9593), (6471, 7393), (1838, 8022), (1817, 7184), (4831, 5222), (3507, 4024), (9205, 7154), (7464, 9049), (5034, 4101), (1970, 7615), (2407, 9711), (9105, 7732), (8934, 9518), (4623, 965), (5604, 7372), (499, 7990), (724, 5962), (3367, 6926), (326, 4353), (1949, 1960), (1176, 1804), (8158, 2581), (6473, 9817), (6393, 1142), (2307, 257), (5807, 220), (368, 8609), (3151, 35), (1620, 4286), (2381, 550), (7798, 8821), (4551, 8913), (9308, 1109), (4682, 9886), (7208, 6204), (7789, 8217), (2171, 6216), (8503, 2897), (763, 4375), (7521, 3202), (2451, 3700), (9761, 6240), (4300, 5871), (9011, 9895), (1984, 4299), (6504, 5980), (5757, 6815), (6819, 7083), (4917, 798), (2308, 1939), (6670, 3164), (4648, 1496), (8625, 8201), (1793, 4267), (6001, 6630), (1201, 2325), (4399, 5106), (6317, 795), (4617, 5217), (3896, 4892), (4211, 200), (8559, 9378), (7077, 5888), (5559, 406), (2927, 3203), (5601, 9024), (7473, 5458), (7588, 6101), (9279, 303), (2318, 9985), (8727, 7428), (1676, 6738), (7849, 705), (2764, 3917), (2932, 8974), (5543, 7206), (5620, 1153), (5043, 9310), (3579, 9688), (6384, 7264), (2162, 4277), (2668, 7826), (8490, 6864), (6331, 9054), (7557, 6610), (4126, 5951), (7140, 2958), (6513, 3647), (9263, 5040), (6940, 6073), (2486, 1816), (9288, 555), (9874, 6848), (5730, 9943), (5165, 9875), (9975, 4984), (1345, 5290), (1146, 9340), (1060, 3270), (7266, 5147), (4177, 7490), (5056, 6084), (6636, 3), (4093, 8821), (9109, 3408), (4511, 9660), (4433, 9778), (3852, 4987), (7508, 1961), (9928, 6980), (3581, 6795), (3098, 1353), (3539, 6755), (2779, 8974), (1835, 8773), (8558, 7730), (1511, 3221), (1193, 2508), (5321, 2695), (5175, 3594), (1360, 2699), (4767, 7662), (6700, 2829), (729, 3489), (7711, 2518), (9597, 6597), (5249, 953), (8053, 8201), (642, 1402), (3032, 2513), (4908, 9010), (7939, 6368), (5518, 685), (5079, 819), (3741, 2203), (5443, 38), (7009, 8069), (8168, 8721), (5122, 1060), (6508, 9111), (2170, 3911), (6463, 9641), (546, 4632), (8673, 5630), (1234, 3686), (364, 1113), (444, 9637), (3482, 7524), (2248, 9187), (6412, 7631), (3857, 5593), (1214, 6474), (6462, 5045), (2594, 6988), (7586, 3856), (4781, 7109), (1411, 5503), (9802, 7106), (4679, 7414), (2040, 1571), (6155, 933), (586, 1520), (1921, 1726), (7816, 4310), (7546, 2920), (6611, 9952), (5007, 9098), (4405, 2244), (6387, 4345), (5854, 9507), (8134, 5117), (458, 7163), (7670, 3250), (2729, 3341), (6109, 1895), (136, 7397), (6412, 8158), (1328, 2593), (1135, 397), (9602, 4630), (1228, 4579), (5423, 680), (2757, 312), (2668, 5151), (4637, 7917), (7548, 6425), (7358, 346), (3429, 8276), (1946, 4726), (3662, 8560), (8591, 8623), (1834, 4509), (5304, 1099), (2039, 7351), (833, 3047), (7912, 812), (3648, 5405), (6965, 3153), (6565, 4871), (6899, 3285), (6254, 414), (2587, 912), (7859, 1041), (3280, 6404), (1534, 683), (5121, 5107), (2652, 5446), (3287, 2855), (2268, 2987), (4248, 7483), (6833, 6922), (6121, 6916), (5384, 7485), (3718, 7124), (9740, 139), (9807, 8095), (9121, 6250), (6895, 2731), (566, 2075), (6533, 4526), (5718, 6515), (5885, 4770), (6882, 4899), (7818, 9762), (6938, 3523), (6465, 9126), (159, 791), (1569, 6565), (3225, 3813), (8110, 7185), (1042, 2959), (9190, 536), (3632, 5930), (2269, 4896), (4039, 1303), (6289, 7640), (2583, 6630), (5152, 4874), (479, 6905), (6156, 4511), (1230, 7275), (9995, 1871), (1104, 8091), (45, 273), (5172, 7607), (7847, 8856), (2838, 3912), (8635, 9601), (931, 4080), (6642, 4495), (5219, 1711), (9565, 6560), (7159, 5714), (4984, 550), (2682, 232), (1015, 2775), (7387, 7491), (973, 7825), (2120, 209), (1709, 7469), (7853, 1139), (5129, 6048), (4512, 3798), (3966, 3902), (2593, 4655), (802, 3354), (3396, 8382), (4933, 2231), (9637, 27), (611, 4171), (1857, 2140), (6391, 4952), (1276, 5323), (5273, 1842), (3553, 5882), (6207, 9575), (8737, 1915), (8791, 4326), (7962, 6790), (3083, 3605), (8131, 4903), (4268, 8839), (9405, 9945), (7276, 9987), (1788, 5503), (288, 9733), (1700, 9781), (9820, 2881), (5114, 2404), (806, 9764), (8558, 1444), (8485, 6249), (3439, 774), (5188, 7516), (2427, 7297), (6320, 592), (6940, 8756), (2096, 5208), (9268, 4247), (9314, 3657), (6239, 3878), (4772, 351), (9033, 2682), (6509, 920), (1592, 9877), (154, 3036), (4914, 112), (9890, 2994), (1826, 3232), (4674, 2350), (1184, 4469), (5691, 2010), (7210, 8434), (6292, 9303), (439, 4393), (2932, 4314), (4033, 6405), (8173, 4935), (5450, 3097), (6612, 4247), (5604, 9526), (4056, 460), (7612, 686), (7007, 1736), (5154, 1735), (5330, 4028), (5142, 4387), (8141, 7638), (5418, 8923), (5226, 7748), (3608, 108), (2959, 8658), (2616, 8571), (7961, 3212), (7030, 7597), (6766, 9688), (5359, 8901), (3954, 1420), (2353, 2321), (9646, 1066), (1116, 1615), (4672, 1829), (3407, 4024), (832, 7863), (5338, 1075), (9053, 4038), (2455, 4099), (5809, 8692), (3483, 1893), (2953, 5536), (397, 6002), (749, 9246), (8198, 4572), (7942, 3977), (8612, 4694), (6358, 3964), (6591, 5822), (4317, 2453), (662, 171), (3155, 1494), (508, 2204), (734, 7394), (6382, 1245), (7952, 2199), (5651, 1320), (63, 1214), (2554, 6875), (2125, 3775), (8264, 8514), (3307, 1515), (8465, 704), (5266, 6376), (2404, 9448), (2733, 9132), (8291, 6943), (3007, 7276), (3660, 5160), (1347, 8842), (31, 4815), (8193, 5289), (1301, 4182), (6431, 8841), (9567, 2079), (5702, 4544), (3819, 5437), (2480, 7825), (3361, 6743), (2703, 2085), (4556, 2445), (7261, 5323), (5877, 9686), (7258, 9815), (5873, 1577), (155, 3232), (2876, 4335), (8297, 8229), (4943, 2498), (5391, 5504), (1324, 9754), (976, 8706), (8412, 8385), (6593, 4264), (2684, 8075), (4371, 1522), (5373, 574), (9009, 9543), (9257, 8920), (1271, 468), (9661, 9006), (4764, 569), (8419, 3118), (7460, 1975), (7267, 5755), (2185, 9076), (6723, 3221), (5337, 9628), (7087, 146), (6926, 3208), (9577, 3710), (7819, 6919), (8157, 3604), (5122, 8174), (173, 3473), (1950, 1541), (550, 2811), (1322, 7682), (3870, 3269), (1855, 7666), (1892, 325), (635, 7882), (8439, 8269), (7617, 8798), (8341, 6776), (1632, 6209), (7420, 1448), (8432, 3014), (7710, 5885), (2548, 5293), (1524, 2537), (5977, 5452), (8807, 148), (4161, 5681), (295, 7670), (1779, 9117), (6415, 7935), (4774, 2693), (9155, 359), (7442, 6940), (9380, 9129), (4298, 6619), (431, 6799), (3300, 5988), (7293, 7616), (752, 3768), (5712, 7223), (1706, 3522), (179, 9491), (937, 2753), (6385, 6958), (3554, 8442), (584, 7992), (7186, 4875), (927, 4908), (1409, 8020), (6804, 2006), (8732, 9950), (1987, 4730), (3797, 808), (3498, 2111), (9211, 8466), (8760, 4991), (1031, 6577), (3812, 3984), (7327, 7201), (3712, 1554), (851, 2204), (4670, 5275), (5758, 3474), (5090, 196), (8399, 8664), (8391, 6525), (6968, 7640), (3487, 993), (1348, 3904), (5189, 4246), (9349, 9610), (2566, 401), (1567, 792), (7955, 8892), (4696, 9301), (9206, 4476), (8780, 8858), (9653, 1338), (5404, 8752), (725, 2731), (8659, 6654), (4032, 8544), (4364, 1839), (122, 8248), (1736, 3777), (1641, 7442), (3894, 7880), (4511, 1785), (4239, 1749), (909, 7269), (1795, 9293), (3108, 4327), (6716, 2545), (4262, 6128), (2463, 9410), (4299, 8386), (4381, 5507), (5986, 3115), (7467, 2473), (4978, 793), (4318, 1543), (9591, 7878), (7826, 7778), (5120, 8939), (4698, 1206), (2791, 2763), (8441, 5784), (6411, 7151), (3889, 6714), (1327, 6341), (2497, 984), (5890, 9188), (4960, 2208), (5808, 4626), (1463, 7957), (2777, 2037), (2709, 5881), (1983, 5942), (683, 9973), (5680, 4359), (1358, 5541), (1619, 4727), (5682, 4728), (1072, 6054), (1371, 2945), (9190, 2628), (7328, 619), (436, 1559), (165, 2670), (1881, 2134), (8756, 6613), (7693, 1947), (2807, 9508), (5213, 9925), (5236, 4647), (429, 3918), (3055, 6118), (2758, 3538), (6135, 6500), (2319, 1014), (293, 2268), (8865, 1947), (2180, 908), (8651, 3156), (7990, 4562), (3283, 1961), (4846, 8799), (1146, 699), (4249, 7681), (5989, 8581), (4631, 1613), (4856, 1506), (1730, 1236), (9431, 2422), (9311, 6186), (9840, 3055), (4927, 1875), (9851, 9292), (326, 266), (8515, 7586), (4659, 9583), (3432, 6711), (1886, 6474), (6316, 8658), (1474, 918), (5700, 8887), (2540, 7579), (6690, 8285), (1552, 3640), (9081, 8755), (7391, 2051), (9200, 8400), (1528, 9807), (3092, 1486), (1932, 4751), (6388, 4926), (8999, 7650), (3764, 5411), (1846, 1012), (7497, 2030), (9398, 6213), (8321, 7945), (4076, 8749), (529, 5792), (7010, 8862), (4691, 1632), (5095, 3662), (871, 7482), (3935, 7751), (5592, 2982), (947, 595), (2541, 40), (912, 5107), (8327, 5524), (4564, 4697), (9584, 2556), (1401, 1724), (6846, 7966), (8175, 1466), (985, 2219), (2889, 861), (7110, 6366), (5900, 9973), (33, 1876), (647, 5662), (1198, 5516), (2550, 7300), (7054, 2026), (4083, 6221), (6839, 6409), (3813, 1746), (9945, 5527), (4941, 475), (1791, 9220), (431, 7045), (5845, 9924), (6415, 3316), (4699, 5106), (6551, 4968), (8195, 8141), (9854, 3977), (2499, 781), (6439, 8927), (1355, 7490), (1859, 6521), (9263, 7193), (7553, 7785), (9071, 4298), (2454, 1138), (1586, 6388), (778, 8164), (7431, 5161), (1502, 5116), (9967, 2251), (2515, 3459), (7080, 2326), (3281, 7077), (3805, 2917), (5038, 2336), (3666, 9977), (963, 1147), (4399, 8577), (2090, 1393), (6150, 2868), (5062, 8411), (2949, 6752), (3109, 5582), (974, 967), (9959, 1200), (5784, 652), (3358, 8302), (8208, 3382), (6689, 5390), (8422, 9018), (1966, 975), (998, 8926), (6730, 3989), (9356, 339), (4747, 4638), (4018, 5587), (910, 616), (927, 8896), (3749, 9696), (5597, 5360), (2226, 3975), (9554, 6201), (6120, 1288), (4396, 1578), (8793, 9959), (8646, 3465), (5870, 6945), (4014, 6001), (6443, 7525), (7734, 1241), (4704, 9340), (242, 4970), (8874, 995), (1323, 2497), (217, 9515), (1980, 6492), (2561, 8545), (3773, 5505), (6480, 2131), (4023, 375), (6752, 7980), (6188, 8395), (5157, 9468), (6634, 9347), (7507, 1945), (7349, 7482), (263, 9411), (7929, 1541), (9358, 7021), (985, 4432), (7853, 1633), (3409, 2453), (714, 2617), (4606, 3559), (9076, 8339), (9602, 8997), (5212, 1294), (8498, 8448), (6450, 7814), (5594, 712), (8291, 9173), (7342, 5493), (396, 6146), (1474, 2844), (1888, 9279), (2572, 194), (6355, 7093), (4038, 3689), (5477, 9730), (7090, 1414), (8128, 2349), (3568, 9467), (3666, 6293), (4273, 27), (3872, 5610), (8056, 6370), (4916, 6082), (2422, 9924), (6239, 6210), (8010, 2636), (5559, 2384), (5480, 7129), (7595, 8121), (4215, 4827), (2715, 8603), (2756, 5558), (6692, 6640), (5867, 1638), (3753, 372), (942, 8295), (1578, 9508), (7487, 6937), (6713, 3645), (2301, 9459), (2377, 8803), (6416, 8621), (398, 2526), (4719, 9760), (3592, 8161), (8131, 3358), (4488, 9384), (3784, 4520), (2288, 8697), (453, 3566), (7396, 3449), (9306, 9642), (8637, 882), (5168, 9226), (3822, 8727), (2557, 1562), (8079, 3594), (1432, 3077), (8587, 1489), (4435, 7385), (373, 5285), (8987, 5682), (9207, 8135), (332, 8422), (8491, 9437), (998, 4681), (4708, 5302), (974, 2663), (4585, 1409), (5528, 3198), (8484, 5455), (2674, 5147), (2717, 7539), (5465, 8146), (4979, 7810), (7470, 7370), (8350, 557), (8795, 1294), (6517, 9490), (4899, 8307), (3046, 2), (2656, 9674), (7062, 903), (5782, 7982), (4072, 5811), (2543, 2244), (7673, 7151), (1071, 5397), (7065, 4810), (5937, 8299), (8381, 2260), (804, 6230), (7499, 1068), (9578, 9393), (6125, 9781), (1389, 7573), (5110, 7856), (5113, 139), (988, 6954), (3785, 3263), (7860, 1936), (8576, 1581), (6476, 6471), (3889, 5054), (9224, 3933), (1880, 2417), (7524, 3041), (6746, 8191), (293, 633), (3074, 6137), (3584, 726), (7267, 7553), (129, 8944), (7528, 9229), (7239, 3149), (4152, 5587), (1941, 3759), (8240, 1975), (9009, 1560), (8267, 2168), (7829, 7682), (2713, 4982), (2413, 5617), (3525, 9421), (5129, 6451), (78, 7441), (4996, 252), (8374, 1200), (1601, 3174), (8303, 5877), (4252, 9412), (9827, 2107), (8616, 1825), (4702, 6739), (8498, 2016), (8829, 4), (6922, 2734), (9296, 3241), (1810, 4094), (2859, 3008), (6364, 9763), (3181, 4021), (4383, 7246), (4363, 258), (6494, 7859), (1987, 4037), (265, 7448), (3137, 7564), (2363, 1737), (1203, 8046), (9936, 728), (7751, 5398), (9246, 3342), (8748, 5074), (6852, 6315), (3145, 3476), (6783, 8186), (3939, 3924), (8228, 8891), (9094, 4334), (8569, 7368), (5762, 4828), (2386, 1034), (7016, 4019), (3324, 4556), (1589, 8771), (3528, 7831), (2197, 6884), (8091, 247), (9957, 1445), (604, 6365), (7708, 8131)]\n"
          ],
          "name": "stdout"
        }
      ]
    },
    {
      "metadata": {
        "id": "fN-NXOPgICrk",
        "colab_type": "code",
        "colab": {}
      },
      "cell_type": "code",
      "source": [
        "def distancia(A,B):\n",
        "  if type(A) is int or type(A) is float:\n",
        "    return abs(B-A)\n",
        "  else:\n",
        "    return math.sqrt(sum([(A[i]-B[i])**2 for i in range(len(A))]))"
      ],
      "execution_count": 0,
      "outputs": []
    },
    {
      "metadata": {
        "id": "_pfkJ0OIJvFQ",
        "colab_type": "code",
        "outputId": "a192e6bb-d5b3-4e35-aa1c-cc5b90c93f7c",
        "colab": {
          "base_uri": "https://localhost:8080/",
          "height": 34
        }
      },
      "cell_type": "code",
      "source": [
        "distancia([1,3],[2,5])"
      ],
      "execution_count": 49,
      "outputs": [
        {
          "output_type": "execute_result",
          "data": {
            "text/plain": [
              "2.23606797749979"
            ]
          },
          "metadata": {
            "tags": []
          },
          "execution_count": 49
        }
      ]
    },
    {
      "metadata": {
        "id": "TWFAOQ_gLnyZ",
        "colab_type": "text"
      },
      "cell_type": "markdown",
      "source": [
        "#### Puntos más cercanos por fuerza bruta"
      ]
    },
    {
      "metadata": {
        "id": "7dcv7zEJKS-G",
        "colab_type": "code",
        "outputId": "2634c601-99a1-407d-ccc1-5fd576d68471",
        "colab": {
          "base_uri": "https://localhost:8080/",
          "height": 51
        }
      },
      "cell_type": "code",
      "source": [
        "#Fuerza bruta\n",
        "#@calcular_tiempo\n",
        "def distancia_fuerza_bruta(L): \n",
        "  mejor_distancia = float(\"infinity\") #Modificación, se cambia mejor_distancia por float(\"infinity\")\n",
        "  \n",
        "  A,B = (),()\n",
        "  tamLista=len(L) #Modificación:Se mete tamLista en una variable, en vez de calcularlo 2 veces\n",
        "  for i in range(tamLista):\n",
        "    for j in range(i+1,tamLista):\n",
        "      distanciaActual=distancia(L[i], L[j]) #Modificación:Se mete el cálculo de la distancia en una variable\n",
        "      if distanciaActual<mejor_distancia:\n",
        "        A,B=L[i], L[j]\n",
        "        mejor_distancia=distanciaActual\n",
        "  return [A,B]      \n",
        "        \n",
        "\n",
        "#Modificación: se engloba la función en lanzarFuerzaBruta, para poder calcular el tiempo,\n",
        "#y posteriormente poder reutilizar distancia_fuerza_bruta por separado, sin que calcule el tiempo\n",
        "@calcular_tiempo\n",
        "def lanzarFuerzaBruta(L):\n",
        "  distancia_fuerza_bruta(L)\n",
        "\n",
        "lanzarFuerzaBruta(LISTA_2D[:100])    "
      ],
      "execution_count": 50,
      "outputs": [
        {
          "output_type": "stream",
          "text": [
            "\r\n",
            " Tiempo de ejecución para algoritmo: 0.0119373798370361328125000\n"
          ],
          "name": "stdout"
        }
      ]
    },
    {
      "metadata": {
        "id": "CUtCZHVyPzIw",
        "colab_type": "text"
      },
      "cell_type": "markdown",
      "source": [
        "#### Puntos más cercanos divide y vencerás"
      ]
    },
    {
      "metadata": {
        "id": "zmllxmyxNOxh",
        "colab_type": "code",
        "outputId": "566129cd-34bf-4029-eba3-d0a1af09b90d",
        "colab": {
          "base_uri": "https://localhost:8080/",
          "height": 119
        }
      },
      "cell_type": "code",
      "source": [
        "def distancia_divide_y_venceras(L): #Comparar con mi algoritmo (modificaré mi algoritmo, aplicando sorted)\n",
        "  #Si hay pocos, resolvemos por fuerza bruta\n",
        "  if len(L)<10:\n",
        "    return distancia_fuerza_bruta(L)\n",
        "  \n",
        "  #Corrección (se incluye este fragmento de código ya que no funcionaba con listas de 1 dimensión, fallaba por lambda x:x[0], y en el caso de ser de una dimensión x \n",
        "  #no era un array,sino un valor numérico.\n",
        "  #Además englobo todo en un else, reestructurando código\n",
        "  else:\n",
        "    #L=sorted(L)\n",
        "    if type(L[0]) is int or type(L[0]) is float:      \n",
        "       L=sorted(L)\n",
        "    else:     \n",
        "      L=sorted(L, key=lambda x:x[0])\n",
        "    \n",
        "    LISTA_IZQ = L[:len(L)//2]\n",
        "    LISTA_DER = L[len(L)//2:]\n",
        "\n",
        "    PUNTOS_LISTA_IZQ = distancia_divide_y_venceras(LISTA_IZQ)\n",
        "    PUNTOS_LISTA_DER = distancia_divide_y_venceras(LISTA_DER)\n",
        "\n",
        "    return distancia_fuerza_bruta(PUNTOS_LISTA_IZQ+PUNTOS_LISTA_DER)\n",
        "  \n",
        "  #print(LISTA_IZQ)\n",
        "  #print(LISTA_DER)\n",
        "\n",
        "@calcular_tiempo\n",
        "def LANZA(L):  \n",
        "  return distancia_divide_y_venceras(L) \n",
        "  \n",
        "SOL=LANZA(LISTA_2D) \n",
        "print(SOL)\n",
        "#Prueba con 1 dimensión\n",
        "SOL=LANZA([25,44,38,11,32,90,33]) \n",
        "print(SOL)\n"
      ],
      "execution_count": 119,
      "outputs": [
        {
          "output_type": "stream",
          "text": [
            "\r\n",
            " Tiempo de ejecución para algoritmo: 0.0147278308868408203125000\n",
            "[(2668, 5151), (2674, 5147)]\n",
            "\r\n",
            " Tiempo de ejecución para algoritmo: 0.0000288486480712890625000\n",
            "[32, 33]\n"
          ],
          "name": "stdout"
        }
      ]
    },
    {
      "metadata": {
        "id": "NgCwHmAcxOHi",
        "colab_type": "text"
      },
      "cell_type": "markdown",
      "source": [
        "#### Mi aportación para divide y vencerás"
      ]
    },
    {
      "metadata": {
        "id": "eTPiRvCwxLLl",
        "colab_type": "code",
        "colab": {
          "base_uri": "https://localhost:8080/",
          "height": 119
        },
        "outputId": "b3a0d468-756a-420d-8f5f-4c69f35bf90b"
      },
      "cell_type": "code",
      "source": [
        "#En este algoritmo, parto de un array ordenado\n",
        "#Divido el algoritmo en dos de forma sucesiva\n",
        "def divideVencerasMatriz(matriz):  \n",
        "  \n",
        "  if(len(matriz)<2):   \n",
        "    return matriz\n",
        "  \n",
        "  elif(len(matriz)==2):\n",
        "    punto1=matriz[0]\n",
        "    punto2=matriz[1]\n",
        "    matriz=[punto1,punto2]    \n",
        "    return matriz\n",
        "  else:\n",
        "    \n",
        "    resultado=[0,0]\n",
        "    \n",
        "    #Divido en dos partes la matriz ya ordenada\n",
        "    mitad=int(len(matriz)/2)\n",
        "    matriz1=matriz[0:mitad]\n",
        "    matriz2=matriz[mitad:]\n",
        "        \n",
        "    #distancia de las mitades \n",
        "    #Compruebo la distancia del último elemento de la matriz 1 y del primer elemento de la matriz 2)\n",
        "    distanciaTG=distancia(matriz1[mitad-1],matriz2[0])\n",
        "    \n",
        "    #Ejecuto de manera recursiva el algoritmo para la primera y la segunda parte de forma sucesiva  \n",
        "    minI=divideVencerasMatriz(matriz1)\n",
        "    minD=divideVencerasMatriz(matriz2)\n",
        "    \n",
        "    #print(minI)\n",
        "    #print(minD)\n",
        "    \n",
        "    \n",
        "   \n",
        "    #Si minI tiene dos elementos y minD también, compruebo la distancia\n",
        "    #que hay entre el último elemento del primer array y el primer elemento del segundo\n",
        "    \n",
        "    #Si sólo tiene un elemento cojo como distanciaT la primera distancia obtenida:distanciaTG\n",
        "    #Para más de 1 dimensión, no es suficiente con coger el último elemento y el primero, hay que comparar los dos pares\n",
        "    if(len(minI)>1 and len(minD)>1):\n",
        "      distanciaT=distancia(minI[1],minD[0])\n",
        "    else:      \n",
        "      distanciaT=distanciaTG\n",
        "    \n",
        "    #Compruebo la distancia de los elementos de minI y lo guardo en distanciaI, si sólo hay un elemento\n",
        "    #cojo lo que hay en distanciaT\n",
        "    if(len(minI)==1):\n",
        "      distanciaI=distanciaT     \n",
        "    else:\n",
        "      distanciaI=distancia(minI[0],minI[1])\n",
        "    \n",
        "    #Compruebo la distancia de los elementos de minD, y lo guardo en distanciaD, si sólo hay un elemento\n",
        "    #cojo lo que hay en distanciaT\n",
        "    if(len(minD)==1):\n",
        "      distanciaD=distanciaT      \n",
        "    else:  \n",
        "      distanciaD=distancia(minD[0],minD[1])\n",
        "      \n",
        "    \n",
        "    #Por último miro cual de todas las distancias es la menor, y la guardo en la variable resultado\n",
        "    if(distanciaI<distanciaD and distanciaI<distanciaT and distanciaI<distanciaTG):\n",
        "        resultado=[minI[0],minI[1]] \n",
        "    elif(distanciaD<distanciaI and distanciaD<distanciaT and distanciaD<distanciaTG):\n",
        "        resultado=[minD[0],minD[1]]\n",
        "    elif(distanciaT<distanciaI and distanciaT<distanciaD and distanciaT<distanciaTG):\n",
        "        resultado=[minD[0],minD[1]]     \n",
        "    elif(distanciaTG<distanciaI and distanciaTG<distanciaD and distanciaTG<distanciaT):       \n",
        "        resultado=[matriz1[mitad-1],matriz2[0]] \n",
        "    elif(distanciaI==0 and len(minI)>1):\n",
        "        resultado=[minI[0],minI[1]] \n",
        "        return resultado\n",
        "    elif(distanciaD==0 and len(minD)>1):\n",
        "        resultado=[minD[0],minD[1]] \n",
        "        return resultado    \n",
        "    else:\n",
        "        resultado=[matriz1[mitad-1],matriz2[0]]\n",
        "      \n",
        "      \n",
        "    return resultado\n",
        "      \n",
        "\n",
        "\n",
        "\n",
        "    \n",
        "@calcular_tiempo \n",
        "def divideVencerasMatrizT(matriz): \n",
        "  if type(matriz[0]) is int or type(matriz[0]) is float:      \n",
        "       matriz=sorted(matriz)\n",
        "  else:     \n",
        "      matriz=sorted(matriz, key=lambda x:x[0])\n",
        "  return divideVencerasMatriz(matriz) \n",
        "\n",
        "  \n",
        "\n",
        "print(divideVencerasMatrizT(LISTA_2D))\n",
        "#Prueba con 1 dimensión\n",
        "print(divideVencerasMatrizT([25,44,38,11,32,90,33]))\n",
        "\n",
        "#print(LISTA_2D)\n"
      ],
      "execution_count": 122,
      "outputs": [
        {
          "output_type": "stream",
          "text": [
            "\r\n",
            " Tiempo de ejecución para algoritmo: 0.0058734416961669921875000\n",
            "[(2668, 5151), (2674, 5147)]\n",
            "\r\n",
            " Tiempo de ejecución para algoritmo: 0.0000190734863281250000000\n",
            "[32, 33]\n"
          ],
          "name": "stdout"
        }
      ]
    },
    {
      "metadata": {
        "id": "XnYJ5TBq8pi3",
        "colab_type": "code",
        "colab": {
          "base_uri": "https://localhost:8080/",
          "height": 85
        },
        "outputId": "998f8cd4-6745-4f70-fa5f-e78f76489792"
      },
      "cell_type": "code",
      "source": [
        "print(distancia((2656, 9674), (2668, 5151)))\n",
        "print(distancia((2668, 7826), (2674, 5147)))\n",
        "print(distancia((2668, 5151),(2668, 7826)))\n",
        "print(distancia((4511, 9660), (4433, 9778)))\n"
      ],
      "execution_count": 115,
      "outputs": [
        {
          "output_type": "stream",
          "text": [
            "4523.015918610059\n",
            "2679.0067189165466\n",
            "2675.0\n",
            "141.4496376806954\n"
          ],
          "name": "stdout"
        }
      ]
    },
    {
      "metadata": {
        "id": "UfvI0R0hW-CJ",
        "colab_type": "text"
      },
      "cell_type": "markdown",
      "source": [
        "#### Viaje por el rio"
      ]
    },
    {
      "metadata": {
        "id": "t27GWOmtNSVE",
        "colab_type": "code",
        "outputId": "afd0aaae-8be7-4453-9cd8-b6ec2f587848",
        "colab": {
          "base_uri": "https://localhost:8080/",
          "height": 105
        }
      },
      "cell_type": "code",
      "source": [
        "TARIFAS = [\n",
        "[0,5,4,3,999,999,999],\n",
        "[999,0,999,2,3,999,11],\n",
        "[999,999, 0,1,999,4,10],\n",
        "[999,999,999, 0,5,6,9],\n",
        "[999,999, 999,999,0,999,4],\n",
        "[999,999, 999,999,999,0,3],\n",
        "[999,999,999,999,999,999,0]\n",
        "]\n",
        "\n",
        "#Viaje por el rio\n",
        "def Precios(TARIFAS):\n",
        "  N = len(TARIFAS[0])\n",
        "  \n",
        "  PRECIOS = [ [999]*N for i in[9999]*N]\n",
        "  RUTA = [ [\"\"]*N for i in[9999]*N ]\n",
        "  \n",
        "  \n",
        "  \n",
        "  for i in range(N-1):\n",
        "    for j in range(i+1,N):\n",
        "      MIN = TARIFAS[i][j]\n",
        "      RUTA[i][j] = i\n",
        "      \n",
        "      for k in range(i,j):\n",
        "        if PRECIOS[i][k]+TARIFAS[k][j]<MIN:\n",
        "          #MIN = min(MIN, PRECIOS[i][k]+TARIFAS[k][j]) \n",
        "          MIN=PRECIOS[i][k]+TARIFAS[k][j] #Modificación: guardo en MIN (PRECIOS[i][k]+TARIFAS[k][j]), en lugar de guardar el min de los valores          \n",
        "          RUTA[i][j] = k\n",
        "      PRECIOS[i][j]=MIN\n",
        "  return PRECIOS,RUTA   \n",
        "  \n",
        "PRECIOS,RUTAS = Precios(TARIFAS)  \n",
        "print(PRECIOS)\n",
        "print(\"\\r\\n\")\n",
        "print(RUTAS)\n"
      ],
      "execution_count": 84,
      "outputs": [
        {
          "output_type": "stream",
          "text": [
            "[[999, 5, 4, 3, 8, 8, 11], [999, 999, 999, 2, 3, 8, 7], [999, 999, 999, 1, 6, 4, 7], [999, 999, 999, 999, 5, 6, 9], [999, 999, 999, 999, 999, 999, 4], [999, 999, 999, 999, 999, 999, 3], [999, 999, 999, 999, 999, 999, 999]]\n",
            "\r\n",
            "\n",
            "[['', 0, 0, 0, 1, 2, 5], ['', '', 1, 1, 1, 3, 4], ['', '', '', 2, 3, 2, 5], ['', '', '', '', 3, 3, 3], ['', '', '', '', '', 4, 4], ['', '', '', '', '', '', 5], ['', '', '', '', '', '', '']]\n"
          ],
          "name": "stdout"
        }
      ]
    },
    {
      "metadata": {
        "id": "wRC76JccWeu9",
        "colab_type": "code",
        "outputId": "fb985d79-e234-4af6-95cd-c3911a1d00cb",
        "colab": {
          "base_uri": "https://localhost:8080/",
          "height": 68
        }
      },
      "cell_type": "code",
      "source": [
        "#Pintar la ruta\n",
        "def calcular_ruta(RUTAS, desde, hasta):\n",
        "  if desde == hasta:\n",
        "    #print(\"Ir a :\" + str(desde))\n",
        "    return desde \n",
        "  else:\n",
        "    return str(calcular_ruta(RUTAS, desde, RUTAS[desde][hasta])) +  ',' + str(RUTAS[desde][hasta]) \n",
        "\n",
        "print(\"\\nLa ruta es:\")  \n",
        "calcular_ruta(RUTAS, 0,6)"
      ],
      "execution_count": 0,
      "outputs": [
        {
          "output_type": "stream",
          "text": [
            "\n",
            "La ruta es:\n"
          ],
          "name": "stdout"
        },
        {
          "output_type": "execute_result",
          "data": {
            "text/plain": [
              "'0,0,2,5'"
            ]
          },
          "metadata": {
            "tags": []
          },
          "execution_count": 12
        }
      ]
    },
    {
      "metadata": {
        "id": "0EYZYwJVaqo7",
        "colab_type": "code",
        "colab": {}
      },
      "cell_type": "code",
      "source": [
        "#Órden de complejidad n**3"
      ],
      "execution_count": 0,
      "outputs": []
    }
  ]
}