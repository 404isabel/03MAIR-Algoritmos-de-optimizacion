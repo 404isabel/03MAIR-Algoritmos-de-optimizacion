{
  "nbformat": 4,
  "nbformat_minor": 0,
  "metadata": {
    "colab": {
      "name": "AG2-Isabel_Vazquez.ipynb",
      "version": "0.3.2",
      "provenance": [],
      "collapsed_sections": [],
      "include_colab_link": true
    },
    "kernelspec": {
      "name": "python3",
      "display_name": "Python 3"
    }
  },
  "cells": [
    {
      "cell_type": "markdown",
      "metadata": {
        "id": "view-in-github",
        "colab_type": "text"
      },
      "source": [
        "<a href=\"https://colab.research.google.com/github/404isabel/03MAIR-Algoritmos-de-optimizacion/blob/master/AG2/AG2_Isabel_Vazquez.ipynb\" target=\"_parent\"><img src=\"https://colab.research.google.com/assets/colab-badge.svg\" alt=\"Open In Colab\"/></a>"
      ]
    },
    {
      "metadata": {
        "id": "yUOb0hQAHzOe",
        "colab_type": "text"
      },
      "cell_type": "markdown",
      "source": [
        "Isabel Vázquez - AG2 <br>\n",
        "Actividad Guiada2<br>\n",
        "Url: https://github.com/404isabel/03MAIR-Algoritmos-de-optimizacion/tree/master/AG2<br>"
      ]
    },
    {
      "metadata": {
        "id": "vJV190RoKNjy",
        "colab_type": "code",
        "outputId": "7189cb6e-0cce-4c29-b179-6dde6a43faf5",
        "colab": {
          "base_uri": "https://localhost:8080/",
          "height": 54
        }
      },
      "cell_type": "code",
      "source": [
        "import math\n",
        "import random\n",
        "from time import time\n",
        "def calcular_tiempo(f):\n",
        "   \n",
        "    def wrapper(*args, **kwargs):        \n",
        "        inicio = time()       \n",
        "        resultado = f(*args, **kwargs)       \n",
        "        tiempo = float(time() - inicio)     \n",
        "        print(\"\\r\\n Tiempo de ejecución para algoritmo: \"+\"{0:.25f}\".format(tiempo))\n",
        "        return resultado\n",
        "    \n",
        "    return wrapper\n",
        "\n",
        "N=100\n",
        "LISTA_2D = [ (random.randrange(1,N*10),random.randrange(1,N*10))  for _ in range(N)]\n",
        "print(LISTA_2D)"
      ],
      "execution_count": 20,
      "outputs": [
        {
          "output_type": "stream",
          "text": [
            "[(326, 355), (3, 585), (685, 297), (32, 106), (783, 807), (78, 352), (598, 112), (99, 277), (138, 979), (607, 101), (24, 385), (879, 689), (293, 215), (426, 531), (802, 328), (267, 9), (69, 430), (429, 485), (11, 705), (480, 884), (575, 262), (13, 733), (324, 392), (907, 712), (199, 999), (945, 323), (62, 733), (852, 838), (602, 523), (581, 49), (219, 770), (406, 703), (29, 300), (384, 301), (600, 450), (316, 87), (456, 871), (723, 573), (450, 174), (371, 325), (88, 829), (589, 536), (747, 920), (443, 672), (81, 64), (317, 854), (276, 248), (931, 194), (703, 32), (543, 354), (576, 992), (459, 511), (233, 562), (202, 462), (564, 753), (390, 736), (858, 616), (40, 238), (995, 791), (643, 423), (819, 604), (146, 455), (266, 760), (252, 275), (380, 569), (122, 576), (269, 601), (769, 819), (857, 379), (855, 159), (600, 121), (980, 478), (518, 818), (343, 392), (136, 879), (2, 753), (122, 365), (28, 760), (892, 809), (139, 486), (99, 806), (106, 534), (733, 372), (233, 622), (832, 350), (745, 200), (642, 63), (806, 766), (511, 574), (828, 454), (188, 944), (225, 707), (301, 42), (344, 142), (505, 882), (881, 173), (175, 344), (157, 428), (153, 875), (990, 80)]\n"
          ],
          "name": "stdout"
        }
      ]
    },
    {
      "metadata": {
        "id": "fN-NXOPgICrk",
        "colab_type": "code",
        "colab": {}
      },
      "cell_type": "code",
      "source": [
        "def distancia(A,B):\n",
        "  if type(A) is int or type(A) is float:\n",
        "    return abs(B-A)\n",
        "  else:\n",
        "    return math.sqrt(sum([(A[i]-B[i])**2 for i in range(len(A))]))"
      ],
      "execution_count": 0,
      "outputs": []
    },
    {
      "metadata": {
        "id": "_pfkJ0OIJvFQ",
        "colab_type": "code",
        "outputId": "b68d1079-d3cb-4a07-c53e-04988c795b96",
        "colab": {
          "base_uri": "https://localhost:8080/",
          "height": 34
        }
      },
      "cell_type": "code",
      "source": [
        "distancia([1,3],[2,5])"
      ],
      "execution_count": 22,
      "outputs": [
        {
          "output_type": "execute_result",
          "data": {
            "text/plain": [
              "2.23606797749979"
            ]
          },
          "metadata": {
            "tags": []
          },
          "execution_count": 22
        }
      ]
    },
    {
      "metadata": {
        "id": "TWFAOQ_gLnyZ",
        "colab_type": "text"
      },
      "cell_type": "markdown",
      "source": [
        "#### Puntos más cercanos por fuerza bruta"
      ]
    },
    {
      "metadata": {
        "id": "7dcv7zEJKS-G",
        "colab_type": "code",
        "outputId": "5209eab2-c429-40e0-a8b6-ec5d371da121",
        "colab": {
          "base_uri": "https://localhost:8080/",
          "height": 51
        }
      },
      "cell_type": "code",
      "source": [
        "#Fuerza bruta\n",
        "#@calcular_tiempo\n",
        "def distancia_fuerza_bruta(L): \n",
        "  mejor_distancia = float(\"infinity\") #Modificación, se cambia mejor_distancia por float(\"infinity\")\n",
        "  \n",
        "  A,B = (),()\n",
        "  tamLista=len(L) #Modificación:Se mete tamLista en una variable, en vez de calcularlo 2 veces\n",
        "  for i in range(tamLista):\n",
        "    for j in range(i+1,tamLista):\n",
        "      distanciaActual=distancia(L[i], L[j]) #Modificación:Se mete el cálculo de la distancia en una variable\n",
        "      if distanciaActual<mejor_distancia:\n",
        "        A,B=L[i], L[j]\n",
        "        mejor_distancia=distanciaActual\n",
        "  return [A,B]      \n",
        "        \n",
        "\n",
        "#Modificación: se engloba la función en lanzarFuerzaBruta, para poder calcular el tiempo,\n",
        "#y posteriormente poder reutilizar distancia_fuerza_bruta por separado, sin que calcule el tiempo\n",
        "@calcular_tiempo\n",
        "def lanzarFuerzaBruta(L):\n",
        "  distancia_fuerza_bruta(L)\n",
        "\n",
        "lanzarFuerzaBruta(LISTA_2D)    "
      ],
      "execution_count": 14,
      "outputs": [
        {
          "output_type": "stream",
          "text": [
            "\r\n",
            " Tiempo de ejecución para algoritmo: 1.0698714256286621093750000\n"
          ],
          "name": "stdout"
        }
      ]
    },
    {
      "metadata": {
        "id": "CUtCZHVyPzIw",
        "colab_type": "text"
      },
      "cell_type": "markdown",
      "source": [
        "#### Puntos más cercanos divide y vencerás"
      ]
    },
    {
      "metadata": {
        "id": "zmllxmyxNOxh",
        "colab_type": "code",
        "outputId": "0dafd6c1-7201-46bb-f95f-29da2c81f1a6",
        "colab": {
          "base_uri": "https://localhost:8080/",
          "height": 119
        }
      },
      "cell_type": "code",
      "source": [
        "def distancia_divide_y_venceras(L): #Comparar con mi algoritmo (modificaré mi algoritmo, aplicando sorted)\n",
        "  #Si hay pocos, resolvemos por fuerza bruta\n",
        "  if len(L)<10:\n",
        "    return distancia_fuerza_bruta(L)\n",
        "  \n",
        "  #Corrección (se incluye este fragmento de código ya que no funcionaba con listas de 1 dimensión, fallaba por lambda x:x[0], y en el caso de ser de una dimensión x no era un array,\n",
        "  #sino un valor numérico\n",
        "  #y englobo todo en un else, reestructurando código\n",
        "  else:\n",
        "    L=sorted(L)\n",
        "    if type(L[0]) is int or type(L[0]) is float:      \n",
        "       L=sorted(L)\n",
        "    else:     \n",
        "      L=sorted(L, key=lambda x:x[0])\n",
        "    \n",
        "    LISTA_IZQ = L[:len(L)//2]\n",
        "    LISTA_DER = L[len(L)//2:]\n",
        "\n",
        "    PUNTOS_LISTA_IZQ = distancia_divide_y_venceras(LISTA_IZQ)\n",
        "    PUNTOS_LISTA_DER = distancia_divide_y_venceras(LISTA_DER)\n",
        "\n",
        "    return distancia_fuerza_bruta(PUNTOS_LISTA_IZQ+PUNTOS_LISTA_DER)\n",
        "  \n",
        "  #print(LISTA_IZQ)\n",
        "  #print(LISTA_DER)\n",
        "\n",
        "@calcular_tiempo\n",
        "def LANZA(L):  \n",
        "  return distancia_divide_y_venceras(L) \n",
        "  \n",
        "SOL=LANZA(LISTA_2D) \n",
        "print(SOL)\n",
        "#Prueba con 1 dimensión\n",
        "SOL=LANZA([25,44,38,11,32,90,33]) \n",
        "print(SOL)\n"
      ],
      "execution_count": 33,
      "outputs": [
        {
          "output_type": "stream",
          "text": [
            "\r\n",
            " Tiempo de ejecución para algoritmo: 0.0009880065917968750000000\n",
            "[(598, 112), (600, 121)]\n",
            "\r\n",
            " Tiempo de ejecución para algoritmo: 0.0000278949737548828125000\n",
            "[32, 33]\n"
          ],
          "name": "stdout"
        }
      ]
    },
    {
      "metadata": {
        "id": "NgCwHmAcxOHi",
        "colab_type": "text"
      },
      "cell_type": "markdown",
      "source": [
        "#### Mi aportación para divide y vencerás"
      ]
    },
    {
      "metadata": {
        "id": "eTPiRvCwxLLl",
        "colab_type": "code",
        "colab": {
          "base_uri": "https://localhost:8080/",
          "height": 119
        },
        "outputId": "9759b484-9be7-407d-99c8-b2792108a9db"
      },
      "cell_type": "code",
      "source": [
        "def divideVencerasMatriz(matriz):  \n",
        "  \n",
        "  if(len(matriz)<2):   \n",
        "    return matriz\n",
        "  \n",
        "  elif(len(matriz)==2):\n",
        "    punto1=matriz[0]\n",
        "    punto2=matriz[1]\n",
        "    matriz=[punto1,punto2]    \n",
        "    return matriz\n",
        "  else:\n",
        "    \n",
        "    resultado=[0,0]\n",
        "    \n",
        "    mitad=int(len(matriz)/2)\n",
        "    matriz1=matriz[0:mitad]\n",
        "    matriz2=matriz[mitad:]\n",
        "        \n",
        "    #distancia de las mitades\n",
        "    distanciaTG=distancia(matriz1[mitad-1],matriz2[0])\n",
        "    \n",
        "      \n",
        "    minI=divideVencerasMatriz(matriz1)\n",
        "    minD=divideVencerasMatriz(matriz2)\n",
        "   \n",
        "    \n",
        "    if(len(minI)>1 and len(minD)>1):\n",
        "      distanciaT=distancia(minI[1],minD[0])\n",
        "    else:      \n",
        "      distanciaT=distanciaTG\n",
        "    \n",
        "    if(len(minI)==1):\n",
        "      distanciaI=distanciaT     \n",
        "    else:\n",
        "      distanciaI=distancia(minI[0],minI[1])\n",
        "      \n",
        "    if(len(minD)==1):\n",
        "      distanciaD=distanciaT      \n",
        "    else:  \n",
        "      distanciaD=distancia(minD[0],minD[1])\n",
        "      \n",
        "    \n",
        "    \n",
        "    if(distanciaI<distanciaD and distanciaI<distanciaT and distanciaI<distanciaTG):\n",
        "        resultado=[minI[0],minI[1]] \n",
        "    elif(distanciaD<distanciaI and distanciaD<distanciaT and distanciaD<distanciaTG):\n",
        "        resultado=[minD[0],minD[1]]\n",
        "    elif(distanciaT<distanciaI and distanciaT<distanciaD and distanciaT<distanciaTG):\n",
        "        resultado=[minD[0],minD[1]]     \n",
        "    elif(distanciaTG<distanciaI and distanciaTG<distanciaD and distanciaTG<distanciaT):       \n",
        "        resultado=[matriz1[mitad-1],matriz2[0]]\n",
        "        \n",
        "        \n",
        "    elif(distanciaI==0 and len(minI)>1):\n",
        "        resultado=[minI[0],minI[1]] \n",
        "        return resultado\n",
        "    elif(distanciaD==0 and len(minD)>1):\n",
        "        resultado=[minD[0],minD[1]] \n",
        "        return resultado\n",
        "        \n",
        "    else:\n",
        "        resultado=[matriz1[mitad-1],matriz2[0]]\n",
        "      \n",
        "      \n",
        "    return resultado\n",
        "      \n",
        "\n",
        "    \n",
        "@calcular_tiempo \n",
        "def divideVencerasMatrizT(matriz):\n",
        "  #matriz=bubble_sortDistancia(matriz) \n",
        "  return divideVencerasMatriz(sorted(matriz)) \n",
        "\n",
        "print(divideVencerasMatrizT(LISTA_2D))\n",
        "#Prueba con 1 dimensión\n",
        "print(divideVencerasMatrizT([25,44,38,11,32,90,33]))"
      ],
      "execution_count": 34,
      "outputs": [
        {
          "output_type": "stream",
          "text": [
            "\r\n",
            " Tiempo de ejecución para algoritmo: 0.0006179809570312500000000\n",
            "[(598, 112), (600, 121)]\n",
            "\r\n",
            " Tiempo de ejecución para algoritmo: 0.0000240802764892578125000\n",
            "[32, 33]\n"
          ],
          "name": "stdout"
        }
      ]
    },
    {
      "metadata": {
        "id": "UfvI0R0hW-CJ",
        "colab_type": "text"
      },
      "cell_type": "markdown",
      "source": [
        "#### Viaje por el rio"
      ]
    },
    {
      "metadata": {
        "id": "t27GWOmtNSVE",
        "colab_type": "code",
        "outputId": "b729ba39-372c-4960-e603-bb611ff31d0a",
        "colab": {
          "base_uri": "https://localhost:8080/",
          "height": 105
        }
      },
      "cell_type": "code",
      "source": [
        "TARIFAS = [\n",
        "[0,5,4,3,999,999,999],\n",
        "[999,0,999,2,3,999,11],\n",
        "[999,999, 0,1,999,4,10],\n",
        "[999,999,999, 0,5,6,9],\n",
        "[999,999, 999,999,0,999,4],\n",
        "[999,999, 999,999,999,0,3],\n",
        "[999,999,999,999,999,999,0]\n",
        "]\n",
        "\n",
        "#Viaje por el rio\n",
        "def Precios(TARIFAS):\n",
        "  N = len(TARIFAS[0])\n",
        "  \n",
        "  PRECIOS = [ [999]*N for i in[9999]*N]\n",
        "  RUTA = [ [\"\"]*N for i in[9999]*N ]\n",
        "  \n",
        "  \n",
        "  \n",
        "  for i in range(N-1):\n",
        "    for j in range(i+1,N):\n",
        "      MIN = TARIFAS[i][j]\n",
        "      RUTA[i][j] = i\n",
        "      \n",
        "      for k in range(i,j):\n",
        "        if PRECIOS[i][k]+TARIFAS[k][j]<MIN:\n",
        "          #MIN = min(MIN, PRECIOS[i][k]+TARIFAS[k][j]) \n",
        "          MIN=PRECIOS[i][k]+TARIFAS[k][j]\n",
        "          RUTA[i][j] = k\n",
        "      PRECIOS[i][j]=MIN\n",
        "  return PRECIOS,RUTA   \n",
        "  \n",
        "PRECIOS,RUTAS = Precios(TARIFAS)  \n",
        "print(PRECIOS)\n",
        "print(\"\\r\\n\")\n",
        "print(RUTAS)\n"
      ],
      "execution_count": 1,
      "outputs": [
        {
          "output_type": "stream",
          "text": [
            "[[999, 5, 4, 3, 8, 8, 11], [999, 999, 999, 2, 3, 8, 7], [999, 999, 999, 1, 6, 4, 7], [999, 999, 999, 999, 5, 6, 9], [999, 999, 999, 999, 999, 999, 4], [999, 999, 999, 999, 999, 999, 3], [999, 999, 999, 999, 999, 999, 999]]\n",
            "\r\n",
            "\n",
            "[['', 0, 0, 0, 1, 2, 5], ['', '', 1, 1, 1, 3, 4], ['', '', '', 2, 3, 2, 5], ['', '', '', '', 3, 3, 3], ['', '', '', '', '', 4, 4], ['', '', '', '', '', '', 5], ['', '', '', '', '', '', '']]\n"
          ],
          "name": "stdout"
        }
      ]
    },
    {
      "metadata": {
        "id": "wRC76JccWeu9",
        "colab_type": "code",
        "outputId": "fb985d79-e234-4af6-95cd-c3911a1d00cb",
        "colab": {
          "base_uri": "https://localhost:8080/",
          "height": 68
        }
      },
      "cell_type": "code",
      "source": [
        "#Pintar la ruta\n",
        "def calcular_ruta(RUTAS, desde, hasta):\n",
        "  if desde == hasta:\n",
        "    #print(\"Ir a :\" + str(desde))\n",
        "    return desde \n",
        "  else:\n",
        "    return str(calcular_ruta(RUTAS, desde, RUTAS[desde][hasta])) +  ',' + str(RUTAS[desde][hasta]) \n",
        "\n",
        "print(\"\\nLa ruta es:\")  \n",
        "calcular_ruta(RUTAS, 0,6)"
      ],
      "execution_count": 0,
      "outputs": [
        {
          "output_type": "stream",
          "text": [
            "\n",
            "La ruta es:\n"
          ],
          "name": "stdout"
        },
        {
          "output_type": "execute_result",
          "data": {
            "text/plain": [
              "'0,0,2,5'"
            ]
          },
          "metadata": {
            "tags": []
          },
          "execution_count": 12
        }
      ]
    },
    {
      "metadata": {
        "id": "0EYZYwJVaqo7",
        "colab_type": "code",
        "colab": {}
      },
      "cell_type": "code",
      "source": [
        "#Órden de complejidad n**3"
      ],
      "execution_count": 0,
      "outputs": []
    }
  ]
}