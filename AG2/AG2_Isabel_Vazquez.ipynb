{
  "nbformat": 4,
  "nbformat_minor": 0,
  "metadata": {
    "colab": {
      "name": "AG2-Isabel_Vazquez.ipynb",
      "version": "0.3.2",
      "provenance": [],
      "collapsed_sections": [],
      "include_colab_link": true
    },
    "kernelspec": {
      "name": "python3",
      "display_name": "Python 3"
    }
  },
  "cells": [
    {
      "cell_type": "markdown",
      "metadata": {
        "id": "view-in-github",
        "colab_type": "text"
      },
      "source": [
        "<a href=\"https://colab.research.google.com/github/404isabel/03MAIR-Algoritmos-de-optimizacion/blob/master/AG2/AG2_Isabel_Vazquez.ipynb\" target=\"_parent\"><img src=\"https://colab.research.google.com/assets/colab-badge.svg\" alt=\"Open In Colab\"/></a>"
      ]
    },
    {
      "metadata": {
        "id": "yUOb0hQAHzOe",
        "colab_type": "text"
      },
      "cell_type": "markdown",
      "source": [
        "Isabel Vázquez - AG2 <br>\n",
        "Actividad Guiada2<br>\n",
        "Url: https://github.com/404isabel/03MAIR-Algoritmos-de-optimizacion/tree/master/AG2<br>"
      ]
    },
    {
      "metadata": {
        "id": "vJV190RoKNjy",
        "colab_type": "code",
        "colab": {}
      },
      "cell_type": "code",
      "source": [
        "import math\n",
        "import random\n",
        "from time import time\n",
        "def calcular_tiempo(f):\n",
        "   \n",
        "    def wrapper(*args, **kwargs):        \n",
        "        inicio = time()       \n",
        "        resultado = f(*args, **kwargs)       \n",
        "        tiempo = float(time() - inicio)     \n",
        "        print(\"\\r\\n Tiempo de ejecución para algoritmo: \"+\"{0:.25f}\".format(tiempo))\n",
        "        return resultado\n",
        "    \n",
        "    return wrapper\n",
        "\n",
        "N=10000\n",
        "LISTA_2D = [ (random.randrange(1,N*10),random.randrange(1,N*10))  for _ in range(N)]\n",
        "#print(LISTA_2D)"
      ],
      "execution_count": 0,
      "outputs": []
    },
    {
      "metadata": {
        "id": "fN-NXOPgICrk",
        "colab_type": "code",
        "colab": {}
      },
      "cell_type": "code",
      "source": [
        "def distancia(A,B):\n",
        "  if type(A) is int or type(A) is float:\n",
        "    return abs(B-A)\n",
        "  else:\n",
        "    return math.sqrt(sum([(A[i]-B[i])**2 for i in range(len(A))]))"
      ],
      "execution_count": 0,
      "outputs": []
    },
    {
      "metadata": {
        "id": "_pfkJ0OIJvFQ",
        "colab_type": "code",
        "outputId": "2e73a00a-5f65-4d57-d1f5-6bb676c92553",
        "colab": {
          "base_uri": "https://localhost:8080/",
          "height": 34
        }
      },
      "cell_type": "code",
      "source": [
        "distancia([1,3],[2,5])"
      ],
      "execution_count": 177,
      "outputs": [
        {
          "output_type": "execute_result",
          "data": {
            "text/plain": [
              "2.23606797749979"
            ]
          },
          "metadata": {
            "tags": []
          },
          "execution_count": 177
        }
      ]
    },
    {
      "metadata": {
        "id": "TWFAOQ_gLnyZ",
        "colab_type": "text"
      },
      "cell_type": "markdown",
      "source": [
        "#### Puntos más cercanos por fuerza bruta"
      ]
    },
    {
      "metadata": {
        "id": "7dcv7zEJKS-G",
        "colab_type": "code",
        "outputId": "27951832-77f1-4840-b271-28c1fccd7a5d",
        "colab": {
          "base_uri": "https://localhost:8080/",
          "height": 51
        }
      },
      "cell_type": "code",
      "source": [
        "#Fuerza bruta\n",
        "def distancia_fuerza_bruta(L): \n",
        "  mejor_distancia = float(\"infinity\") #Modificación, se cambia mejor_distancia por float(\"infinity\")\n",
        "  \n",
        "  A,B = (),()\n",
        "  tamLista=len(L) #Modificación:Se mete tamLista en una variable, en vez de calcularlo 2 veces\n",
        "  for i in range(tamLista):\n",
        "    for j in range(i+1,tamLista):\n",
        "      distanciaActual=distancia(L[i], L[j]) #Modificación:Se mete el cálculo de la distancia en una variable\n",
        "      if distanciaActual<mejor_distancia:\n",
        "        A,B=L[i], L[j]\n",
        "        mejor_distancia=distanciaActual\n",
        "  return [A,B]      \n",
        "        \n",
        "\n",
        "#Modificación: se engloba la función en lanzarFuerzaBruta, para poder calcular el tiempo,\n",
        "#y posteriormente poder reutilizar distancia_fuerza_bruta por separado, sin que calcule el tiempo\n",
        "@calcular_tiempo\n",
        "def lanzarFuerzaBruta(L):\n",
        "  distancia_fuerza_bruta(L)\n",
        "\n",
        "lanzarFuerzaBruta(LISTA_2D[:100])    "
      ],
      "execution_count": 178,
      "outputs": [
        {
          "output_type": "stream",
          "text": [
            "\r\n",
            " Tiempo de ejecución para algoritmo: 0.0144066810607910156250000\n"
          ],
          "name": "stdout"
        }
      ]
    },
    {
      "metadata": {
        "id": "CUtCZHVyPzIw",
        "colab_type": "text"
      },
      "cell_type": "markdown",
      "source": [
        "#### Puntos más cercanos divide y vencerás"
      ]
    },
    {
      "metadata": {
        "id": "zmllxmyxNOxh",
        "colab_type": "code",
        "outputId": "a0e94dda-4f9a-4c91-e066-e2486d4ccc51",
        "colab": {
          "base_uri": "https://localhost:8080/",
          "height": 255
        }
      },
      "cell_type": "code",
      "source": [
        "def distancia_divide_y_venceras(L): \n",
        "  #Si hay pocos, resolvemos por fuerza bruta\n",
        "  if len(L)<10:\n",
        "    return distancia_fuerza_bruta(L)\n",
        "  \n",
        "  #Corrección (se incluye este fragmento de código ya que no funcionaba con listas de 1 dimensión, fallaba por lambda x:x[0], y en el caso de ser de una dimensión x \n",
        "  #no era un array,sino un valor numérico.\n",
        "  #Además englobo todo en un else, reestructurando código\n",
        "  else:  \n",
        "    if type(L[0]) is int or type(L[0]) is float:      \n",
        "       L=sorted(L)\n",
        "    else:     \n",
        "      L=sorted(L, key=lambda x:x[0])\n",
        "    \n",
        "    LISTA_IZQ = L[:len(L)//2]\n",
        "    LISTA_DER = L[len(L)//2:]\n",
        "\n",
        "    PUNTOS_LISTA_IZQ = distancia_divide_y_venceras(LISTA_IZQ)\n",
        "    PUNTOS_LISTA_DER = distancia_divide_y_venceras(LISTA_DER)\n",
        "    return distancia_fuerza_bruta(PUNTOS_LISTA_IZQ+PUNTOS_LISTA_DER) \n",
        "  \n",
        "@calcular_tiempo\n",
        "def LANZA(L):  \n",
        "  return distancia_divide_y_venceras(L) \n",
        "\n",
        "#Prueba con el mismo número de elementos empleado para el algoritmo de fuerza bruta\n",
        "print(\"----- Con 100 elementos:\")\n",
        "SOL1=LANZA(LISTA_2D[:100]) \n",
        "print(SOL1)\n",
        "#Prueba con 1 dimensión\n",
        "print(\"\\r\\n ----- Con 1 dimensión:\")\n",
        "SOL=LANZA([25,44,38,11,32,90,33]) \n",
        "print(SOL)\n",
        "print(\"\\r\\n------- Con 10000 elementos:\")\n",
        "SOL=LANZA(LISTA_2D) \n",
        "print(SOL)\n"
      ],
      "execution_count": 179,
      "outputs": [
        {
          "output_type": "stream",
          "text": [
            "----- Con 100 elementos:\n",
            "\r\n",
            " Tiempo de ejecución para algoritmo: 0.0018386840820312500000000\n",
            "[(86411, 76254), (86910, 75747)]\n",
            "\r\n",
            " ----- Con 1 dimensión:\n",
            "\r\n",
            " Tiempo de ejecución para algoritmo: 0.0000271797180175781250000\n",
            "[32, 33]\n",
            "\r\n",
            "------- Con 10000 elementos:\n",
            "\r\n",
            " Tiempo de ejecución para algoritmo: 0.1156432628631591796875000\n",
            "[(38446, 91081), (38450, 91085)]\n"
          ],
          "name": "stdout"
        }
      ]
    },
    {
      "metadata": {
        "id": "NgCwHmAcxOHi",
        "colab_type": "text"
      },
      "cell_type": "markdown",
      "source": [
        "#### Mi aportación para divide y vencerás"
      ]
    },
    {
      "metadata": {
        "id": "eTPiRvCwxLLl",
        "colab_type": "code",
        "colab": {
          "base_uri": "https://localhost:8080/",
          "height": 187
        },
        "outputId": "b1cea1f2-9b3e-45dc-88e6-cda589f624af"
      },
      "cell_type": "code",
      "source": [
        "#En este algoritmo, parto de un array ordenado\n",
        "#Voy dividiendo el algoritmo en dos de forma sucesiva y calculando las distancias\n",
        "#de la matriz 1 y la matriz 2, así como sus elementos adyacentes\n",
        "#es decir el último de matriz 1 y el primero de matriz 2\n",
        "#Me quedo con la menor distancia obtenida\n",
        "def divideVencerasMatriz(matriz):  \n",
        "  \n",
        "  if(len(matriz)<2):   \n",
        "    return matriz\n",
        "  \n",
        "  elif(len(matriz)==2):\n",
        "    punto1=matriz[0]\n",
        "    punto2=matriz[1]\n",
        "    matriz=[punto1,punto2]    \n",
        "    return matriz\n",
        "  else:\n",
        "    \n",
        "    resultado=[0,0]\n",
        "    \n",
        "    #Divido en dos partes la matriz ya ordenada\n",
        "    mitad=int(len(matriz)/2)\n",
        "    matriz1=matriz[0:mitad]\n",
        "    matriz2=matriz[mitad:]\n",
        "        \n",
        "    #distancia de las mitades \n",
        "    #Compruebo la distancia del último elemento de la matriz 1 y del primer elemento de la matriz 2)\n",
        "    distanciaTG=distancia(matriz1[mitad-1],matriz2[0])\n",
        "    \n",
        "    #Ejecuto de manera recursiva el algoritmo para la primera y la segunda parte de forma sucesiva  \n",
        "    minI=divideVencerasMatriz(matriz1)\n",
        "    minD=divideVencerasMatriz(matriz2)\n",
        "    \n",
        "   \n",
        "    #Si minI tiene dos elementos y minD también, compruebo la distancia\n",
        "    #que hay entre el último elemento del primer array y el primer elemento del segundo\n",
        "    \n",
        "    #Si sólo tiene un elemento cojo como distanciaT la primera distancia obtenida:distanciaTG\n",
        "    #Para más de 1 dimensión, no es suficiente con coger el último elemento y el primero, hay que comparar los dos pares\n",
        "    if(len(minI)>1 and len(minD)>1):\n",
        "      distanciaT=distancia(minI[1],minD[0])\n",
        "    else:      \n",
        "      distanciaT=distanciaTG\n",
        "    \n",
        "    #Compruebo la distancia de los elementos de minI y lo guardo en distanciaI, si sólo hay un elemento\n",
        "    #cojo lo que hay en distanciaT\n",
        "    if(len(minI)==1):\n",
        "      distanciaI=distanciaT     \n",
        "    else:\n",
        "      distanciaI=distancia(minI[0],minI[1])\n",
        "    \n",
        "    #Compruebo la distancia de los elementos de minD, y lo guardo en distanciaD, si sólo hay un elemento\n",
        "    #cojo lo que hay en distanciaT\n",
        "    if(len(minD)==1):\n",
        "      distanciaD=distanciaT      \n",
        "    else:  \n",
        "      distanciaD=distancia(minD[0],minD[1])\n",
        "      \n",
        "    \n",
        "    #Por último miro cual de todas las distancias es la menor, y la guardo en la variable resultado\n",
        "    if(distanciaI<distanciaD and distanciaI<distanciaT and distanciaI<distanciaTG):\n",
        "        resultado=[minI[0],minI[1]] \n",
        "    elif(distanciaD<distanciaI and distanciaD<distanciaT and distanciaD<distanciaTG):\n",
        "        resultado=[minD[0],minD[1]]\n",
        "    elif(distanciaT<distanciaI and distanciaT<distanciaD and distanciaT<distanciaTG):\n",
        "        resultado=[minD[0],minD[1]]     \n",
        "    elif(distanciaTG<distanciaI and distanciaTG<distanciaD and distanciaTG<distanciaT):       \n",
        "        resultado=[matriz1[mitad-1],matriz2[0]] \n",
        "    elif(distanciaI==0 and len(minI)>1):\n",
        "        resultado=[minI[0],minI[1]] \n",
        "        return resultado\n",
        "    elif(distanciaD==0 and len(minD)>1):\n",
        "        resultado=[minD[0],minD[1]] \n",
        "        return resultado    \n",
        "    else:\n",
        "        resultado=[matriz1[mitad-1],matriz2[0]]\n",
        "      \n",
        "      \n",
        "    return resultado\n",
        "      \n",
        "\n",
        "@calcular_tiempo \n",
        "def divideVencerasMatrizT(matriz): \n",
        "  if type(matriz[0]) is int or type(matriz[0]) is float:      \n",
        "       matriz=sorted(matriz)\n",
        "  else:     \n",
        "      matriz=sorted(matriz, key=lambda x:x[0])\n",
        "  return divideVencerasMatriz(matriz) \n",
        "\n",
        "\n",
        "#Prueba con 1 dimensión\n",
        "print(\"\\r\\n ---- Con 1 dimensión:\")\n",
        "print(divideVencerasMatrizT([25,44,38,11,32,90,33]))\n",
        "print(\"\\r\\n ---- Con 10000 elementos:\")\n",
        "print(divideVencerasMatrizT(LISTA_2D))\n",
        "\n"
      ],
      "execution_count": 180,
      "outputs": [
        {
          "output_type": "stream",
          "text": [
            "\r\n",
            " ---- Con 1 dimensión:\n",
            "\r\n",
            " Tiempo de ejecución para algoritmo: 0.0000240802764892578125000\n",
            "[32, 33]\n",
            "\r\n",
            " ---- Con 10000 elementos:\n",
            "\r\n",
            " Tiempo de ejecución para algoritmo: 0.0611236095428466796875000\n",
            "[(38446, 91081), (38450, 91085)]\n"
          ],
          "name": "stdout"
        }
      ]
    },
    {
      "metadata": {
        "id": "UfvI0R0hW-CJ",
        "colab_type": "text"
      },
      "cell_type": "markdown",
      "source": [
        "#### Viaje por el rio"
      ]
    },
    {
      "metadata": {
        "id": "t27GWOmtNSVE",
        "colab_type": "code",
        "outputId": "99aa6557-7af4-4551-eb6a-65dc13da5364",
        "colab": {
          "base_uri": "https://localhost:8080/",
          "height": 85
        }
      },
      "cell_type": "code",
      "source": [
        "TARIFAS = [\n",
        "[0,5,4,3,999,999,999],\n",
        "[999,0,999,2,3,999,11],\n",
        "[999,999, 0,1,999,4,10],\n",
        "[999,999,999, 0,5,6,9],\n",
        "[999,999, 999,999,0,999,4],\n",
        "[999,999, 999,999,999,0,3],\n",
        "[999,999,999,999,999,999,0]\n",
        "]\n",
        "\n",
        "#Viaje por el rio\n",
        "def Precios(TARIFAS):\n",
        "  N = len(TARIFAS[0])\n",
        "  \n",
        "  PRECIOS = [ [999]*N for i in[9999]*N]\n",
        "  RUTA = [ [\"\"]*N for i in[9999]*N ]\n",
        "  \n",
        "  \n",
        "  \n",
        "  for i in range(N-1):\n",
        "    for j in range(i+1,N):\n",
        "      MIN = TARIFAS[i][j]\n",
        "      RUTA[i][j] = i\n",
        "      \n",
        "      for k in range(i,j):\n",
        "        if PRECIOS[i][k]+TARIFAS[k][j]<MIN:\n",
        "          #MIN = min(MIN, PRECIOS[i][k]+TARIFAS[k][j]) \n",
        "          MIN=PRECIOS[i][k]+TARIFAS[k][j] #Modificación: guardo en MIN (PRECIOS[i][k]+TARIFAS[k][j]), en lugar de guardar el min de los valores          \n",
        "          RUTA[i][j] = k\n",
        "      PRECIOS[i][j]=MIN\n",
        "  return PRECIOS,RUTA   \n",
        "  \n",
        "PRECIOS,RUTAS = Precios(TARIFAS)  \n",
        "print(PRECIOS)\n",
        "print(\"\\r\\n\")\n",
        "print(RUTAS)\n"
      ],
      "execution_count": 181,
      "outputs": [
        {
          "output_type": "stream",
          "text": [
            "[[999, 5, 4, 3, 8, 8, 11], [999, 999, 999, 2, 3, 8, 7], [999, 999, 999, 1, 6, 4, 7], [999, 999, 999, 999, 5, 6, 9], [999, 999, 999, 999, 999, 999, 4], [999, 999, 999, 999, 999, 999, 3], [999, 999, 999, 999, 999, 999, 999]]\n",
            "\r\n",
            "\n",
            "[['', 0, 0, 0, 1, 2, 5], ['', '', 1, 1, 1, 3, 4], ['', '', '', 2, 3, 2, 5], ['', '', '', '', 3, 3, 3], ['', '', '', '', '', 4, 4], ['', '', '', '', '', '', 5], ['', '', '', '', '', '', '']]\n"
          ],
          "name": "stdout"
        }
      ]
    },
    {
      "metadata": {
        "id": "wRC76JccWeu9",
        "colab_type": "code",
        "outputId": "f290d5cc-8b32-4f52-9848-0a462878934a",
        "colab": {
          "base_uri": "https://localhost:8080/",
          "height": 68
        }
      },
      "cell_type": "code",
      "source": [
        "#Pintar la ruta\n",
        "def calcular_ruta(RUTAS, desde, hasta):\n",
        "  if desde == hasta:\n",
        "    #print(\"Ir a :\" + str(desde))\n",
        "    return desde \n",
        "  else:\n",
        "    return str(calcular_ruta(RUTAS, desde, RUTAS[desde][hasta])) +  ',' + str(RUTAS[desde][hasta]) \n",
        "\n",
        "print(\"\\nLa ruta es:\")  \n",
        "calcular_ruta(RUTAS, 0,6)"
      ],
      "execution_count": 174,
      "outputs": [
        {
          "output_type": "stream",
          "text": [
            "\n",
            "La ruta es:\n"
          ],
          "name": "stdout"
        },
        {
          "output_type": "execute_result",
          "data": {
            "text/plain": [
              "'0,0,2,5'"
            ]
          },
          "metadata": {
            "tags": []
          },
          "execution_count": 174
        }
      ]
    },
    {
      "metadata": {
        "id": "0EYZYwJVaqo7",
        "colab_type": "code",
        "colab": {}
      },
      "cell_type": "code",
      "source": [
        "#Órden de complejidad n**3"
      ],
      "execution_count": 0,
      "outputs": []
    }
  ]
}