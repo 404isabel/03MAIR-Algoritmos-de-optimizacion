{
  "nbformat": 4,
  "nbformat_minor": 0,
  "metadata": {
    "colab": {
      "name": "PuntosCercanos.ipynb",
      "version": "0.3.2",
      "provenance": [],
      "collapsed_sections": [],
      "include_colab_link": true
    },
    "kernelspec": {
      "name": "python3",
      "display_name": "Python 3"
    }
  },
  "cells": [
    {
      "cell_type": "markdown",
      "metadata": {
        "id": "view-in-github",
        "colab_type": "text"
      },
      "source": [
        "<a href=\"https://colab.research.google.com/github/404isabel/03MAIR-Algoritmos-de-optimizacion/blob/master/Utilidades/PuntosCercanos.ipynb\" target=\"_parent\"><img src=\"https://colab.research.google.com/assets/colab-badge.svg\" alt=\"Open In Colab\"/></a>"
      ]
    },
    {
      "metadata": {
        "id": "vdF9GqxDIWsC",
        "colab_type": "text"
      },
      "cell_type": "markdown",
      "source": [
        "Suponer en 1D, o sea, una lista de números: [3403, 4537, 9089, 9746, 7259, ….\n",
        "\n",
        "Primer intento: Fuerza bruta\n",
        "\n",
        "Calcular la complejidad. ¿Se puede mejorar?\n",
        "\n",
        "Segundo intento. Aplicar Divide y Vencerás\n",
        "\n",
        "Calcular la complejidad. ¿Se puede mejorar?\n",
        "\n",
        "Extender el algoritmo a 2D: [(1122, 6175), (135, 4076), (7296, 2741)…\n",
        "\n",
        "Extender el algoritmo a 3D y nD\n",
        "\n",
        "Investiga sobre el problema.Aplicaciones, métodos de resolución, curiosidades, historia,..."
      ]
    },
    {
      "metadata": {
        "id": "nGPL_xtrIi3f",
        "colab_type": "code",
        "colab": {
          "base_uri": "https://localhost:8080/",
          "height": 119
        },
        "outputId": "1294fc5e-3ebb-41ef-b7e7-2795980128ca"
      },
      "cell_type": "code",
      "source": [
        "from time import time\n",
        "import random\n",
        "def calcular_tiempo(f):\n",
        "   \n",
        "    def wrapper(*args, **kwargs):        \n",
        "        inicio = time()       \n",
        "        resultado = f(*args, **kwargs)       \n",
        "        tiempo = float(time() - inicio)     \n",
        "        print(\"\\r\\n Tiempo de ejecución para algoritmo: \"+\"{0:.25f}\".format(tiempo))\n",
        "        return resultado\n",
        "    \n",
        "    return wrapper\n",
        "\n",
        "\n",
        "\n",
        "lista1 = [random.randrange(1,1000) for x in range(200) ]\n",
        "lista2 = [2,28,30,7,22,9]\n",
        "@calcular_tiempo\n",
        "def puntosCercanosFuerza(lista):\n",
        "  #Fuerza bruta\n",
        "  resultado=[0,0]\n",
        "  tmp=0\n",
        "  for i in range(len(lista)):\n",
        "    for j in range(len(lista)):    \n",
        "      if tmp==0:\n",
        "        tmp=abs(lista[i]-lista[j])\n",
        "      if tmp!=0 and abs(lista[i]-lista[j])<tmp and i!=j:      \n",
        "        tmp=abs(lista[i]-lista[j])\n",
        "        resultado[0]=lista[i]\n",
        "        resultado[1]=lista[j]\n",
        "  print(resultado)\n",
        "      \n",
        "puntosCercanosFuerza(lista1) \n",
        "puntosCercanosFuerza(lista2) \n",
        "  \n",
        "\n"
      ],
      "execution_count": 32,
      "outputs": [
        {
          "output_type": "stream",
          "text": [
            "[503, 501]\n",
            "\r\n",
            " Tiempo de ejecución para algoritmo: 0.0100362300872802734375000\n",
            "[28, 30]\n",
            "\r\n",
            " Tiempo de ejecución para algoritmo: 0.0000343322753906250000000\n"
          ],
          "name": "stdout"
        }
      ]
    },
    {
      "metadata": {
        "id": "c48Bsg-7JE1i",
        "colab_type": "code",
        "colab": {}
      },
      "cell_type": "code",
      "source": [
        ""
      ],
      "execution_count": 0,
      "outputs": []
    }
  ]
}