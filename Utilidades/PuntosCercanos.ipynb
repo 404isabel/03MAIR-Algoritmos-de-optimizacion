{
  "nbformat": 4,
  "nbformat_minor": 0,
  "metadata": {
    "colab": {
      "name": "PuntosCercanos.ipynb",
      "version": "0.3.2",
      "provenance": [],
      "collapsed_sections": [],
      "include_colab_link": true
    },
    "kernelspec": {
      "name": "python3",
      "display_name": "Python 3"
    }
  },
  "cells": [
    {
      "cell_type": "markdown",
      "metadata": {
        "id": "view-in-github",
        "colab_type": "text"
      },
      "source": [
        "<a href=\"https://colab.research.google.com/github/404isabel/03MAIR-Algoritmos-de-optimizacion/blob/master/Utilidades/PuntosCercanos.ipynb\" target=\"_parent\"><img src=\"https://colab.research.google.com/assets/colab-badge.svg\" alt=\"Open In Colab\"/></a>"
      ]
    },
    {
      "metadata": {
        "id": "vdF9GqxDIWsC",
        "colab_type": "text"
      },
      "cell_type": "markdown",
      "source": [
        "Suponer en 1D, o sea, una lista de números: [3403, 4537, 9089, 9746, 7259, ….\n",
        "\n",
        "Primer intento: Fuerza bruta\n",
        "\n",
        "Calcular la complejidad. ¿Se puede mejorar?\n",
        "\n",
        "Segundo intento. Aplicar Divide y Vencerás\n",
        "\n",
        "Calcular la complejidad. ¿Se puede mejorar?\n",
        "\n",
        "Extender el algoritmo a 2D: [(1122, 6175), (135, 4076), (7296, 2741)…\n",
        "\n",
        "Extender el algoritmo a 3D y nD\n",
        "\n",
        "Investiga sobre el problema.Aplicaciones, métodos de resolución, curiosidades, historia,..."
      ]
    },
    {
      "metadata": {
        "id": "nGPL_xtrIi3f",
        "colab_type": "code",
        "outputId": "a6237d64-6afd-4afe-92b7-2ec0dad769ac",
        "colab": {
          "base_uri": "https://localhost:8080/",
          "height": 68
        }
      },
      "cell_type": "code",
      "source": [
        "from time import time\n",
        "import random\n",
        "l2 = [60,20,5,40,8,50,10,82,6,103,1,700,600,440,88,750,650,799,490,666,333,222,812,595,110,120,186,999,15,45,70,520,560,680]\n",
        "LISTA_2D = [ (random.randrange(1,100*10),random.randrange(1,100*10))  for _ in range(100)]\n",
        "\n",
        "\n",
        "def calcular_tiempo(f):\n",
        "   \n",
        "    def wrapper(*args, **kwargs):        \n",
        "        inicio = time()       \n",
        "        resultado = f(*args, **kwargs)       \n",
        "        tiempo = float(time() - inicio)     \n",
        "        print(\"\\r\\n Tiempo de ejecución para algoritmo: \"+\"{0:.25f}\".format(tiempo))\n",
        "        return resultado\n",
        "    \n",
        "    return wrapper\n",
        "\n",
        "\n",
        "\n",
        "@calcular_tiempo\n",
        "def puntosCercanosFuerza(lista):\n",
        "  punto1=0\n",
        "  punto2=0\n",
        "  if(len(lista)<2):\n",
        "    print(\"La lista tiene que tener al menos 2 elementos\")\n",
        "  \n",
        "  elif(len(lista)==2):\n",
        "    punto1=lista[0]\n",
        "    punto2=lista[1]\n",
        "    \n",
        "  else:  \n",
        "    tmp=0\n",
        "    for i in range(len(lista)):\n",
        "      for j in range(len(lista)):    \n",
        "        if tmp==0:\n",
        "          tmp=abs(lista[i]-lista[j])\n",
        "        if tmp!=0 and abs(lista[i]-lista[j])<tmp and i!=j:      \n",
        "          tmp=abs(lista[i]-lista[j])        \n",
        "          punto1=lista[i]\n",
        "          punto2=lista[j]\n",
        "        \n",
        "  print(\"Punto a: \"+str(punto1)+\" Punto b: \"+str(punto2))\n",
        "      \n",
        "puntosCercanosFuerza(l2) \n",
        "  \n",
        "\n"
      ],
      "execution_count": 3,
      "outputs": [
        {
          "output_type": "stream",
          "text": [
            "Punto a: 5 Punto b: 6\n",
            "\r\n",
            " Tiempo de ejecución para algoritmo: 0.0009462833404541015625000\n"
          ],
          "name": "stdout"
        }
      ]
    },
    {
      "metadata": {
        "id": "aS2abN4zSTYL",
        "colab_type": "text"
      },
      "cell_type": "markdown",
      "source": [
        "#### Dado que se trata de dos bucles anidados, la complejidad es de tipo cuadrático"
      ]
    },
    {
      "metadata": {
        "id": "1i4XKDPGSueS",
        "colab_type": "text"
      },
      "cell_type": "markdown",
      "source": [
        "#### Técnica divide y vencerás\n",
        "\n"
      ]
    },
    {
      "metadata": {
        "id": "JCtrZq36Tu82",
        "colab_type": "code",
        "outputId": "59022cbf-62e6-4403-b7ef-af8951ebf487",
        "colab": {
          "base_uri": "https://localhost:8080/",
          "height": 68
        }
      },
      "cell_type": "code",
      "source": [
        "def divideVenceras(lista):  \n",
        "  \n",
        "  if(len(lista)<2):\n",
        "    #print(\"La lista tiene que tener al menos 2 elementos\")\n",
        "    return lista\n",
        "  \n",
        "  elif(len(lista)==2):\n",
        "    punto1=lista[0]\n",
        "    punto2=lista[1]\n",
        "    lista=[punto1,punto2]    \n",
        "    return lista\n",
        "  else:\n",
        "    \n",
        "    resultado=[0,0]\n",
        "    \n",
        "    mitad=int(len(lista)/2)\n",
        "    lista1=lista[0:mitad]\n",
        "    lista2=lista[mitad:]\n",
        "        \n",
        "    #distancia de las mitades\n",
        "    distanciaTG=abs(lista1[mitad-1]-lista2[0])\n",
        "    \n",
        "      \n",
        "    minI=divideVenceras(lista1)\n",
        "    minD=divideVenceras(lista2)\n",
        "   \n",
        "    \n",
        "    if(len(minI)>1 and len(minD)>1):\n",
        "      distanciaT=abs(minI[1]-minD[0])\n",
        "    else:      \n",
        "      distanciaT=distanciaTG\n",
        "    \n",
        "    if(len(minI)==1):\n",
        "      distanciaI=distanciaT     \n",
        "    else:\n",
        "      distanciaI=abs(minI[0]-minI[1])\n",
        "      \n",
        "    if(len(minD)==1):\n",
        "      distanciaD=distanciaT      \n",
        "    else:  \n",
        "      distanciaD=abs(minD[0]-minD[1])\n",
        "      \n",
        "    \n",
        "    \n",
        "    if(distanciaI<distanciaD and distanciaI<distanciaT and distanciaI<distanciaTG):\n",
        "        resultado=[minI[0],minI[1]] \n",
        "    elif(distanciaD<distanciaI and distanciaD<distanciaT and distanciaD<distanciaTG):\n",
        "        resultado=[minD[0],minD[1]]\n",
        "    elif(distanciaT<distanciaI and distanciaT<distanciaD and distanciaT<distanciaTG):\n",
        "        resultado=[minD[0],minD[1]]     \n",
        "    elif(distanciaTG<distanciaI and distanciaTG<distanciaD and distanciaTG<distanciaT):       \n",
        "        resultado=[lista1[mitad-1],lista2[0]]\n",
        "    else:\n",
        "        resultado=[lista1[mitad-1],lista2[0]]\n",
        "      \n",
        "      \n",
        "    return resultado\n",
        "      \n",
        "\n",
        "    \n",
        "@calcular_tiempo \n",
        "def divideVencerasT(lista):\n",
        "  lista.sort()\n",
        "  return divideVenceras(lista)  \n",
        "    \n",
        "\n",
        "\n",
        "print(divideVencerasT(l2))\n"
      ],
      "execution_count": 7,
      "outputs": [
        {
          "output_type": "stream",
          "text": [
            "\r\n",
            " Tiempo de ejecución para algoritmo: 0.0000677108764648437500000\n",
            "[5, 6]\n"
          ],
          "name": "stdout"
        }
      ]
    },
    {
      "metadata": {
        "id": "Bi52gr4_aFIr",
        "colab_type": "text"
      },
      "cell_type": "markdown",
      "source": [
        "#### Calculo de puntos más cercanos con vectores (Fuerza bruta)\n",
        "\n",
        "\n",
        "Dados 2 vectores v y u, la fórmula  para calcular su distancia es:\n",
        "\n",
        " d(v,u)=sqrt( (u1-v1)^2 + (u2-u2)^2 )"
      ]
    },
    {
      "metadata": {
        "id": "sFEEQhHMImK4",
        "colab_type": "code",
        "outputId": "08aceb6c-63e6-4b0e-f0db-cb137cef0544",
        "colab": {
          "base_uri": "https://localhost:8080/",
          "height": 153
        }
      },
      "cell_type": "code",
      "source": [
        "import math\n",
        "matriz=[[9,10],[25,2],[26,3],[1,3],[40,7],[12,12]]\n",
        "\n",
        "\n",
        "#Función que calcula la distancia entre dos vectores mediante la fórmula:\n",
        "#  d(v,u)=sqrt( (u1-v1)^2 + (u2-u2)^2 )\n",
        "def calcularDistancia(v,u):\n",
        "  restaEjeX=u[0]-v[0]\n",
        "  restaEjeY=u[1]-u[1]\n",
        "  cuadradoX=restaEjeX**2\n",
        "  cudaradoY=restaEjeY**2\n",
        "  distancia=math.sqrt(cuadradoX+cudaradoY)\n",
        "  return distancia\n",
        "\n",
        "@calcular_tiempo \n",
        "def puntosCercanosFuerzaM(matriz):\n",
        "  punto1=0\n",
        "  punto2=0\n",
        "  if(len(matriz)<2):\n",
        "    print(\"La matriz tiene que tener al menos 2 elementos\")\n",
        "  \n",
        "  elif(len(matriz)==2):\n",
        "    punto1=matriz[0]\n",
        "    punto2=matriz[1]\n",
        "    \n",
        "  else:  \n",
        "    tmp=0\n",
        "    for i in range(len(matriz)):\n",
        "      for j in range(len(matriz)):    \n",
        "        if tmp==0:          \n",
        "          tmp=calcularDistancia(matriz[i],matriz[j])\n",
        "        if tmp!=0 and calcularDistancia(matriz[i],matriz[j])<tmp and i!=j:      \n",
        "          tmp=calcularDistancia(matriz[i],matriz[j])        \n",
        "          punto1=matriz[i]\n",
        "          punto2=matriz[j]\n",
        "        \n",
        "  print(\"Punto a: \"+str(punto1)+\" Punto b: \"+str(punto2))\n",
        "      \n",
        "print(matriz)\n",
        "puntosCercanosFuerzaM(matriz) \n",
        "puntosCercanosFuerzaM(LISTA_2D) \n",
        "\n",
        "#print(calcularDistancia([1,3],[9,10]))\n",
        "print(calcularDistancia([25, 2], [26, 3]))\n"
      ],
      "execution_count": 11,
      "outputs": [
        {
          "output_type": "stream",
          "text": [
            "[[9, 10], [25, 2], [26, 3], [1, 3], [40, 7], [12, 12]]\n",
            "Punto a: [25, 2] Punto b: [26, 3]\n",
            "\r\n",
            " Tiempo de ejecución para algoritmo: 0.0002496242523193359375000\n",
            "Punto a: (888, 60) Punto b: (888, 133)\n",
            "\r\n",
            " Tiempo de ejecución para algoritmo: 0.0123920440673828125000000\n",
            "1.0\n"
          ],
          "name": "stdout"
        }
      ]
    },
    {
      "metadata": {
        "id": "mVsW3aqcPXzQ",
        "colab_type": "code",
        "outputId": "238b04c5-2a64-4e4d-8f69-fe10a9cfb638",
        "colab": {
          "base_uri": "https://localhost:8080/",
          "height": 153
        }
      },
      "cell_type": "code",
      "source": [
        "#Ordenar vector según distancia\n",
        "def bubble_sortDistancia(matriz):\n",
        "  for i in range(len(matriz)-1):\n",
        "    for j in range(len(matriz)-1):\n",
        "      if(calcularDistancia(matriz[j],matriz[j+1])):      \n",
        "        matriz[j], matriz[j+1] = matriz[j+1], matriz[j]\n",
        "        \n",
        "  return(matriz) \n",
        "\n",
        "print(bubble_sortDistancia(matriz))\n",
        "\n",
        "def divideVencerasMatriz(matriz):  \n",
        "  \n",
        "  if(len(matriz)<2):\n",
        "    #print(\"La matriz tiene que tener al menos 2 elementos\")\n",
        "    return matriz\n",
        "  \n",
        "  elif(len(matriz)==2):\n",
        "    punto1=matriz[0]\n",
        "    punto2=matriz[1]\n",
        "    matriz=[punto1,punto2]    \n",
        "    return matriz\n",
        "  else:\n",
        "    \n",
        "    resultado=[0,0]\n",
        "    \n",
        "    mitad=int(len(matriz)/2)\n",
        "    matriz1=matriz[0:mitad]\n",
        "    matriz2=matriz[mitad:]\n",
        "        \n",
        "    #distancia de las mitades\n",
        "    distanciaTG=calcularDistancia(matriz1[mitad-1],matriz2[0])\n",
        "    \n",
        "      \n",
        "    minI=divideVencerasMatriz(matriz1)\n",
        "    minD=divideVencerasMatriz(matriz2)\n",
        "   \n",
        "    \n",
        "    if(len(minI)>1 and len(minD)>1):\n",
        "      distanciaT=calcularDistancia(minI[1],minD[0])\n",
        "    else:      \n",
        "      distanciaT=distanciaTG\n",
        "    \n",
        "    if(len(minI)==1):\n",
        "      distanciaI=distanciaT     \n",
        "    else:\n",
        "      distanciaI=calcularDistancia(minI[0],minI[1])\n",
        "      \n",
        "    if(len(minD)==1):\n",
        "      distanciaD=distanciaT      \n",
        "    else:  \n",
        "      distanciaD=calcularDistancia(minD[0],minD[1])\n",
        "      \n",
        "    \n",
        "    \n",
        "    if(distanciaI<distanciaD and distanciaI<distanciaT and distanciaI<distanciaTG):\n",
        "        resultado=[minI[0],minI[1]] \n",
        "    elif(distanciaD<distanciaI and distanciaD<distanciaT and distanciaD<distanciaTG):\n",
        "        resultado=[minD[0],minD[1]]\n",
        "    elif(distanciaT<distanciaI and distanciaT<distanciaD and distanciaT<distanciaTG):\n",
        "        resultado=[minD[0],minD[1]]     \n",
        "    elif(distanciaTG<distanciaI and distanciaTG<distanciaD and distanciaTG<distanciaT):       \n",
        "        resultado=[matriz1[mitad-1],matriz2[0]]\n",
        "    else:\n",
        "        resultado=[matriz1[mitad-1],matriz2[0]]\n",
        "      \n",
        "      \n",
        "    return resultado\n",
        "      \n",
        "\n",
        "    \n",
        "@calcular_tiempo \n",
        "def divideVencerasMatrizT(matriz):\n",
        "  matriz=bubble_sortDistancia(matriz) \n",
        "  return divideVencerasMatriz(matriz)  \n",
        "    \n",
        "\n",
        "\n",
        "print(divideVencerasMatrizT(matriz))\n",
        "print(divideVencerasMatrizT(LISTA_2D))\n",
        "print(calcularDistancia([12, 12], [9, 10]))\n",
        "\n",
        "\n"
      ],
      "execution_count": 16,
      "outputs": [
        {
          "output_type": "stream",
          "text": [
            "[[12, 12], [9, 10], [25, 2], [26, 3], [1, 3], [40, 7]]\n",
            "\r\n",
            " Tiempo de ejecución para algoritmo: 0.0000565052032470703125000\n",
            "[[25, 2], [26, 3]]\n",
            "\r\n",
            " Tiempo de ejecución para algoritmo: 0.0120203495025634765625000\n",
            "[(489, 31), (500, 585)]\n",
            "3.0\n"
          ],
          "name": "stdout"
        }
      ]
    },
    {
      "metadata": {
        "id": "_0aKHnpvwnDx",
        "colab_type": "code",
        "colab": {}
      },
      "cell_type": "code",
      "source": [
        "#print(LISTA_2D)\n",
        "#print(calcularDistancia((494, 753), (518, 726)))"
      ],
      "execution_count": 0,
      "outputs": []
    },
    {
      "metadata": {
        "id": "V8nFRVJMxo7E",
        "colab_type": "code",
        "colab": {}
      },
      "cell_type": "code",
      "source": [
        ""
      ],
      "execution_count": 0,
      "outputs": []
    }
  ]
}