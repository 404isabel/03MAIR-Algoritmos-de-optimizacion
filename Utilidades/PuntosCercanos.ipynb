{
  "nbformat": 4,
  "nbformat_minor": 0,
  "metadata": {
    "colab": {
      "name": "PuntosCercanos.ipynb",
      "version": "0.3.2",
      "provenance": [],
      "collapsed_sections": [],
      "include_colab_link": true
    },
    "kernelspec": {
      "name": "python3",
      "display_name": "Python 3"
    }
  },
  "cells": [
    {
      "cell_type": "markdown",
      "metadata": {
        "id": "view-in-github",
        "colab_type": "text"
      },
      "source": [
        "<a href=\"https://colab.research.google.com/github/404isabel/03MAIR-Algoritmos-de-optimizacion/blob/master/Utilidades/PuntosCercanos.ipynb\" target=\"_parent\"><img src=\"https://colab.research.google.com/assets/colab-badge.svg\" alt=\"Open In Colab\"/></a>"
      ]
    },
    {
      "metadata": {
        "id": "vdF9GqxDIWsC",
        "colab_type": "text"
      },
      "cell_type": "markdown",
      "source": [
        "Suponer en 1D, o sea, una lista de números: [3403, 4537, 9089, 9746, 7259, ….\n",
        "\n",
        "Primer intento: Fuerza bruta\n",
        "\n",
        "Calcular la complejidad. ¿Se puede mejorar?\n",
        "\n",
        "Segundo intento. Aplicar Divide y Vencerás\n",
        "\n",
        "Calcular la complejidad. ¿Se puede mejorar?\n",
        "\n",
        "Extender el algoritmo a 2D: [(1122, 6175), (135, 4076), (7296, 2741)…\n",
        "\n",
        "Extender el algoritmo a 3D y nD\n",
        "\n",
        "Investiga sobre el problema.Aplicaciones, métodos de resolución, curiosidades, historia,..."
      ]
    },
    {
      "metadata": {
        "id": "nGPL_xtrIi3f",
        "colab_type": "code",
        "outputId": "9a013fe0-56fa-4b8f-d3f0-1aac15659ed4",
        "colab": {
          "base_uri": "https://localhost:8080/",
          "height": 153
        }
      },
      "cell_type": "code",
      "source": [
        "from time import time\n",
        "import random\n",
        "def calcular_tiempo(f):\n",
        "   \n",
        "    def wrapper(*args, **kwargs):        \n",
        "        inicio = time()       \n",
        "        resultado = f(*args, **kwargs)       \n",
        "        tiempo = float(time() - inicio)     \n",
        "        print(\"\\r\\n Tiempo de ejecución para algoritmo: \"+\"{0:.25f}\".format(tiempo))\n",
        "        return resultado\n",
        "    \n",
        "    return wrapper\n",
        "\n",
        "\n",
        "lista1 = [random.randrange(1,1000) for x in range(200) ]\n",
        "lista2 = [50,2,28,30,7,22,9,23]\n",
        "\n",
        "@calcular_tiempo\n",
        "def puntosCercanosFuerza(lista):\n",
        "  punto1=0\n",
        "  punto2=0\n",
        "  if(len(lista)<2):\n",
        "    print(\"La lista tiene que tener al menos 2 elementos\")\n",
        "  \n",
        "  elif(len(lista)==2):\n",
        "    punto1=lista[0]\n",
        "    punto2=lista[1]\n",
        "    \n",
        "  else:  \n",
        "    tmp=0\n",
        "    for i in range(len(lista)):\n",
        "      for j in range(len(lista)):    \n",
        "        if tmp==0:\n",
        "          tmp=abs(lista[i]-lista[j])\n",
        "        if tmp!=0 and abs(lista[i]-lista[j])<tmp and i!=j:      \n",
        "          tmp=abs(lista[i]-lista[j])        \n",
        "          punto1=lista[i]\n",
        "          punto2=lista[j]\n",
        "        \n",
        "  print(\"Punto a: \"+str(punto1)+\" Punto b: \"+str(punto2))\n",
        "      \n",
        "puntosCercanosFuerza(lista1)\n",
        "print(\"\\r\\n\")\n",
        "puntosCercanosFuerza(lista2) \n",
        "  \n",
        "\n"
      ],
      "execution_count": 0,
      "outputs": [
        {
          "output_type": "stream",
          "text": [
            "Punto a: 118 Punto b: 119\n",
            "\r\n",
            " Tiempo de ejecución para algoritmo: 0.0103290081024169921875000\n",
            "\r\n",
            "\n",
            "Punto a: 22 Punto b: 23\n",
            "\r\n",
            " Tiempo de ejecución para algoritmo: 0.0000913143157958984375000\n"
          ],
          "name": "stdout"
        }
      ]
    },
    {
      "metadata": {
        "id": "aS2abN4zSTYL",
        "colab_type": "text"
      },
      "cell_type": "markdown",
      "source": [
        "#### Dado que se trata de dos bucles anidados, la complejidad es de tipo cuadrático"
      ]
    },
    {
      "metadata": {
        "id": "1i4XKDPGSueS",
        "colab_type": "text"
      },
      "cell_type": "markdown",
      "source": [
        "#### Técnica divide y vencerás\n",
        "\n"
      ]
    },
    {
      "metadata": {
        "id": "JCtrZq36Tu82",
        "colab_type": "code",
        "outputId": "92ecc595-7fb7-4324-9d66-9e6c855b5b20",
        "colab": {
          "base_uri": "https://localhost:8080/",
          "height": 102
        }
      },
      "cell_type": "code",
      "source": [
        "lista2=[50,200,28,30,7,29,9,23,400,44,1,64]\n",
        "def divideVenceras(lista):  \n",
        "  \n",
        "  if(len(lista)<2):\n",
        "    #print(\"La lista tiene que tener al menos 2 elementos\")\n",
        "    return lista\n",
        "  \n",
        "  elif(len(lista)==2):\n",
        "    punto1=lista[0]\n",
        "    punto2=lista[1]\n",
        "    lista=[punto1,punto2]    \n",
        "    return lista\n",
        "  else:\n",
        "    \n",
        "    resultado=[0,0]\n",
        "    \n",
        "    mitad=int(len(lista)/2)\n",
        "    lista1=lista[0:mitad]\n",
        "    lista2=lista[mitad:]\n",
        "        \n",
        "    #distancia de las mitades\n",
        "    distanciaTG=abs(lista1[mitad-1]-lista2[0])\n",
        "    \n",
        "      \n",
        "    minI=divideVenceras(lista1)\n",
        "    minD=divideVenceras(lista2)\n",
        "   \n",
        "    \n",
        "    if(len(minI)>1 and len(minD)>1):\n",
        "      distanciaT=abs(minI[1]-minD[0])\n",
        "    else:      \n",
        "      distanciaT=distanciaTG\n",
        "    \n",
        "    if(len(minI)==1):\n",
        "      distanciaI=distanciaT     \n",
        "    else:\n",
        "      distanciaI=abs(minI[0]-minI[1])\n",
        "      \n",
        "    if(len(minD)==1):\n",
        "      distanciaD=distanciaT      \n",
        "    else:  \n",
        "      distanciaD=abs(minD[0]-minD[1])\n",
        "      \n",
        "    \n",
        "    \n",
        "    if(distanciaI<distanciaD and distanciaI<distanciaT and distanciaI<distanciaTG):\n",
        "        resultado=[minI[0],minI[1]] \n",
        "    elif(distanciaD<distanciaI and distanciaD<distanciaT and distanciaD<distanciaTG):\n",
        "        resultado=[minD[0],minD[1]]\n",
        "    elif(distanciaT<distanciaI and distanciaT<distanciaD and distanciaT<distanciaTG):\n",
        "        resultado=[minD[0],minD[1]]     \n",
        "    elif(distanciaTG<distanciaI and distanciaTG<distanciaD and distanciaTG<distanciaT):       \n",
        "        resultado=[lista1[mitad-1],lista2[0]]\n",
        "    else:\n",
        "        resultado=[lista1[mitad-1],lista2[0]]\n",
        "      \n",
        "      \n",
        "    return resultado\n",
        "      \n",
        "\n",
        "lista2.sort()\n",
        "print(lista2)\n",
        "print(\"\\r\\n Resultado \\r\\n\")\n",
        "divideVenceras(lista2)"
      ],
      "execution_count": 131,
      "outputs": [
        {
          "output_type": "stream",
          "text": [
            "[1, 7, 9, 23, 28, 29, 30, 44, 50, 64, 200, 400]\n",
            "\r\n",
            " Resultado \r\n",
            "\n"
          ],
          "name": "stdout"
        },
        {
          "output_type": "execute_result",
          "data": {
            "text/plain": [
              "[29, 30]"
            ]
          },
          "metadata": {
            "tags": []
          },
          "execution_count": 131
        }
      ]
    },
    {
      "metadata": {
        "id": "rq_a7nEMiWtg",
        "colab_type": "code",
        "colab": {}
      },
      "cell_type": "code",
      "source": [
        ""
      ],
      "execution_count": 0,
      "outputs": []
    }
  ]
}