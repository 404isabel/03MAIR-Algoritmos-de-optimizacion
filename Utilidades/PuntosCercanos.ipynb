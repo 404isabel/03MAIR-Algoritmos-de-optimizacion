{
  "nbformat": 4,
  "nbformat_minor": 0,
  "metadata": {
    "colab": {
      "name": "PuntosCercanos.ipynb",
      "version": "0.3.2",
      "provenance": [],
      "collapsed_sections": [],
      "include_colab_link": true
    },
    "kernelspec": {
      "name": "python3",
      "display_name": "Python 3"
    }
  },
  "cells": [
    {
      "cell_type": "markdown",
      "metadata": {
        "id": "view-in-github",
        "colab_type": "text"
      },
      "source": [
        "<a href=\"https://colab.research.google.com/github/404isabel/03MAIR-Algoritmos-de-optimizacion/blob/master/Utilidades/PuntosCercanos.ipynb\" target=\"_parent\"><img src=\"https://colab.research.google.com/assets/colab-badge.svg\" alt=\"Open In Colab\"/></a>"
      ]
    },
    {
      "metadata": {
        "id": "vdF9GqxDIWsC",
        "colab_type": "text"
      },
      "cell_type": "markdown",
      "source": [
        "Suponer en 1D, o sea, una lista de números: [3403, 4537, 9089, 9746, 7259, ….\n",
        "\n",
        "Primer intento: Fuerza bruta\n",
        "\n",
        "Calcular la complejidad. ¿Se puede mejorar?\n",
        "\n",
        "Segundo intento. Aplicar Divide y Vencerás\n",
        "\n",
        "Calcular la complejidad. ¿Se puede mejorar?\n",
        "\n",
        "Extender el algoritmo a 2D: [(1122, 6175), (135, 4076), (7296, 2741)…\n",
        "\n",
        "Extender el algoritmo a 3D y nD\n",
        "\n",
        "Investiga sobre el problema.Aplicaciones, métodos de resolución, curiosidades, historia,..."
      ]
    },
    {
      "metadata": {
        "id": "nGPL_xtrIi3f",
        "colab_type": "code",
        "outputId": "34081526-e5fa-4c29-aa7d-bbd216a13792",
        "colab": {
          "base_uri": "https://localhost:8080/",
          "height": 68
        }
      },
      "cell_type": "code",
      "source": [
        "from time import time\n",
        "import random\n",
        "l2 = [60,20,5,40,8,50,10,82,6,103,1,700,600,440,88,750,650,799,490,666,333,222,812,595,110,120,186,999,15,45,70,520,560,680]\n",
        "LISTA_2D = [ (random.randrange(1,100*10),random.randrange(1,100*10))  for _ in range(100)]\n",
        "LISTA = [ (random.randrange(1,100*10))  for _ in range(100)]\n",
        "\n",
        "\n",
        "\n",
        "def calcular_tiempo(f):\n",
        "   \n",
        "    def wrapper(*args, **kwargs):        \n",
        "        inicio = time()       \n",
        "        resultado = f(*args, **kwargs)       \n",
        "        tiempo = float(time() - inicio)     \n",
        "        print(\"\\r\\n Tiempo de ejecución para algoritmo: \"+\"{0:.25f}\".format(tiempo))\n",
        "        return resultado\n",
        "    \n",
        "    return wrapper\n",
        "\n",
        "\n",
        "\n",
        "@calcular_tiempo\n",
        "def puntosCercanosFuerza(lista):\n",
        "  punto1=0\n",
        "  punto2=0\n",
        "  if(len(lista)<2):\n",
        "    print(\"La lista tiene que tener al menos 2 elementos\")\n",
        "  \n",
        "  elif(len(lista)==2):\n",
        "    punto1=lista[0]\n",
        "    punto2=lista[1]\n",
        "    \n",
        "  else:  \n",
        "    tmp=0\n",
        "    for i in range(len(lista)):\n",
        "      for j in range(len(lista)):    \n",
        "        if tmp==0:\n",
        "          tmp=abs(lista[i]-lista[j])\n",
        "        if tmp!=0 and abs(lista[i]-lista[j])<tmp and i!=j:      \n",
        "          tmp=abs(lista[i]-lista[j])        \n",
        "          punto1=lista[i]\n",
        "          punto2=lista[j]\n",
        "        \n",
        "  print(\"Punto a: \"+str(punto1)+\" Punto b: \"+str(punto2))\n",
        "\n",
        "\n",
        "\n",
        "puntosCercanosFuerza(l2) \n",
        "  \n",
        "\n"
      ],
      "execution_count": 59,
      "outputs": [
        {
          "output_type": "stream",
          "text": [
            "Punto a: 5 Punto b: 6\n",
            "\r\n",
            " Tiempo de ejecución para algoritmo: 0.0010845661163330078125000\n"
          ],
          "name": "stdout"
        }
      ]
    },
    {
      "metadata": {
        "id": "aS2abN4zSTYL",
        "colab_type": "text"
      },
      "cell_type": "markdown",
      "source": [
        "#### Dado que se trata de dos bucles anidados, la complejidad es de tipo cuadrático"
      ]
    },
    {
      "metadata": {
        "id": "1i4XKDPGSueS",
        "colab_type": "text"
      },
      "cell_type": "markdown",
      "source": [
        "#### Técnica divide y vencerás\n",
        "\n"
      ]
    },
    {
      "metadata": {
        "id": "JCtrZq36Tu82",
        "colab_type": "code",
        "outputId": "18680b30-beff-444c-df8e-5ef35c11e3ae",
        "colab": {
          "base_uri": "https://localhost:8080/",
          "height": 207
        }
      },
      "cell_type": "code",
      "source": [
        "print(LISTA)\n",
        "def divideVenceras(lista):  \n",
        "  \n",
        "  if(len(lista)<2):\n",
        "    #print(\"La lista tiene que tener al menos 2 elementos\")\n",
        "    return lista\n",
        "  \n",
        "  elif(len(lista)==2):\n",
        "    punto1=lista[0]\n",
        "    punto2=lista[1]\n",
        "    lista=[punto1,punto2]    \n",
        "    return lista\n",
        "  else:\n",
        "    \n",
        "    resultado=[0,0]\n",
        "    \n",
        "    mitad=int(len(lista)/2)\n",
        "    lista1=lista[0:mitad]\n",
        "    lista2=lista[mitad:]\n",
        "        \n",
        "    #distancia de las mitades\n",
        "    distanciaTG=abs(lista1[mitad-1]-lista2[0])\n",
        "    \n",
        "      \n",
        "    minI=divideVenceras(lista1)\n",
        "    minD=divideVenceras(lista2)\n",
        "    \n",
        "    \n",
        "    if(len(minI)>1 and len(minD)>1):\n",
        "      distanciaT=abs(minI[1]-minD[0])\n",
        "    else:      \n",
        "      distanciaT=distanciaTG\n",
        "    \n",
        "    if(len(minI)==1):\n",
        "      distanciaI=distanciaT     \n",
        "    else:\n",
        "      distanciaI=abs(minI[0]-minI[1])\n",
        "      \n",
        "    if(len(minD)==1):\n",
        "      distanciaD=distanciaT      \n",
        "    else:  \n",
        "      distanciaD=abs(minD[0]-minD[1])\n",
        "      \n",
        "    \n",
        "    \n",
        "    if(distanciaI<distanciaD and distanciaI<distanciaT and distanciaI<distanciaTG):\n",
        "        resultado=[minI[0],minI[1]] \n",
        "    elif(distanciaD<distanciaI and distanciaD<distanciaT and distanciaD<distanciaTG):\n",
        "        resultado=[minD[0],minD[1]]\n",
        "    elif(distanciaT<distanciaI and distanciaT<distanciaD and distanciaT<distanciaTG):\n",
        "        resultado=[minD[0],minD[1]]     \n",
        "    elif(distanciaTG<distanciaI and distanciaTG<distanciaD and distanciaTG<distanciaT):       \n",
        "        resultado=[lista1[mitad-1],lista2[0]]\n",
        "    elif(distanciaI==0 and len(minI)>1):\n",
        "        resultado=[minI[0],minI[1]] \n",
        "        return resultado\n",
        "    elif(distanciaD==0 and len(minD)>1):\n",
        "        resultado=[minD[0],minD[1]] \n",
        "        return resultado\n",
        "    else:      \n",
        "        resultado=[lista1[mitad-1],lista2[0]]\n",
        "      \n",
        "      \n",
        "    return resultado\n",
        "      \n",
        "\n",
        "    \n",
        "@calcular_tiempo \n",
        "def divideVencerasT(lista):\n",
        "  lista.sort()\n",
        "  return divideVenceras(lista)  \n",
        "    \n",
        "\n",
        "\n",
        "print(divideVencerasT(LISTA))\n",
        "\n",
        "\n",
        "\n",
        "\n",
        "#### Comparativa con la actividad\n",
        "def distancia_divide_y_venceras(L): #Comparar con mi algoritmo (modificaré mi algoritmo, aplicando sorted)\n",
        "  #Si hay pocos, resolvemos por fuerza bruta\n",
        "  if len(L)<10:\n",
        "    return distancia_fuerza_bruta(L)\n",
        "  \n",
        "  #Corrección (se incluye este fragmento de código ya que no funcionaba con listas de 1 dimensión, fallaba por lambda x:x[0], y en el caso de ser de una dimensión x no era un array,\n",
        "  #sino un valor numérico\n",
        "  #y englobo todo en un else, reestructurando código\n",
        "  else:\n",
        "    L=sorted(L)\n",
        "    if type(L[0]) is int or type(L[0]) is float:      \n",
        "       L=sorted(L)\n",
        "    else:     \n",
        "      L=sorted(L, key=lambda x:x[0])\n",
        "    \n",
        "    LISTA_IZQ = L[:len(L)//2]\n",
        "    LISTA_DER = L[len(L)//2:]\n",
        "\n",
        "    PUNTOS_LISTA_IZQ = distancia_divide_y_venceras(LISTA_IZQ)\n",
        "    PUNTOS_LISTA_DER = distancia_divide_y_venceras(LISTA_DER)\n",
        "\n",
        "    return distancia_fuerza_bruta(PUNTOS_LISTA_IZQ+PUNTOS_LISTA_DER)\n",
        "  \n",
        "  #print(LISTA_IZQ)\n",
        "  #print(LISTA_DER)\n",
        "\n",
        "print(\"\\r\\n -------------- Actividad --------------- \\r\\n\")  \n",
        "@calcular_tiempo\n",
        "def LANZA(L):  \n",
        "  return distancia_divide_y_venceras(L) \n",
        "  \n",
        "SOL=LANZA(LISTA) \n",
        "print(SOL)"
      ],
      "execution_count": 60,
      "outputs": [
        {
          "output_type": "stream",
          "text": [
            "[359, 716, 794, 963, 372, 924, 940, 113, 85, 552, 624, 717, 871, 649, 167, 651, 322, 96, 628, 265, 500, 361, 713, 685, 832, 236, 306, 875, 455, 320, 45, 706, 897, 633, 977, 114, 529, 629, 207, 761, 434, 379, 296, 571, 425, 937, 916, 994, 696, 917, 263, 69, 406, 232, 473, 853, 896, 681, 933, 51, 361, 690, 467, 191, 361, 385, 30, 730, 423, 735, 430, 499, 241, 230, 401, 328, 134, 945, 183, 610, 877, 921, 55, 554, 817, 996, 498, 382, 901, 790, 366, 655, 637, 448, 569, 101, 571, 691, 940, 367]\n",
            "\r\n",
            " Tiempo de ejecución para algoritmo: 0.0002040863037109375000000\n",
            "[361, 361]\n",
            "\r\n",
            " -------------- Actividad --------------- \r\n",
            "\n",
            "\r\n",
            " Tiempo de ejecución para algoritmo: 0.0003128051757812500000000\n",
            "[361, 361]\n"
          ],
          "name": "stdout"
        }
      ]
    },
    {
      "metadata": {
        "id": "Bi52gr4_aFIr",
        "colab_type": "text"
      },
      "cell_type": "markdown",
      "source": [
        "#### Calculo de puntos más cercanos con vectores (Fuerza bruta)\n",
        "\n",
        "\n",
        "Dados 2 vectores v y u, la fórmula  para calcular su distancia es:\n",
        "\n",
        " d(v,u)=sqrt( (u1-v1)^2 + (u2-u2)^2 )"
      ]
    },
    {
      "metadata": {
        "id": "sFEEQhHMImK4",
        "colab_type": "code",
        "outputId": "b74a85e0-4c1a-413e-d77d-002e0f263a46",
        "colab": {
          "base_uri": "https://localhost:8080/",
          "height": 136
        }
      },
      "cell_type": "code",
      "source": [
        "import math\n",
        "matriz=[[9,10],[25,2],[26,3],[1,3],[40,7],[12,12]]\n",
        "\n",
        "\n",
        "#Función que calcula la distancia entre dos vectores mediante la fórmula:\n",
        "#  d(v,u)=sqrt( (u1-v1)^2 + (u2-u2)^2 )\n",
        "def calcularDistancia(v,u):\n",
        "  restaEjeX=u[0]-v[0]\n",
        "  restaEjeY=u[1]-v[1]\n",
        "  cuadradoX=restaEjeX**2\n",
        "  cudaradoY=restaEjeY**2\n",
        "  distancia=math.sqrt(cuadradoX+cudaradoY)\n",
        "  return distancia\n",
        "\n",
        "@calcular_tiempo \n",
        "def puntosCercanosFuerzaM(matriz):\n",
        "  punto1=0\n",
        "  punto2=0\n",
        "  if(len(matriz)<2):\n",
        "    print(\"La matriz tiene que tener al menos 2 elementos\")\n",
        "  \n",
        "  elif(len(matriz)==2):\n",
        "    punto1=matriz[0]\n",
        "    punto2=matriz[1]\n",
        "    \n",
        "  else:  \n",
        "    tmp=0\n",
        "    for i in range(len(matriz)):\n",
        "      for j in range(len(matriz)):    \n",
        "        if tmp==0:          \n",
        "          tmp=calcularDistancia(matriz[i],matriz[j])\n",
        "        if tmp!=0 and calcularDistancia(matriz[i],matriz[j])<tmp and i!=j:      \n",
        "          tmp=calcularDistancia(matriz[i],matriz[j])        \n",
        "          punto1=matriz[i]\n",
        "          punto2=matriz[j]\n",
        "        \n",
        "  print(\"Punto a: \"+str(punto1)+\" Punto b: \"+str(punto2))\n",
        "      \n",
        "#print(matriz)\n",
        "#puntosCercanosFuerzaM(matriz) \n",
        "puntosCercanosFuerzaM(LISTA_2D) \n",
        "\n",
        "#print(calcularDistancia([1,3],[9,10]))\n",
        "#print(calcularDistancia([25, 2], [26, 3]))\n",
        "\n",
        "\n",
        "\n",
        "\n",
        "#Comparo con los resultados obtenidos mediante la actividad\n",
        "\n",
        "print(\"\\r\\n  --------------------- Actividad -------------------------- \\r\\n\")\n",
        "  #Calculo según la actividad\n",
        "def distancia(A,B):\n",
        "  if type(A) is int or type(A) is float:\n",
        "    return abs(B-A)\n",
        "  else:\n",
        "    return math.sqrt(sum([(A[i]-B[i])**2 for i in range(len(A))]))\n",
        "def distancia_fuerza_bruta(L): \n",
        "  mejor_distancia = float(\"infinity\") #Modificación, se cambia mejor_distancia por float(\"infinity\")\n",
        "  \n",
        "  A,B = (),()\n",
        "  tamLista=len(L) #Modificación:Se mete tamLista en una variable, en vez de calcularlo 2 veces\n",
        "  for i in range(tamLista):\n",
        "    for j in range(i+1,tamLista):\n",
        "      distanciaActual=distancia(L[i], L[j]) #Modificación:Se mete el cálculo de la distancia en una variable\n",
        "      if distanciaActual<mejor_distancia:\n",
        "        A,B=L[i], L[j]\n",
        "        mejor_distancia=distanciaActual\n",
        "  return [A,B]      \n",
        "        \n",
        "\n",
        "#Modificación: se engloba la función en lanzarFuerzaBruta, para poder calcular el tiempo,\n",
        "#y posteriormente poder reutilizar distancia_fuerza_bruta por separado, sin que calcule el tiempo\n",
        "@calcular_tiempo\n",
        "def lanzarFuerzaBruta(L):\n",
        "  distancia_fuerza_bruta(L)\n",
        "\n",
        "#Actividad  \n",
        "print(distancia_fuerza_bruta(LISTA_2D)) \n",
        "\n"
      ],
      "execution_count": 27,
      "outputs": [
        {
          "output_type": "stream",
          "text": [
            "Punto a: (801, 316) Punto b: (799, 304)\n",
            "\r\n",
            " Tiempo de ejecución para algoritmo: 0.0119292736053466796875000\n",
            "\r\n",
            "  --------------------- Actividad -------------------------- \r\n",
            "\n",
            "[(801, 316), (799, 304)]\n"
          ],
          "name": "stdout"
        }
      ]
    },
    {
      "metadata": {
        "id": "mVsW3aqcPXzQ",
        "colab_type": "code",
        "outputId": "2c58b4af-4074-4e0d-8faa-02ba06e41fbd",
        "colab": {
          "base_uri": "https://localhost:8080/",
          "height": 153
        }
      },
      "cell_type": "code",
      "source": [
        "#Ordenar vector según distancia\n",
        "def bubble_sortDistancia(matriz):\n",
        "  for i in range(len(matriz)-1):\n",
        "    for j in range(len(matriz)-1):\n",
        "      if(calcularDistancia(matriz[j],matriz[j+1])):      \n",
        "        matriz[j], matriz[j+1] = matriz[j+1], matriz[j]\n",
        "        \n",
        "  return(matriz) \n",
        "\n",
        "print(bubble_sortDistancia(matriz))\n",
        "\n",
        "def divideVencerasMatriz(matriz):  \n",
        "  \n",
        "  if(len(matriz)<2):\n",
        "    #print(\"La matriz tiene que tener al menos 2 elementos\")\n",
        "    return matriz\n",
        "  \n",
        "  elif(len(matriz)==2):\n",
        "    punto1=matriz[0]\n",
        "    punto2=matriz[1]\n",
        "    matriz=[punto1,punto2]    \n",
        "    return matriz\n",
        "  else:\n",
        "    \n",
        "    resultado=[0,0]\n",
        "    \n",
        "    mitad=int(len(matriz)/2)\n",
        "    matriz1=matriz[0:mitad]\n",
        "    matriz2=matriz[mitad:]\n",
        "        \n",
        "    #distancia de las mitades\n",
        "    distanciaTG=calcularDistancia(matriz1[mitad-1],matriz2[0])\n",
        "    \n",
        "      \n",
        "    minI=divideVencerasMatriz(matriz1)\n",
        "    minD=divideVencerasMatriz(matriz2)\n",
        "   \n",
        "    \n",
        "    if(len(minI)>1 and len(minD)>1):\n",
        "      distanciaT=calcularDistancia(minI[1],minD[0])\n",
        "    else:      \n",
        "      distanciaT=distanciaTG\n",
        "    \n",
        "    if(len(minI)==1):\n",
        "      distanciaI=distanciaT     \n",
        "    else:\n",
        "      distanciaI=calcularDistancia(minI[0],minI[1])\n",
        "      \n",
        "    if(len(minD)==1):\n",
        "      distanciaD=distanciaT      \n",
        "    else:  \n",
        "      distanciaD=calcularDistancia(minD[0],minD[1])\n",
        "      \n",
        "    \n",
        "    \n",
        "    if(distanciaI<distanciaD and distanciaI<distanciaT and distanciaI<distanciaTG):\n",
        "        resultado=[minI[0],minI[1]] \n",
        "    elif(distanciaD<distanciaI and distanciaD<distanciaT and distanciaD<distanciaTG):\n",
        "        resultado=[minD[0],minD[1]]\n",
        "    elif(distanciaT<distanciaI and distanciaT<distanciaD and distanciaT<distanciaTG):\n",
        "        resultado=[minD[0],minD[1]]     \n",
        "    elif(distanciaTG<distanciaI and distanciaTG<distanciaD and distanciaTG<distanciaT):       \n",
        "        resultado=[matriz1[mitad-1],matriz2[0]]\n",
        "        \n",
        "        \n",
        "    elif(distanciaI==0 and len(minI)>1):\n",
        "        resultado=[minI[0],minI[1]] \n",
        "        return resultado\n",
        "    elif(distanciaD==0 and len(minD)>1):\n",
        "        resultado=[minD[0],minD[1]] \n",
        "        return resultado\n",
        "        \n",
        "    else:\n",
        "        resultado=[matriz1[mitad-1],matriz2[0]]\n",
        "      \n",
        "      \n",
        "    return resultado\n",
        "      \n",
        "\n",
        "    \n",
        "@calcular_tiempo \n",
        "def divideVencerasMatrizT(matriz):\n",
        "  #matriz=bubble_sortDistancia(matriz) \n",
        "  return divideVencerasMatriz(sorted(matriz))  \n",
        "    \n",
        "\n",
        "\n",
        "#print(divideVencerasMatrizT(matriz))\n",
        "print(divideVencerasMatrizT(LISTA_2D))\n",
        "#print(calcularDistancia([12, 12], [9, 10]))\n",
        "\n",
        "print(\"\\r\\n -------------- Actividad  -------------------\\r\\n\")\n",
        "#Actividad \n",
        "#print(distancia_fuerza_bruta(matriz)) \n",
        "print(distancia_fuerza_bruta(LISTA_2D)) \n"
      ],
      "execution_count": 75,
      "outputs": [
        {
          "output_type": "stream",
          "text": [
            "[[40, 7], [12, 12], [9, 10], [25, 2], [26, 3], [1, 3]]\n",
            "\r\n",
            " Tiempo de ejecución para algoritmo: 0.0004091262817382812500000\n",
            "[(717, 662), (718, 668)]\n",
            "\r\n",
            " -------------- Actividad  -------------------\r\n",
            "\n",
            "[(717, 662), (718, 668)]\n"
          ],
          "name": "stdout"
        }
      ]
    },
    {
      "metadata": {
        "id": "_0aKHnpvwnDx",
        "colab_type": "code",
        "outputId": "c796f3ae-44d9-47b0-d81c-f7079b586105",
        "colab": {
          "base_uri": "https://localhost:8080/",
          "height": 51
        }
      },
      "cell_type": "code",
      "source": [
        "#print(LISTA_2D)\n",
        "print(calcularDistancia((35, 971), (57, 907)))\n",
        "print(calcularDistancia((717, 662), (718, 668)))"
      ],
      "execution_count": 71,
      "outputs": [
        {
          "output_type": "stream",
          "text": [
            "67.67569726275453\n",
            "6.082762530298219\n"
          ],
          "name": "stdout"
        }
      ]
    },
    {
      "metadata": {
        "id": "V8nFRVJMxo7E",
        "colab_type": "code",
        "colab": {}
      },
      "cell_type": "code",
      "source": [
        ""
      ],
      "execution_count": 0,
      "outputs": []
    }
  ]
}