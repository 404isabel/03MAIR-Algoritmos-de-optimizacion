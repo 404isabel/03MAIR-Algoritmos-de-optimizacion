{
  "nbformat": 4,
  "nbformat_minor": 0,
  "metadata": {
    "colab": {
      "name": "PuntosCercanos.ipynb",
      "version": "0.3.2",
      "provenance": [],
      "collapsed_sections": [],
      "include_colab_link": true
    },
    "kernelspec": {
      "name": "python3",
      "display_name": "Python 3"
    }
  },
  "cells": [
    {
      "cell_type": "markdown",
      "metadata": {
        "id": "view-in-github",
        "colab_type": "text"
      },
      "source": [
        "<a href=\"https://colab.research.google.com/github/404isabel/03MAIR-Algoritmos-de-optimizacion/blob/master/Utilidades/PuntosCercanos.ipynb\" target=\"_parent\"><img src=\"https://colab.research.google.com/assets/colab-badge.svg\" alt=\"Open In Colab\"/></a>"
      ]
    },
    {
      "metadata": {
        "id": "vdF9GqxDIWsC",
        "colab_type": "text"
      },
      "cell_type": "markdown",
      "source": [
        "Suponer en 1D, o sea, una lista de números: [3403, 4537, 9089, 9746, 7259, ….\n",
        "\n",
        "Primer intento: Fuerza bruta\n",
        "\n",
        "Calcular la complejidad. ¿Se puede mejorar?\n",
        "\n",
        "Segundo intento. Aplicar Divide y Vencerás\n",
        "\n",
        "Calcular la complejidad. ¿Se puede mejorar?\n",
        "\n",
        "Extender el algoritmo a 2D: [(1122, 6175), (135, 4076), (7296, 2741)…\n",
        "\n",
        "Extender el algoritmo a 3D y nD\n",
        "\n",
        "Investiga sobre el problema.Aplicaciones, métodos de resolución, curiosidades, historia,..."
      ]
    },
    {
      "metadata": {
        "id": "nGPL_xtrIi3f",
        "colab_type": "code",
        "outputId": "4787bddf-b1d1-4076-caaf-40925b87e5ec",
        "colab": {
          "base_uri": "https://localhost:8080/",
          "height": 68
        }
      },
      "cell_type": "code",
      "source": [
        "l2 = [60,20,5,40,8,50,10,82,6,103,1,700,600,440,88,750,650,799,490,666,333,222,812,595,110,120,186,999,15,45,70,520,560,680]\n",
        "\n",
        "\n",
        "from time import time\n",
        "import random\n",
        "def calcular_tiempo(f):\n",
        "   \n",
        "    def wrapper(*args, **kwargs):        \n",
        "        inicio = time()       \n",
        "        resultado = f(*args, **kwargs)       \n",
        "        tiempo = float(time() - inicio)     \n",
        "        print(\"\\r\\n Tiempo de ejecución para algoritmo: \"+\"{0:.25f}\".format(tiempo))\n",
        "        return resultado\n",
        "    \n",
        "    return wrapper\n",
        "\n",
        "\n",
        "\n",
        "@calcular_tiempo\n",
        "def puntosCercanosFuerza(lista):\n",
        "  punto1=0\n",
        "  punto2=0\n",
        "  if(len(lista)<2):\n",
        "    print(\"La lista tiene que tener al menos 2 elementos\")\n",
        "  \n",
        "  elif(len(lista)==2):\n",
        "    punto1=lista[0]\n",
        "    punto2=lista[1]\n",
        "    \n",
        "  else:  \n",
        "    tmp=0\n",
        "    for i in range(len(lista)):\n",
        "      for j in range(len(lista)):    \n",
        "        if tmp==0:\n",
        "          tmp=abs(lista[i]-lista[j])\n",
        "        if tmp!=0 and abs(lista[i]-lista[j])<tmp and i!=j:      \n",
        "          tmp=abs(lista[i]-lista[j])        \n",
        "          punto1=lista[i]\n",
        "          punto2=lista[j]\n",
        "        \n",
        "  print(\"Punto a: \"+str(punto1)+\" Punto b: \"+str(punto2))\n",
        "      \n",
        "puntosCercanosFuerza(l2) \n",
        "  \n",
        "\n"
      ],
      "execution_count": 176,
      "outputs": [
        {
          "output_type": "stream",
          "text": [
            "Punto a: 5 Punto b: 6\n",
            "\r\n",
            " Tiempo de ejecución para algoritmo: 0.0009086132049560546875000\n"
          ],
          "name": "stdout"
        }
      ]
    },
    {
      "metadata": {
        "id": "aS2abN4zSTYL",
        "colab_type": "text"
      },
      "cell_type": "markdown",
      "source": [
        "#### Dado que se trata de dos bucles anidados, la complejidad es de tipo cuadrático"
      ]
    },
    {
      "metadata": {
        "id": "1i4XKDPGSueS",
        "colab_type": "text"
      },
      "cell_type": "markdown",
      "source": [
        "#### Técnica divide y vencerás\n",
        "\n"
      ]
    },
    {
      "metadata": {
        "id": "JCtrZq36Tu82",
        "colab_type": "code",
        "outputId": "8e3e635a-556b-42b1-ae45-5102984bbed2",
        "colab": {
          "base_uri": "https://localhost:8080/",
          "height": 68
        }
      },
      "cell_type": "code",
      "source": [
        "def divideVenceras(lista):  \n",
        "  \n",
        "  if(len(lista)<2):\n",
        "    #print(\"La lista tiene que tener al menos 2 elementos\")\n",
        "    return lista\n",
        "  \n",
        "  elif(len(lista)==2):\n",
        "    punto1=lista[0]\n",
        "    punto2=lista[1]\n",
        "    lista=[punto1,punto2]    \n",
        "    return lista\n",
        "  else:\n",
        "    \n",
        "    resultado=[0,0]\n",
        "    \n",
        "    mitad=int(len(lista)/2)\n",
        "    lista1=lista[0:mitad]\n",
        "    lista2=lista[mitad:]\n",
        "        \n",
        "    #distancia de las mitades\n",
        "    distanciaTG=abs(lista1[mitad-1]-lista2[0])\n",
        "    \n",
        "      \n",
        "    minI=divideVenceras(lista1)\n",
        "    minD=divideVenceras(lista2)\n",
        "   \n",
        "    \n",
        "    if(len(minI)>1 and len(minD)>1):\n",
        "      distanciaT=abs(minI[1]-minD[0])\n",
        "    else:      \n",
        "      distanciaT=distanciaTG\n",
        "    \n",
        "    if(len(minI)==1):\n",
        "      distanciaI=distanciaT     \n",
        "    else:\n",
        "      distanciaI=abs(minI[0]-minI[1])\n",
        "      \n",
        "    if(len(minD)==1):\n",
        "      distanciaD=distanciaT      \n",
        "    else:  \n",
        "      distanciaD=abs(minD[0]-minD[1])\n",
        "      \n",
        "    \n",
        "    \n",
        "    if(distanciaI<distanciaD and distanciaI<distanciaT and distanciaI<distanciaTG):\n",
        "        resultado=[minI[0],minI[1]] \n",
        "    elif(distanciaD<distanciaI and distanciaD<distanciaT and distanciaD<distanciaTG):\n",
        "        resultado=[minD[0],minD[1]]\n",
        "    elif(distanciaT<distanciaI and distanciaT<distanciaD and distanciaT<distanciaTG):\n",
        "        resultado=[minD[0],minD[1]]     \n",
        "    elif(distanciaTG<distanciaI and distanciaTG<distanciaD and distanciaTG<distanciaT):       \n",
        "        resultado=[lista1[mitad-1],lista2[0]]\n",
        "    else:\n",
        "        resultado=[lista1[mitad-1],lista2[0]]\n",
        "      \n",
        "      \n",
        "    return resultado\n",
        "      \n",
        "\n",
        "    \n",
        "@calcular_tiempo \n",
        "def divideVencerasT(lista):\n",
        "  lista.sort()\n",
        "  return divideVenceras(lista)  \n",
        "    \n",
        "\n",
        "\n",
        "print(divideVencerasT(l2))\n"
      ],
      "execution_count": 177,
      "outputs": [
        {
          "output_type": "stream",
          "text": [
            "\r\n",
            " Tiempo de ejecución para algoritmo: 0.0000569820404052734375000\n",
            "[5, 6]\n"
          ],
          "name": "stdout"
        }
      ]
    },
    {
      "metadata": {
        "id": "rq_a7nEMiWtg",
        "colab_type": "code",
        "colab": {}
      },
      "cell_type": "code",
      "source": [
        ""
      ],
      "execution_count": 0,
      "outputs": []
    }
  ]
}