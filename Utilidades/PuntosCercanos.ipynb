{
  "nbformat": 4,
  "nbformat_minor": 0,
  "metadata": {
    "colab": {
      "name": "PuntosCercanos.ipynb",
      "version": "0.3.2",
      "provenance": [],
      "collapsed_sections": [],
      "include_colab_link": true
    },
    "kernelspec": {
      "name": "python3",
      "display_name": "Python 3"
    }
  },
  "cells": [
    {
      "cell_type": "markdown",
      "metadata": {
        "id": "view-in-github",
        "colab_type": "text"
      },
      "source": [
        "<a href=\"https://colab.research.google.com/github/404isabel/03MAIR-Algoritmos-de-optimizacion/blob/master/Utilidades/PuntosCercanos.ipynb\" target=\"_parent\"><img src=\"https://colab.research.google.com/assets/colab-badge.svg\" alt=\"Open In Colab\"/></a>"
      ]
    },
    {
      "metadata": {
        "id": "vdF9GqxDIWsC",
        "colab_type": "text"
      },
      "cell_type": "markdown",
      "source": [
        "Suponer en 1D, o sea, una lista de números: [3403, 4537, 9089, 9746, 7259, ….\n",
        "\n",
        "Primer intento: Fuerza bruta\n",
        "\n",
        "Calcular la complejidad. ¿Se puede mejorar?\n",
        "\n",
        "Segundo intento. Aplicar Divide y Vencerás\n",
        "\n",
        "Calcular la complejidad. ¿Se puede mejorar?\n",
        "\n",
        "Extender el algoritmo a 2D: [(1122, 6175), (135, 4076), (7296, 2741)…\n",
        "\n",
        "Extender el algoritmo a 3D y nD\n",
        "\n",
        "Investiga sobre el problema.Aplicaciones, métodos de resolución, curiosidades, historia,..."
      ]
    },
    {
      "metadata": {
        "id": "v-TCOa8RPUhp",
        "colab_type": "text"
      },
      "cell_type": "markdown",
      "source": [
        "##### Fuerza bruta para 1d y 2d"
      ]
    },
    {
      "metadata": {
        "id": "nGPL_xtrIi3f",
        "colab_type": "code",
        "outputId": "9b5b1465-67c3-4640-ae6e-1d3a7ae5e67c",
        "colab": {
          "base_uri": "https://localhost:8080/",
          "height": 119
        }
      },
      "cell_type": "code",
      "source": [
        "from time import time\n",
        "import random\n",
        "l2 = [60,20,5,40,8,50,10,82,6,103,1,700,600,440,88,750,650,799,490,666,333,222,812,595,110,120,186,999,15,45,70,520,560,680]\n",
        "LISTA_2D = [ (random.randrange(1,100*10),random.randrange(1,100*10))  for _ in range(100)]\n",
        "LISTA = [ (random.randrange(1,100*10))  for _ in range(100)]\n",
        "\n",
        "\n",
        "\n",
        "def calcular_tiempo(f):\n",
        "   \n",
        "    def wrapper(*args, **kwargs):        \n",
        "        inicio = time()       \n",
        "        resultado = f(*args, **kwargs)       \n",
        "        tiempo = float(time() - inicio)     \n",
        "        print(\"\\r\\n Tiempo de ejecución para algoritmo: \"+\"{0:.25f}\".format(tiempo))\n",
        "        return resultado\n",
        "    \n",
        "    return wrapper\n",
        "\n",
        "\n",
        "\n",
        "\n",
        "@calcular_tiempo \n",
        "def puntosCercanosFuerzaM(matriz):\n",
        "  punto1=0\n",
        "  punto2=0\n",
        "  if(len(matriz)<2):\n",
        "    print(\"La matriz tiene que tener al menos 2 elementos\")\n",
        "  \n",
        "  elif(len(matriz)==2):\n",
        "    punto1=matriz[0]\n",
        "    punto2=matriz[1]\n",
        "    \n",
        "  else:  \n",
        "    tmp=0\n",
        "    for i in range(len(matriz)):\n",
        "      for j in range(len(matriz)):    \n",
        "        if tmp==0:          \n",
        "          tmp=distancia(matriz[i],matriz[j])\n",
        "        if tmp!=0 and distancia(matriz[i],matriz[j])<tmp and i!=j:      \n",
        "          tmp=distancia(matriz[i],matriz[j])        \n",
        "          punto1=matriz[i]\n",
        "          punto2=matriz[j]\n",
        "        \n",
        "  print(\"Punto a: \"+str(punto1)+\" Punto b: \"+str(punto2))\n",
        "      \n",
        "#print(matriz)\n",
        "#puntosCercanosFuerzaM(matriz) \n",
        "puntosCercanosFuerzaM(LISTA_2D) \n",
        "puntosCercanosFuerzaM(l2) \n",
        "  \n",
        "\n"
      ],
      "execution_count": 12,
      "outputs": [
        {
          "output_type": "stream",
          "text": [
            "Punto a: (396, 848) Punto b: (400, 847)\n",
            "\r\n",
            " Tiempo de ejecución para algoritmo: 0.0245523452758789062500000\n",
            "Punto a: 5 Punto b: 6\n",
            "\r\n",
            " Tiempo de ejecución para algoritmo: 0.0006942749023437500000000\n"
          ],
          "name": "stdout"
        }
      ]
    },
    {
      "metadata": {
        "id": "aS2abN4zSTYL",
        "colab_type": "text"
      },
      "cell_type": "markdown",
      "source": [
        "#### Dado que se trata de dos bucles anidados, la complejidad es de tipo cuadrático"
      ]
    },
    {
      "metadata": {
        "id": "Bi52gr4_aFIr",
        "colab_type": "text"
      },
      "cell_type": "markdown",
      "source": [
        "#### Calculo de puntos más cercanos mediante divide y vencerás, para 1d y 2d\n",
        "\n",
        "\n",
        "Dados 2 vectores v y u, la fórmula  para calcular su distancia es:\n",
        "\n",
        " d(v,u)=sqrt( (u1-v1)^2 + (u2-u2)^2 )"
      ]
    },
    {
      "metadata": {
        "id": "mVsW3aqcPXzQ",
        "colab_type": "code",
        "outputId": "5751b329-e2ca-4e10-f9f9-581cb0746e37",
        "colab": {
          "base_uri": "https://localhost:8080/",
          "height": 187
        }
      },
      "cell_type": "code",
      "source": [
        "def distancia(A,B):\n",
        "  if type(A) is int or type(A) is float:\n",
        "    return abs(B-A)\n",
        "  else:\n",
        "    return math.sqrt(sum([(A[i]-B[i])**2 for i in range(len(A))]))\n",
        "#En este algoritmo, parto de un array ordenado\n",
        "#Voy dividiendo el algoritmo en dos de forma sucesiva y calculando las distancias\n",
        "#de la matriz 1 y la matriz 2, así como sus elementos adyacentes\n",
        "#es decir el último de matriz 1 y el primero de matriz 2\n",
        "#Me quedo con la menor distancia obtenida\n",
        "def divideVencerasMatriz(matriz):  \n",
        "  \n",
        "  if(len(matriz)<2):   \n",
        "    return matriz\n",
        "  \n",
        "  elif(len(matriz)==2):\n",
        "    punto1=matriz[0]\n",
        "    punto2=matriz[1]\n",
        "    matriz=[punto1,punto2]    \n",
        "    return matriz\n",
        "  else:\n",
        "    \n",
        "    resultado=[0,0]\n",
        "    \n",
        "    #Divido en dos partes la matriz ya ordenada\n",
        "    mitad=int(len(matriz)/2)\n",
        "    matriz1=matriz[0:mitad]\n",
        "    matriz2=matriz[mitad:]\n",
        "        \n",
        "    #distancia de las mitades \n",
        "    #Compruebo la distancia del último elemento de la matriz 1 y del primer elemento de la matriz 2)\n",
        "    distanciaTG=distancia(matriz1[mitad-1],matriz2[0])\n",
        "    \n",
        "    #Ejecuto de manera recursiva el algoritmo para la primera y la segunda parte de forma sucesiva  \n",
        "    minI=divideVencerasMatriz(matriz1)\n",
        "    minD=divideVencerasMatriz(matriz2)\n",
        "    \n",
        "   \n",
        "    #Si minI tiene dos elementos y minD también, compruebo la distancia\n",
        "    #que hay entre el último elemento del primer array y el primer elemento del segundo\n",
        "    \n",
        "    #Si sólo tiene un elemento cojo como distanciaT la primera distancia obtenida:distanciaTG\n",
        "    #Para más de 1 dimensión, no es suficiente con coger el último elemento y el primero, hay que comparar los dos pares\n",
        "    if(len(minI)>1 and len(minD)>1):\n",
        "      distanciaT=distancia(minI[1],minD[0])\n",
        "    else:      \n",
        "      distanciaT=distanciaTG\n",
        "    \n",
        "    #Compruebo la distancia de los elementos de minI y lo guardo en distanciaI, si sólo hay un elemento\n",
        "    #cojo lo que hay en distanciaT\n",
        "    if(len(minI)==1):\n",
        "      distanciaI=distanciaT     \n",
        "    else:\n",
        "      distanciaI=distancia(minI[0],minI[1])\n",
        "    \n",
        "    #Compruebo la distancia de los elementos de minD, y lo guardo en distanciaD, si sólo hay un elemento\n",
        "    #cojo lo que hay en distanciaT\n",
        "    if(len(minD)==1):\n",
        "      distanciaD=distanciaT      \n",
        "    else:  \n",
        "      distanciaD=distancia(minD[0],minD[1])\n",
        "      \n",
        "    \n",
        "    #Por último miro cual de todas las distancias es la menor, y la guardo en la variable resultado\n",
        "    if(distanciaI<distanciaD and distanciaI<distanciaT and distanciaI<distanciaTG):\n",
        "        resultado=[minI[0],minI[1]] \n",
        "    elif(distanciaD<distanciaI and distanciaD<distanciaT and distanciaD<distanciaTG):\n",
        "        resultado=[minD[0],minD[1]]\n",
        "    elif(distanciaT<distanciaI and distanciaT<distanciaD and distanciaT<distanciaTG):\n",
        "        resultado=[minD[0],minD[1]]     \n",
        "    elif(distanciaTG<distanciaI and distanciaTG<distanciaD and distanciaTG<distanciaT):       \n",
        "        resultado=[matriz1[mitad-1],matriz2[0]] \n",
        "    elif(distanciaI==0 and len(minI)>1):\n",
        "        resultado=[minI[0],minI[1]] \n",
        "        return resultado\n",
        "    elif(distanciaD==0 and len(minD)>1):\n",
        "        resultado=[minD[0],minD[1]] \n",
        "        return resultado    \n",
        "    else:\n",
        "        resultado=[matriz1[mitad-1],matriz2[0]]\n",
        "      \n",
        "      \n",
        "    return resultado\n",
        "      \n",
        "\n",
        "@calcular_tiempo \n",
        "def divideVencerasMatrizT(matriz): \n",
        "  if type(matriz[0]) is int or type(matriz[0]) is float:      \n",
        "       matriz=sorted(matriz)\n",
        "  else:     \n",
        "      matriz=sorted(matriz, key=lambda x:x[0])\n",
        "  return divideVencerasMatriz(matriz) \n",
        "\n",
        "\n",
        "#Prueba con 1 dimensión\n",
        "print(\"\\r\\n ---- Con 1 dimensión:\")\n",
        "print(divideVencerasMatrizT([25,44,38,11,32,90,33]))\n",
        "print(\"\\r\\n ---- Con 10000 elementos:\")\n",
        "print(divideVencerasMatrizT(LISTA_2D))\n"
      ],
      "execution_count": 13,
      "outputs": [
        {
          "output_type": "stream",
          "text": [
            "\r\n",
            " ---- Con 1 dimensión:\n",
            "\r\n",
            " Tiempo de ejecución para algoritmo: 0.0000250339508056640625000\n",
            "[32, 33]\n",
            "\r\n",
            " ---- Con 10000 elementos:\n",
            "\r\n",
            " Tiempo de ejecución para algoritmo: 0.0006756782531738281250000\n",
            "[(396, 848), (400, 847)]\n"
          ],
          "name": "stdout"
        }
      ]
    },
    {
      "metadata": {
        "id": "V8nFRVJMxo7E",
        "colab_type": "code",
        "colab": {}
      },
      "cell_type": "code",
      "source": [
        ""
      ],
      "execution_count": 0,
      "outputs": []
    }
  ]
}