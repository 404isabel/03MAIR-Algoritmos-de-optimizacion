{
  "nbformat": 4,
  "nbformat_minor": 0,
  "metadata": {
    "colab": {
      "name": "ViajeRio.ipynb",
      "version": "0.3.2",
      "provenance": [],
      "collapsed_sections": [],
      "include_colab_link": true
    },
    "kernelspec": {
      "name": "python3",
      "display_name": "Python 3"
    }
  },
  "cells": [
    {
      "cell_type": "markdown",
      "metadata": {
        "id": "view-in-github",
        "colab_type": "text"
      },
      "source": [
        "<a href=\"https://colab.research.google.com/github/404isabel/03MAIR-Algoritmos-de-optimizacion/blob/master/Utilidades/ViajeRio.ipynb\" target=\"_parent\"><img src=\"https://colab.research.google.com/assets/colab-badge.svg\" alt=\"Open In Colab\"/></a>"
      ]
    },
    {
      "metadata": {
        "id": "bgqsx_nZ2Jh3",
        "colab_type": "code",
        "colab": {}
      },
      "cell_type": "code",
      "source": [
        "TARIFAS=[[0,23,44,55],\n",
        "         [45,233,144,15],\n",
        "         [2,13,444,35],\n",
        "         [123,29,54,5]]"
      ],
      "execution_count": 0,
      "outputs": []
    },
    {
      "metadata": {
        "id": "-NnaRF1K2aAk",
        "colab_type": "code",
        "colab": {
          "base_uri": "https://localhost:8080/",
          "height": 204
        },
        "outputId": "6b718fe6-b955-4b88-ba6d-4b0c4f540128"
      },
      "cell_type": "code",
      "source": [
        "def Precios(TARIFAS):\n",
        "  N = len(TARIFAS)\n",
        "  \n",
        "  #Inicializo las variables, PRECIOS A 1000, y RUTA  a vacíos\n",
        "  PRECIOS = [[1000]*N for i in [1000]*N]\n",
        "  RUTA = [[\"\"]*N for i in[1000]*N]  \n",
        "  print(PRECIOS)\n",
        "  print(RUTA)\n",
        "  \n",
        "  for i in range(N-1):\n",
        "    for j in range(i+1,N):\n",
        "      MIN = TARIFAS[i][j]\n",
        "      RUTA[i][j]= i\n",
        "      \n",
        "      for k in range(i,j):\n",
        "        if PRECIOS[i][k]+TARIFAS[k][j]<MIN:\n",
        "          MIN=PRECIOS[i][k]+TARIFAS[k][j]\n",
        "          RUTA[i][j]=k\n",
        "        PRECIOS[i][j]=MIN\n",
        "  return PRECIOS, RUTA\n",
        "\n",
        "def pintarRuta(RUTAS,desde,hasta):\n",
        "  if desde==hasta:\n",
        "    return desde\n",
        "  else:\n",
        "    return str(pintarRuta(RUTAS, desde, RUTAS[desde][hasta]))+','+str(RUTAS[desde][hasta])\n",
        "  \n",
        "  \n",
        "\n",
        "PRECIOS,RUTAS=Precios(TARIFAS)  \n",
        "print(\"\\r\\n\")\n",
        "print(PRECIOS)\n",
        "print(\"\\r\\n\")\n",
        "print(RUTAS)\n",
        "print(\"\\r\\n\")\n",
        "pintarRuta(RUTAS,2,3)"
      ],
      "execution_count": 18,
      "outputs": [
        {
          "output_type": "stream",
          "text": [
            "[[1000, 1000, 1000, 1000], [1000, 1000, 1000, 1000], [1000, 1000, 1000, 1000], [1000, 1000, 1000, 1000]]\n",
            "[['', '', '', ''], ['', '', '', ''], ['', '', '', ''], ['', '', '', '']]\n",
            "\r\n",
            "\n",
            "[[1000, 23, 44, 38], [1000, 1000, 144, 15], [1000, 1000, 1000, 35], [1000, 1000, 1000, 1000]]\n",
            "\r\n",
            "\n",
            "[['', 0, 0, 1], ['', '', 1, 1], ['', '', '', 2], ['', '', '', '']]\n",
            "\r\n",
            "\n"
          ],
          "name": "stdout"
        },
        {
          "output_type": "execute_result",
          "data": {
            "text/plain": [
              "'2,2'"
            ]
          },
          "metadata": {
            "tags": []
          },
          "execution_count": 18
        }
      ]
    },
    {
      "metadata": {
        "id": "YT6yAHOO3lX8",
        "colab_type": "code",
        "colab": {}
      },
      "cell_type": "code",
      "source": [
        ""
      ],
      "execution_count": 0,
      "outputs": []
    }
  ]
}