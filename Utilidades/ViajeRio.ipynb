{
  "nbformat": 4,
  "nbformat_minor": 0,
  "metadata": {
    "colab": {
      "name": "ViajeRio.ipynb",
      "version": "0.3.2",
      "provenance": [],
      "collapsed_sections": [],
      "include_colab_link": true
    },
    "kernelspec": {
      "name": "python3",
      "display_name": "Python 3"
    }
  },
  "cells": [
    {
      "cell_type": "markdown",
      "metadata": {
        "id": "view-in-github",
        "colab_type": "text"
      },
      "source": [
        "<a href=\"https://colab.research.google.com/github/404isabel/03MAIR-Algoritmos-de-optimizacion/blob/master/Utilidades/ViajeRio.ipynb\" target=\"_parent\"><img src=\"https://colab.research.google.com/assets/colab-badge.svg\" alt=\"Open In Colab\"/></a>"
      ]
    },
    {
      "metadata": {
        "id": "bgqsx_nZ2Jh3",
        "colab_type": "code",
        "colab": {}
      },
      "cell_type": "code",
      "source": [
        "#TARIFAS=[[0,5,4,3,999,999,999],\n",
        "#         [999,0,999,2,3,999,11],\n",
        "#         [999,999,0,1,999,4,10],\n",
        "#         [999,999,999,0,5,6,9],\n",
        "#         [999,999,999,999,0,999,4],\n",
        "#         [999,999,999,999,999,0,3],\n",
        "#         [999,999,999,999,999,999,0]]\n",
        "\n",
        "\n",
        "TARIFAS=[[0,5,4,3,999,999,999],\n",
        "         [999,0,0,2,3,999,11],\n",
        "         [0,999,0,1,0,4,10],\n",
        "         [0,999,0,0,5,6,9],\n",
        "         [999,0,999,0,0,999,4],\n",
        "         [999,0,0,999,0,0,3],\n",
        "         [999,999,999,999,999,0,0]]"
      ],
      "execution_count": 0,
      "outputs": []
    },
    {
      "metadata": {
        "id": "-NnaRF1K2aAk",
        "colab_type": "code",
        "colab": {
          "base_uri": "https://localhost:8080/",
          "height": 170
        },
        "outputId": "d25298e4-4705-4cc7-f3c2-2cf1f5e862a6"
      },
      "cell_type": "code",
      "source": [
        "def Precios(TARIFAS):\n",
        "  N = len(TARIFAS)\n",
        "  \n",
        "  #Inicializo las variables, PRECIOS A 999, y RUTA  a vacíos\n",
        "  PRECIOS = [[999]*N for i in [999]*N]\n",
        "  RUTA = [[\"\"]*N for i in[999]*N]  \n",
        "  #print(PRECIOS)\n",
        "  #print(RUTA)\n",
        "  \n",
        "  for i in range(N-1):\n",
        "    for j in range(i+1,N):\n",
        "      MIN = TARIFAS[i][j]\n",
        "      RUTA[i][j]= i\n",
        "      \n",
        "      for k in range(i,j):\n",
        "        if PRECIOS[i][k]+TARIFAS[k][j]<MIN:\n",
        "          MIN=PRECIOS[i][k]+TARIFAS[k][j]\n",
        "          RUTA[i][j]=k\n",
        "        PRECIOS[i][j]=MIN\n",
        "  return PRECIOS, RUTA\n",
        "\n",
        "def pintarRuta(RUTAS,desde,hasta):\n",
        "  if desde==hasta:\n",
        "    return desde\n",
        "  else:\n",
        "    return str(pintarRuta(RUTAS, desde, RUTAS[desde][hasta]))+','+str(RUTAS[desde][hasta])\n",
        "  \n",
        "  \n",
        "\n",
        "PRECIOS,RUTAS=Precios(TARIFAS)  \n",
        "print(\"\\r\\n\")\n",
        "print(PRECIOS)\n",
        "print(\"\\r\\n\")\n",
        "print(RUTAS)\n",
        "print(\"\\r\\n\")\n",
        "pintarRuta(RUTAS,0,6)"
      ],
      "execution_count": 43,
      "outputs": [
        {
          "output_type": "stream",
          "text": [
            "\r\n",
            "\n",
            "[[999, 5, 4, 3, 4, 8, 8], [999, 999, 0, 1, 0, 4, 4], [999, 999, 999, 1, 0, 4, 4], [999, 999, 999, 999, 5, 6, 9], [999, 999, 999, 999, 999, 999, 4], [999, 999, 999, 999, 999, 999, 3], [999, 999, 999, 999, 999, 999, 999]]\n",
            "\r\n",
            "\n",
            "[['', 0, 0, 0, 2, 2, 4], ['', '', 1, 2, 2, 2, 4], ['', '', '', 2, 2, 2, 4], ['', '', '', '', 3, 3, 3], ['', '', '', '', '', 4, 4], ['', '', '', '', '', '', 5], ['', '', '', '', '', '', '']]\n",
            "\r\n",
            "\n"
          ],
          "name": "stdout"
        },
        {
          "output_type": "execute_result",
          "data": {
            "text/plain": [
              "'0,0,2,4'"
            ]
          },
          "metadata": {
            "tags": []
          },
          "execution_count": 43
        }
      ]
    },
    {
      "metadata": {
        "id": "YT6yAHOO3lX8",
        "colab_type": "code",
        "colab": {}
      },
      "cell_type": "code",
      "source": [
        ""
      ],
      "execution_count": 0,
      "outputs": []
    }
  ]
}