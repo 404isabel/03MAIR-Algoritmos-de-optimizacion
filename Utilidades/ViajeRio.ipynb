{
  "nbformat": 4,
  "nbformat_minor": 0,
  "metadata": {
    "colab": {
      "name": "ViajeRio.ipynb",
      "version": "0.3.2",
      "provenance": [],
      "collapsed_sections": [],
      "include_colab_link": true
    },
    "kernelspec": {
      "name": "python3",
      "display_name": "Python 3"
    }
  },
  "cells": [
    {
      "cell_type": "markdown",
      "metadata": {
        "id": "view-in-github",
        "colab_type": "text"
      },
      "source": [
        "<a href=\"https://colab.research.google.com/github/404isabel/03MAIR-Algoritmos-de-optimizacion/blob/master/Utilidades/ViajeRio.ipynb\" target=\"_parent\"><img src=\"https://colab.research.google.com/assets/colab-badge.svg\" alt=\"Open In Colab\"/></a>"
      ]
    },
    {
      "metadata": {
        "id": "bgqsx_nZ2Jh3",
        "colab_type": "code",
        "colab": {}
      },
      "cell_type": "code",
      "source": [
        "#Si no es posible ir desde un i a un j, se inicializa con un valor alto, para garantizar\n",
        "#que ese trayecto no se elija en una ruta optima\n",
        "#TARIFAS=[[0,5,4,3,999,999,999],\n",
        "#         [999,0,999,2,3,999,11],\n",
        "#         [999,999,0,1,999,4,10],\n",
        "#         [999,999,999,0,5,6,9],\n",
        "#         [999,999,999,999,0,999,4],\n",
        "#         [999,999,999,999,999,0,3],\n",
        "#         [999,999,999,999,999,0,0]]\n",
        "\n",
        "#Filas: embarcaderos\n",
        "#Columnas hasta\n",
        "#Para ir desde el embarcadero 0 hasta el 1, el precio se corresponde con TARIFAS[0][1]=5\n",
        "\n",
        "#Caso muy simple:\n",
        "\n",
        "#Embarcadero 0 al 1: 1 euro\n",
        "#0 al 2: 8 euros\n",
        "#0 al 3: 3 euros\n",
        "#0 al 4: NO se puede\n",
        "\n",
        "#1 al 0 no se puede \n",
        "#1 al 2:  1 euro\n",
        "#1 al 4: 9 euros\n",
        "\n",
        "#....\n",
        "\n",
        "\n",
        "TARIFAS=[[0,1,8,3,999],\n",
        "        [999,0,1,999,9],\n",
        "        [999,999,0,999,1],\n",
        "        [999,999,999,0,7],\n",
        "        [999,999,999,0,0]]"
      ],
      "execution_count": 0,
      "outputs": []
    },
    {
      "metadata": {
        "id": "-NnaRF1K2aAk",
        "colab_type": "code",
        "colab": {
          "base_uri": "https://localhost:8080/",
          "height": 187
        },
        "outputId": "48e6449d-913d-410f-fefc-1dc48c6a8ddf"
      },
      "cell_type": "code",
      "source": [
        "def Precios(TARIFAS):\n",
        "  N = len(TARIFAS)\n",
        "  \n",
        "  #Inicializo las variables, PRECIOS A 999, y RUTA  a vacíos\n",
        "  PRECIOS = [[999]*N for i in [999]*N]\n",
        "  RUTA = [[\"\"]*N for i in[999]*N]  \n",
        "  #print(PRECIOS)\n",
        "  #print(RUTA)\n",
        "  \n",
        "  for i in range(N-1):\n",
        "    for j in range(i+1,N):\n",
        "      MIN = TARIFAS[i][j]\n",
        "      RUTA[i][j]= i\n",
        "      \n",
        "      for k in range(i,j):\n",
        "        if PRECIOS[i][k]+TARIFAS[k][j]<MIN:\n",
        "          MIN=PRECIOS[i][k]+TARIFAS[k][j]\n",
        "          RUTA[i][j]=k\n",
        "        PRECIOS[i][j]=MIN\n",
        "  return PRECIOS, RUTA\n",
        "\n",
        "def pintarRuta(RUTAS,desde,hasta):\n",
        " \n",
        "  if desde==hasta:\n",
        "    return desde    \n",
        "  else:    \n",
        "    return str(pintarRuta(RUTAS, desde, RUTAS[desde][hasta]))+','+str(RUTAS[desde][hasta])\n",
        "   \n",
        "  \n",
        "\n",
        "PRECIOS,RUTAS=Precios(TARIFAS)  \n",
        "print(\"\\r\\n\")\n",
        "print(PRECIOS)\n",
        "print(\"\\r\\n\")\n",
        "print(RUTAS)\n",
        "print(\"\\r\\n Ruta: \\r\\n\")\n",
        "pintarRuta(RUTAS,0,4)"
      ],
      "execution_count": 79,
      "outputs": [
        {
          "output_type": "stream",
          "text": [
            "\r\n",
            "\n",
            "[[999, 1, 2, 3, 3], [999, 999, 1, 999, 2], [999, 999, 999, 999, 1], [999, 999, 999, 999, 7], [999, 999, 999, 999, 999]]\n",
            "\r\n",
            "\n",
            "[['', 0, 1, 0, 2], ['', '', 1, 1, 2], ['', '', '', 2, 2], ['', '', '', '', 3], ['', '', '', '', '']]\n",
            "\r\n",
            " Ruta: \r\n",
            "\n"
          ],
          "name": "stdout"
        },
        {
          "output_type": "execute_result",
          "data": {
            "text/plain": [
              "'0,0,1,2'"
            ]
          },
          "metadata": {
            "tags": []
          },
          "execution_count": 79
        }
      ]
    },
    {
      "metadata": {
        "id": "YT6yAHOO3lX8",
        "colab_type": "code",
        "colab": {}
      },
      "cell_type": "code",
      "source": [
        "#### Del embarcadero 0 al 0 (Esto igual sobra ponerlo)\n",
        "#### Del embarcadero 0 al 1\n",
        "#### Del embarcadero 1 al 2\n",
        "#### Del embarcadero 2 al 4 (no lo ponemos, por evidente)\n",
        "\n",
        "#Precio: 0 al 1: 1 euro\n",
        "#        1 al 2: 1 euro\n",
        "#        2 al 4: 1 euro"
      ],
      "execution_count": 0,
      "outputs": []
    },
    {
      "metadata": {
        "id": "R2oYhsC6JMBD",
        "colab_type": "code",
        "colab": {}
      },
      "cell_type": "code",
      "source": [
        ""
      ],
      "execution_count": 0,
      "outputs": []
    }
  ]
}