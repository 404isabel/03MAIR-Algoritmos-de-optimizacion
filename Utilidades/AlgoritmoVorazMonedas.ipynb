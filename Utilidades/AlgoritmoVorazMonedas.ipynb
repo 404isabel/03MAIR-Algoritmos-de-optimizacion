{
  "nbformat": 4,
  "nbformat_minor": 0,
  "metadata": {
    "colab": {
      "name": "Untitled4.ipynb",
      "version": "0.3.2",
      "provenance": [],
      "include_colab_link": true
    },
    "kernelspec": {
      "name": "python3",
      "display_name": "Python 3"
    }
  },
  "cells": [
    {
      "cell_type": "markdown",
      "metadata": {
        "id": "view-in-github",
        "colab_type": "text"
      },
      "source": [
        "<a href=\"https://colab.research.google.com/github/404isabel/03MAIR-Algoritmos-de-optimizacion/blob/master/Utilidades/AlgoritmoVorazMonedas.ipynb\" target=\"_parent\"><img src=\"https://colab.research.google.com/assets/colab-badge.svg\" alt=\"Open In Colab\"/></a>"
      ]
    },
    {
      "metadata": {
        "id": "X7ClnhLjQAtQ",
        "colab_type": "code",
        "colab": {}
      },
      "cell_type": "code",
      "source": [
        "def cambioMonedas(cantidad, monedas):\n",
        "  monedas.sort(reverse=True)\n",
        "  resultado=[]\n",
        "  i=0\n",
        "  total=0\n",
        "  while(i<len(monedas) and total<cantidad):\n",
        "    if(cantidad >= monedas[i] and monedas[i]+total<=cantidad):      \n",
        "      resultado.append(monedas[i])\n",
        "      total+=monedas[i]\n",
        "    else:\n",
        "      i+=1\n",
        "  return resultado  \n",
        "    \n",
        "cambioMonedas(227,[1,5,10,20,50,100])   "
      ],
      "execution_count": 0,
      "outputs": []
    },
    {
      "metadata": {
        "id": "89guHROxQH3Y",
        "colab_type": "code",
        "colab": {}
      },
      "cell_type": "code",
      "source": [
        ""
      ],
      "execution_count": 0,
      "outputs": []
    }
  ]
}