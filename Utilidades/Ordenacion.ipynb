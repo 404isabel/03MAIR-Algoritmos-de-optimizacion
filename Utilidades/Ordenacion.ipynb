{
  "nbformat": 4,
  "nbformat_minor": 0,
  "metadata": {
    "colab": {
      "name": "Ordenacion.ipynb",
      "version": "0.3.2",
      "provenance": [],
      "collapsed_sections": [],
      "include_colab_link": true
    },
    "kernelspec": {
      "name": "python3",
      "display_name": "Python 3"
    }
  },
  "cells": [
    {
      "cell_type": "markdown",
      "metadata": {
        "id": "view-in-github",
        "colab_type": "text"
      },
      "source": [
        "<a href=\"https://colab.research.google.com/github/404isabel/03MAIR-Algoritmos-de-optimizacion/blob/master/Utilidades/Ordenacion.ipynb\" target=\"_parent\"><img src=\"https://colab.research.google.com/assets/colab-badge.svg\" alt=\"Open In Colab\"/></a>"
      ]
    },
    {
      "metadata": {
        "id": "7thKydn8EtDt",
        "colab_type": "code",
        "colab": {}
      },
      "cell_type": "code",
      "source": [
        ""
      ],
      "execution_count": 0,
      "outputs": []
    },
    {
      "metadata": {
        "id": "f0tfL5KaE0ZK",
        "colab_type": "code",
        "colab": {
          "base_uri": "https://localhost:8080/",
          "height": 391
        },
        "outputId": "37363a33-2c32-4248-a9b5-f967b7f07419"
      },
      "cell_type": "code",
      "source": [
        "from time import time\n",
        "milista = [9187, 244, 4054, 9222, 8373, 4993, 5265, 5470, 4519, 7182, 2035, 3506, 4337, 7580, 2554, 2824, 8357, 4447, 7379]\n",
        "\n",
        "\n",
        "#Ordenación por burbuja\n",
        "@calcular_tiempo\n",
        "def bubble_sort(A):\n",
        "  for i in range(len(A)-1):\n",
        "    for j in range(len(A)-1):\n",
        "      if(A[j]>A[j+1]):      \n",
        "        A[j], A[j+1] = A[j+1], A[j]\n",
        "        \n",
        "  print(A) \n",
        "\n",
        "bubble_sort(milista)\n",
        "\n",
        "\n",
        "A = [9187, 244, 4054, 9222, 8373, 4993, 5265, 5470, 4519, 7182, 2035, 3506, 4337, 7580, 2554, 2824, 8357, 4447, 7379]\n",
        "#Ordenación por montículos\n",
        "@calcular_tiempo\n",
        "class MonticuloBinario:\n",
        "    def __init__(self):\n",
        "        self.listaMonticulo = [0]\n",
        "        self.tamanoActual = 0\n",
        "\n",
        "\n",
        "    def infiltArriba(self,i):\n",
        "        while i // 2 > 0:\n",
        "          if self.listaMonticulo[i] < self.listaMonticulo[i // 2]:\n",
        "             tmp = self.listaMonticulo[i // 2]\n",
        "             self.listaMonticulo[i // 2] = self.listaMonticulo[i]\n",
        "             self.listaMonticulo[i] = tmp\n",
        "          i = i // 2\n",
        "\n",
        "    def insertar(self,k):\n",
        "      self.listaMonticulo.append(k)\n",
        "      self.tamanoActual = self.tamanoActual + 1\n",
        "      self.infiltArriba(self.tamanoActual)\n",
        "\n",
        "    def infiltAbajo(self,i):\n",
        "      while (i * 2) <= self.tamanoActual:\n",
        "          hm = self.hijoMin(i)\n",
        "          if self.listaMonticulo[i] > self.listaMonticulo[hm]:\n",
        "              tmp = self.listaMonticulo[i]\n",
        "              self.listaMonticulo[i] = self.listaMonticulo[hm]\n",
        "              self.listaMonticulo[hm] = tmp\n",
        "          i = hm\n",
        "\n",
        "    def hijoMin(self,i):\n",
        "      if i * 2 + 1 > self.tamanoActual:\n",
        "          return i * 2\n",
        "      else:\n",
        "          if self.listaMonticulo[i*2] < self.listaMonticulo[i*2+1]:\n",
        "              return i * 2\n",
        "          else:\n",
        "              return i * 2 + 1\n",
        "\n",
        "    def eliminarMin(self):\n",
        "      valorSacado = self.listaMonticulo[1]\n",
        "      self.listaMonticulo[1] = self.listaMonticulo[self.tamanoActual]\n",
        "      self.tamanoActual = self.tamanoActual - 1\n",
        "      self.listaMonticulo.pop()\n",
        "      self.infiltAbajo(1)\n",
        "      return valorSacado\n",
        "\n",
        "    def construirMonticulo(self,unaLista):\n",
        "      i = len(unaLista) // 2\n",
        "      self.tamanoActual = len(unaLista)\n",
        "      self.listaMonticulo = [0] + unaLista[:]\n",
        "      while (i > 0):\n",
        "          self.infiltAbajo(i)\n",
        "          i = i - 1\n",
        "\n",
        "  \n",
        "\n",
        "miMonticulo = MonticuloBinario()\n",
        "miMonticulo.construirMonticulo(A)\n",
        "for t in range(len(A)):\n",
        "  print(miMonticulo.eliminarMin())\n",
        "\n",
        "  "
      ],
      "execution_count": 67,
      "outputs": [
        {
          "output_type": "stream",
          "text": [
            "[244, 2035, 2554, 2824, 3506, 4054, 4337, 4447, 4519, 4993, 5265, 5470, 7182, 7379, 7580, 8357, 8373, 9187, 9222]\n",
            "Tiempo de ejecución para algoritmo: 0.0006620883941650391\n",
            "Tiempo de ejecución para algoritmo: 1.9073486328125e-06\n",
            "244\n",
            "2035\n",
            "2554\n",
            "2824\n",
            "3506\n",
            "4054\n",
            "4337\n",
            "4447\n",
            "4519\n",
            "4993\n",
            "5265\n",
            "5470\n",
            "7182\n",
            "7379\n",
            "7580\n",
            "8357\n",
            "8373\n",
            "9187\n",
            "9222\n"
          ],
          "name": "stdout"
        }
      ]
    },
    {
      "metadata": {
        "id": "kJL6m4ylljmb",
        "colab_type": "code",
        "colab": {
          "base_uri": "https://localhost:8080/",
          "height": 136
        },
        "outputId": "fdb8ea33-b6b3-4742-a272-fefcccffc7a9"
      },
      "cell_type": "code",
      "source": [
        "#Divide y vencerás\n",
        "#N:número que hay que resolver\n",
        "#desde: posición donde se encuentra la torre que hay que resolver\n",
        "#hasta: posición hasta la cual movemos\n",
        "def torres_hanoy(N, desde, hasta):\n",
        "  #print(\"entro en la función \"+str(N)+\" \"+str(desde)+ \"  \"+str(hasta))\n",
        "  if(N==1):\n",
        "    print(\"Desde \"+str(desde)+ \" hasta \"+str(hasta))\n",
        "  else:\n",
        "    torres_hanoy(N-1, desde, 6-desde-hasta)\n",
        "    print(\"Desde \"+str(desde)+ \" hasta \"+str(hasta))\n",
        "    torres_hanoy(N-1, 6-desde-hasta,hasta)\n",
        "    \n",
        "torres_hanoy(3,1,3)\n"
      ],
      "execution_count": 79,
      "outputs": [
        {
          "output_type": "stream",
          "text": [
            "Desde 1 hasta 3\n",
            "Desde 1 hasta 2\n",
            "Desde 3 hasta 2\n",
            "Desde 1 hasta 3\n",
            "Desde 2 hasta 1\n",
            "Desde 2 hasta 3\n",
            "Desde 1 hasta 3\n"
          ],
          "name": "stdout"
        }
      ]
    },
    {
      "metadata": {
        "id": "WL63b0MsFK-J",
        "colab_type": "code",
        "colab": {}
      },
      "cell_type": "code",
      "source": [
        "#Vuelta atrás (Para problema de ajedrez)\n",
        "# Las posibles soluciones son 4-tuplas (x1,x2,x3,x4) donde el valor de cada elemento es la fila de una reina en la columna i-esima.\n",
        "\n",
        "# - No puede haber dos reinas en la misma columna. Esta restricción se verifica por el modelo que hemos adoptado\n",
        "\n",
        "# - Dos reinas estarán en la misma fila si hay dos valores iguales para una solución parcial.P.Ej: (1,1,*,*) representa las dos primeras reinas en la 1ª fila.\n",
        "\n",
        "# - Dos reinas estará  en la misma diagonal si |xi -xj| = |i-j|\n",
        "#| x1 – y1 | = | x2 – y2 |"
      ],
      "execution_count": 0,
      "outputs": []
    },
    {
      "metadata": {
        "id": "yQohgUzglqVX",
        "colab_type": "code",
        "colab": {}
      },
      "cell_type": "code",
      "source": [
        "import numpy as np"
      ],
      "execution_count": 0,
      "outputs": []
    },
    {
      "metadata": {
        "id": "jIHR2v7yvDvh",
        "colab_type": "code",
        "colab": {
          "base_uri": "https://localhost:8080/",
          "height": 85
        },
        "outputId": "d329d9c5-81ac-46ca-beb4-8cfb6199b78a"
      },
      "cell_type": "code",
      "source": [
        "tablero=np.zeros((4,4))\n",
        "tablero"
      ],
      "execution_count": 150,
      "outputs": [
        {
          "output_type": "execute_result",
          "data": {
            "text/plain": [
              "array([[0., 0., 0., 0.],\n",
              "       [0., 0., 0., 0.],\n",
              "       [0., 0., 0., 0.],\n",
              "       [0., 0., 0., 0.]])"
            ]
          },
          "metadata": {
            "tags": []
          },
          "execution_count": 150
        }
      ]
    },
    {
      "metadata": {
        "id": "A2lsMoWhvbAj",
        "colab_type": "code",
        "colab": {
          "base_uri": "https://localhost:8080/",
          "height": 119
        },
        "outputId": "10d714ae-844a-4afc-bfb6-e689634e54c4"
      },
      "cell_type": "code",
      "source": [
        "tablero=np.zeros((4,4))\n",
        "tablero\n",
        "\n",
        "def tableroReinas(tablero,x,y,iteracion):\n",
        " \n",
        "  total=tablero==1  \n",
        "  maskx=tablero[x]==1\n",
        " \n",
        "  existeY=False\n",
        "  i=0\n",
        "  while(i<len(tablero-1) and existeY==False):\n",
        "    if(tablero[i][y]==1):\n",
        "      existeY=True\n",
        "    i=i+1\n",
        "  \n",
        " \n",
        "  if(len(tablero[maskx])==0 and existeY==False):    \n",
        "   \n",
        "    tablero[x][y]=1  \n",
        "    #Hago salto de caballo\n",
        "    indicex=x\n",
        "    if(x<len(tablero)-1):\n",
        "      indicex=x+1\n",
        "    if(y+2>len(tablero)-1):\n",
        "      indicey=0\n",
        "    else:\n",
        "      indicey=y+2\n",
        "      \n",
        "    tableroReinas(tablero,indicex,indicey,iteracion)\n",
        "  \n",
        "  #El algoritmo ha fracasado, vuelvo a empezar\n",
        "  elif(len(tablero[total])<4 and iteracion<3):     \n",
        "    tablero[::]=0\n",
        "    tableroReinas(tablero,0,iteracion+1,iteracion+1)\n",
        "  \n",
        "tableroReinas(tablero,0,0,0)\n",
        "print('\\r\\n')\n",
        "print(tablero)\n",
        "\n",
        "\n",
        "\n"
      ],
      "execution_count": 243,
      "outputs": [
        {
          "output_type": "stream",
          "text": [
            "\r\n",
            "\n",
            "[[0. 1. 0. 0.]\n",
            " [0. 0. 0. 1.]\n",
            " [1. 0. 0. 0.]\n",
            " [0. 0. 1. 0.]]\n"
          ],
          "name": "stdout"
        }
      ]
    },
    {
      "metadata": {
        "id": "NrJDdz8Mve34",
        "colab_type": "code",
        "colab": {}
      },
      "cell_type": "code",
      "source": [
        "#Diseñar un algoritmo por la tecnica voraz en python para resolver el problema del cambio que se enuncia de la siguiente manera.\n",
        "\n",
        "#Dado un sistema monetario (1,v1,v2,v3,… vn) descomponer cualquier cantidad C de manera que usemos el menor numero de monedas.\n",
        "\n",
        "#En este caso podemos considerar el el sistema monetario como (1,5,10,20,50,100) y disponemos de una cantidad infinita de monedas."
      ],
      "execution_count": 0,
      "outputs": []
    }
  ]
}