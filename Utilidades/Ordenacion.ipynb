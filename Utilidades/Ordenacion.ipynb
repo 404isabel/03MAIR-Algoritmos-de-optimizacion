{
  "nbformat": 4,
  "nbformat_minor": 0,
  "metadata": {
    "colab": {
      "name": "Ordenacion.ipynb",
      "version": "0.3.2",
      "provenance": [],
      "collapsed_sections": [],
      "include_colab_link": true
    },
    "kernelspec": {
      "name": "python3",
      "display_name": "Python 3"
    }
  },
  "cells": [
    {
      "cell_type": "markdown",
      "metadata": {
        "id": "view-in-github",
        "colab_type": "text"
      },
      "source": [
        "<a href=\"https://colab.research.google.com/github/404isabel/03MAIR-Algoritmos-de-optimizacion/blob/master/Utilidades/Ordenacion.ipynb\" target=\"_parent\"><img src=\"https://colab.research.google.com/assets/colab-badge.svg\" alt=\"Open In Colab\"/></a>"
      ]
    },
    {
      "metadata": {
        "id": "7thKydn8EtDt",
        "colab_type": "code",
        "colab": {}
      },
      "cell_type": "code",
      "source": [
        ""
      ],
      "execution_count": 0,
      "outputs": []
    },
    {
      "metadata": {
        "id": "f0tfL5KaE0ZK",
        "colab_type": "code",
        "outputId": "37363a33-2c32-4248-a9b5-f967b7f07419",
        "colab": {
          "base_uri": "https://localhost:8080/",
          "height": 391
        }
      },
      "cell_type": "code",
      "source": [
        "from time import time\n",
        "milista = [9187, 244, 4054, 9222, 8373, 4993, 5265, 5470, 4519, 7182, 2035, 3506, 4337, 7580, 2554, 2824, 8357, 4447, 7379]\n",
        "\n",
        "\n",
        "#Ordenación por burbuja\n",
        "@calcular_tiempo\n",
        "def bubble_sort(A):\n",
        "  for i in range(len(A)-1):\n",
        "    for j in range(len(A)-1):\n",
        "      if(A[j]>A[j+1]):      \n",
        "        A[j], A[j+1] = A[j+1], A[j]\n",
        "        \n",
        "  print(A) \n",
        "\n",
        "bubble_sort(milista)\n",
        "\n",
        "\n",
        "A = [9187, 244, 4054, 9222, 8373, 4993, 5265, 5470, 4519, 7182, 2035, 3506, 4337, 7580, 2554, 2824, 8357, 4447, 7379]\n",
        "#Ordenación por montículos\n",
        "@calcular_tiempo\n",
        "class MonticuloBinario:\n",
        "    def __init__(self):\n",
        "        self.listaMonticulo = [0]\n",
        "        self.tamanoActual = 0\n",
        "\n",
        "\n",
        "    def infiltArriba(self,i):\n",
        "        while i // 2 > 0:\n",
        "          if self.listaMonticulo[i] < self.listaMonticulo[i // 2]:\n",
        "             tmp = self.listaMonticulo[i // 2]\n",
        "             self.listaMonticulo[i // 2] = self.listaMonticulo[i]\n",
        "             self.listaMonticulo[i] = tmp\n",
        "          i = i // 2\n",
        "\n",
        "    def insertar(self,k):\n",
        "      self.listaMonticulo.append(k)\n",
        "      self.tamanoActual = self.tamanoActual + 1\n",
        "      self.infiltArriba(self.tamanoActual)\n",
        "\n",
        "    def infiltAbajo(self,i):\n",
        "      while (i * 2) <= self.tamanoActual:\n",
        "          hm = self.hijoMin(i)\n",
        "          if self.listaMonticulo[i] > self.listaMonticulo[hm]:\n",
        "              tmp = self.listaMonticulo[i]\n",
        "              self.listaMonticulo[i] = self.listaMonticulo[hm]\n",
        "              self.listaMonticulo[hm] = tmp\n",
        "          i = hm\n",
        "\n",
        "    def hijoMin(self,i):\n",
        "      if i * 2 + 1 > self.tamanoActual:\n",
        "          return i * 2\n",
        "      else:\n",
        "          if self.listaMonticulo[i*2] < self.listaMonticulo[i*2+1]:\n",
        "              return i * 2\n",
        "          else:\n",
        "              return i * 2 + 1\n",
        "\n",
        "    def eliminarMin(self):\n",
        "      valorSacado = self.listaMonticulo[1]\n",
        "      self.listaMonticulo[1] = self.listaMonticulo[self.tamanoActual]\n",
        "      self.tamanoActual = self.tamanoActual - 1\n",
        "      self.listaMonticulo.pop()\n",
        "      self.infiltAbajo(1)\n",
        "      return valorSacado\n",
        "\n",
        "    def construirMonticulo(self,unaLista):\n",
        "      i = len(unaLista) // 2\n",
        "      self.tamanoActual = len(unaLista)\n",
        "      self.listaMonticulo = [0] + unaLista[:]\n",
        "      while (i > 0):\n",
        "          self.infiltAbajo(i)\n",
        "          i = i - 1\n",
        "\n",
        "  \n",
        "\n",
        "miMonticulo = MonticuloBinario()\n",
        "miMonticulo.construirMonticulo(A)\n",
        "for t in range(len(A)):\n",
        "  print(miMonticulo.eliminarMin())\n",
        "\n",
        "  "
      ],
      "execution_count": 0,
      "outputs": [
        {
          "output_type": "stream",
          "text": [
            "[244, 2035, 2554, 2824, 3506, 4054, 4337, 4447, 4519, 4993, 5265, 5470, 7182, 7379, 7580, 8357, 8373, 9187, 9222]\n",
            "Tiempo de ejecución para algoritmo: 0.0006620883941650391\n",
            "Tiempo de ejecución para algoritmo: 1.9073486328125e-06\n",
            "244\n",
            "2035\n",
            "2554\n",
            "2824\n",
            "3506\n",
            "4054\n",
            "4337\n",
            "4447\n",
            "4519\n",
            "4993\n",
            "5265\n",
            "5470\n",
            "7182\n",
            "7379\n",
            "7580\n",
            "8357\n",
            "8373\n",
            "9187\n",
            "9222\n"
          ],
          "name": "stdout"
        }
      ]
    },
    {
      "metadata": {
        "id": "kJL6m4ylljmb",
        "colab_type": "code",
        "outputId": "fdb8ea33-b6b3-4742-a272-fefcccffc7a9",
        "colab": {
          "base_uri": "https://localhost:8080/",
          "height": 136
        }
      },
      "cell_type": "code",
      "source": [
        "#Divide y vencerás\n",
        "#N:número que hay que resolver\n",
        "#desde: posición donde se encuentra la torre que hay que resolver\n",
        "#hasta: posición hasta la cual movemos\n",
        "def torres_hanoy(N, desde, hasta):\n",
        "  #print(\"entro en la función \"+str(N)+\" \"+str(desde)+ \"  \"+str(hasta))\n",
        "  if(N==1):\n",
        "    print(\"Desde \"+str(desde)+ \" hasta \"+str(hasta))\n",
        "  else:\n",
        "    torres_hanoy(N-1, desde, 6-desde-hasta)\n",
        "    print(\"Desde \"+str(desde)+ \" hasta \"+str(hasta))\n",
        "    torres_hanoy(N-1, 6-desde-hasta,hasta)\n",
        "    \n",
        "torres_hanoy(3,1,3)\n"
      ],
      "execution_count": 0,
      "outputs": [
        {
          "output_type": "stream",
          "text": [
            "Desde 1 hasta 3\n",
            "Desde 1 hasta 2\n",
            "Desde 3 hasta 2\n",
            "Desde 1 hasta 3\n",
            "Desde 2 hasta 1\n",
            "Desde 2 hasta 3\n",
            "Desde 1 hasta 3\n"
          ],
          "name": "stdout"
        }
      ]
    },
    {
      "metadata": {
        "id": "yQohgUzglqVX",
        "colab_type": "code",
        "colab": {}
      },
      "cell_type": "code",
      "source": [
        "import numpy as np"
      ],
      "execution_count": 0,
      "outputs": []
    },
    {
      "metadata": {
        "id": "A2lsMoWhvbAj",
        "colab_type": "code",
        "outputId": "21365834-acd4-44e3-e8b5-c39e9020c19f",
        "colab": {
          "base_uri": "https://localhost:8080/",
          "height": 136
        }
      },
      "cell_type": "code",
      "source": [
        "tablero=np.zeros((5,5))\n",
        "tablero\n",
        "\n",
        "def tableroReinas(tablero,x,y,iteracion):\n",
        " \n",
        "  total=tablero==1  \n",
        "  maskx=tablero[x]==1\n",
        " \n",
        "  existeY=False\n",
        "  i=0\n",
        "  while(i<len(tablero-1) and existeY==False):\n",
        "    if(tablero[i][y]==1):\n",
        "      existeY=True\n",
        "    i=i+1\n",
        "  \n",
        " \n",
        "  if(len(tablero[maskx])==0 and existeY==False):    \n",
        "   \n",
        "    tablero[x][y]=1  \n",
        "    #Hago salto de caballo\n",
        "    indicex=x\n",
        "    if(x<len(tablero)-1):\n",
        "      indicex=x+1\n",
        "    if(y+2>len(tablero)-1):\n",
        "      indicey=0\n",
        "    else:\n",
        "      indicey=y+2\n",
        "      \n",
        "    tableroReinas(tablero,indicex,indicey,iteracion)\n",
        "  \n",
        "  #El algoritmo ha fracasado, vuelvo a empezar\n",
        "  elif(len(tablero[total])<len(tablero) and iteracion<3):     \n",
        "    tablero[::]=0\n",
        "    tableroReinas(tablero,0,iteracion+1,iteracion+1)\n",
        "  \n",
        "tableroReinas(tablero,0,0,0)\n",
        "print('\\r\\n')\n",
        "print(tablero)\n",
        "\n",
        "\n",
        "\n"
      ],
      "execution_count": 0,
      "outputs": [
        {
          "output_type": "stream",
          "text": [
            "\r\n",
            "\n",
            "[[0. 1. 0. 0. 0.]\n",
            " [0. 0. 0. 1. 0.]\n",
            " [1. 0. 0. 0. 0.]\n",
            " [0. 0. 1. 0. 0.]\n",
            " [0. 0. 0. 0. 1.]]\n"
          ],
          "name": "stdout"
        }
      ]
    },
    {
      "metadata": {
        "id": "p5wT29xFOPuC",
        "colab_type": "code",
        "colab": {
          "base_uri": "https://localhost:8080/",
          "height": 34
        },
        "outputId": "f647326e-0ff3-489d-b2cd-f22d8ad36b6d"
      },
      "cell_type": "code",
      "source": [
        "# Ordenación por selección\n",
        "\n",
        "def selectionSort(alist):\n",
        "  for fillslot in range(len(alist)-1,0,-1):\n",
        "    positionOfMax=0\n",
        "    for location in range(1,fillslot+1):\n",
        "      if alist[location]>alist[positionOfMax]:\n",
        "        positionOfMax = location\n",
        "    temp = alist[fillslot]\n",
        "    alist[fillslot] = alist[positionOfMax]\n",
        "    alist[positionOfMax] = temp\n",
        "    \n",
        "alist = [54,26,93,17,77,31,44,55,20]\n",
        "selectionSort(alist)\n",
        "print(alist)"
      ],
      "execution_count": 1,
      "outputs": [
        {
          "output_type": "stream",
          "text": [
            "[17, 20, 26, 31, 44, 54, 55, 77, 93]\n"
          ],
          "name": "stdout"
        }
      ]
    },
    {
      "metadata": {
        "id": "zXsYKqtGOjfF",
        "colab_type": "code",
        "colab": {
          "base_uri": "https://localhost:8080/",
          "height": 612
        },
        "outputId": "90e57ab4-10fd-4da4-b3c4-cd264be4ca0a"
      },
      "cell_type": "code",
      "source": [
        "# Ordenación por mezcla\n",
        "\n",
        "\n",
        "def mergeSort(alist):\n",
        "  print(\"Splitting \",alist)\n",
        "  if len(alist)>1:\n",
        "    mid = len(alist)//2\n",
        "    lefthalf = alist[:mid]\n",
        "    righthalf = alist[mid:]\n",
        "    mergeSort(lefthalf)\n",
        "    mergeSort(righthalf)\n",
        "    i=0\n",
        "    j=0\n",
        "    k=0\n",
        "    while i < len(lefthalf) and j < len(righthalf):\n",
        "      if lefthalf[i] < righthalf[j]:\n",
        "        alist[k]=lefthalf[i]\n",
        "        i=i+1\n",
        "      else:\n",
        "        alist[k]=righthalf[j]\n",
        "        j=j+1\n",
        "      k=k+1\n",
        "    while i < len(lefthalf):\n",
        "      alist[k]=lefthalf[i]\n",
        "      i=i+1\n",
        "      k=k+1\n",
        "    while j < len(righthalf):\n",
        "      alist[k]=righthalf[j]\n",
        "      j=j+1\n",
        "      k=k+1\n",
        "  print(\"Merging \",alist)\n",
        "alist = [54,26,93,17,77,31,44,55,20]\n",
        "mergeSort(alist)\n",
        "print(alist)"
      ],
      "execution_count": 2,
      "outputs": [
        {
          "output_type": "stream",
          "text": [
            "Splitting  [54, 26, 93, 17, 77, 31, 44, 55, 20]\n",
            "Splitting  [54, 26, 93, 17]\n",
            "Splitting  [54, 26]\n",
            "Splitting  [54]\n",
            "Merging  [54]\n",
            "Splitting  [26]\n",
            "Merging  [26]\n",
            "Merging  [26, 54]\n",
            "Splitting  [93, 17]\n",
            "Splitting  [93]\n",
            "Merging  [93]\n",
            "Splitting  [17]\n",
            "Merging  [17]\n",
            "Merging  [17, 93]\n",
            "Merging  [17, 26, 54, 93]\n",
            "Splitting  [77, 31, 44, 55, 20]\n",
            "Splitting  [77, 31]\n",
            "Splitting  [77]\n",
            "Merging  [77]\n",
            "Splitting  [31]\n",
            "Merging  [31]\n",
            "Merging  [31, 77]\n",
            "Splitting  [44, 55, 20]\n",
            "Splitting  [44]\n",
            "Merging  [44]\n",
            "Splitting  [55, 20]\n",
            "Splitting  [55]\n",
            "Merging  [55]\n",
            "Splitting  [20]\n",
            "Merging  [20]\n",
            "Merging  [20, 55]\n",
            "Merging  [20, 44, 55]\n",
            "Merging  [20, 31, 44, 55, 77]\n",
            "Merging  [17, 20, 26, 31, 44, 54, 55, 77, 93]\n",
            "[17, 20, 26, 31, 44, 54, 55, 77, 93]\n"
          ],
          "name": "stdout"
        }
      ]
    },
    {
      "metadata": {
        "id": "S7AJeU0vPGws",
        "colab_type": "code",
        "colab": {}
      },
      "cell_type": "code",
      "source": [
        ""
      ],
      "execution_count": 0,
      "outputs": []
    }
  ]
}