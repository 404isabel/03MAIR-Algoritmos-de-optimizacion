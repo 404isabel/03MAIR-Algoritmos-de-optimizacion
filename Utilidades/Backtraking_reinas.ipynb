{
  "nbformat": 4,
  "nbformat_minor": 0,
  "metadata": {
    "colab": {
      "name": "Untitled1.ipynb",
      "version": "0.3.2",
      "provenance": [],
      "include_colab_link": true
    },
    "kernelspec": {
      "name": "python3",
      "display_name": "Python 3"
    }
  },
  "cells": [
    {
      "cell_type": "markdown",
      "metadata": {
        "id": "view-in-github",
        "colab_type": "text"
      },
      "source": [
        "<a href=\"https://colab.research.google.com/github/404isabel/03MAIR-Algoritmos-de-optimizacion/blob/master/Utilidades/Backtraking_reinas.ipynb\" target=\"_parent\"><img src=\"https://colab.research.google.com/assets/colab-badge.svg\" alt=\"Open In Colab\"/></a>"
      ]
    },
    {
      "metadata": {
        "id": "TRG4HhOCQ0Bu",
        "colab_type": "code",
        "colab": {
          "base_uri": "https://localhost:8080/",
          "height": 204
        },
        "outputId": "7de1a024-6737-4512-abd0-3dfff1e44c08"
      },
      "cell_type": "code",
      "source": [
        "import numpy as np\n",
        "tablero=np.zeros((4,4))\n",
        "print(tablero)\n",
        "\n",
        "def tableroReinas(tablero,x,y,iteracion):\n",
        " \n",
        "  total=tablero==1  \n",
        "  maskx=tablero[x]==1\n",
        " \n",
        "  existeY=False\n",
        "  i=0\n",
        "  while(i<len(tablero-1) and existeY==False):\n",
        "    if(tablero[i][y]==1):\n",
        "      existeY=True\n",
        "    i=i+1\n",
        "  \n",
        " \n",
        "  if(len(tablero[maskx])==0 and existeY==False):    \n",
        "   \n",
        "    tablero[x][y]=1  \n",
        "    #Hago salto de caballo\n",
        "    indicex=x\n",
        "    if(x<len(tablero)-1):\n",
        "      indicex=x+1\n",
        "    if(y+2>len(tablero)-1):\n",
        "      indicey=0\n",
        "    else:\n",
        "      indicey=y+2\n",
        "      \n",
        "    tableroReinas(tablero,indicex,indicey,iteracion)\n",
        "  \n",
        "  #El algoritmo ha fracasado, vuelvo a empezar\n",
        "  elif(len(tablero[total])<len(tablero) and iteracion<3):     \n",
        "    tablero[::]=0\n",
        "    tableroReinas(tablero,0,iteracion+1,iteracion+1)\n",
        "  \n",
        "tableroReinas(tablero,0,0,0)\n",
        "print('\\r\\n Tablero con reinas: \\r\\n')\n",
        "print(tablero)"
      ],
      "execution_count": 6,
      "outputs": [
        {
          "output_type": "stream",
          "text": [
            "[[0. 0. 0. 0.]\n",
            " [0. 0. 0. 0.]\n",
            " [0. 0. 0. 0.]\n",
            " [0. 0. 0. 0.]]\n",
            "\r\n",
            " Tablero con reinas \r\n",
            "\n",
            "[[0. 1. 0. 0.]\n",
            " [0. 0. 0. 1.]\n",
            " [1. 0. 0. 0.]\n",
            " [0. 0. 1. 0.]]\n"
          ],
          "name": "stdout"
        }
      ]
    },
    {
      "metadata": {
        "id": "O_N9K9q3Q3h3",
        "colab_type": "code",
        "colab": {}
      },
      "cell_type": "code",
      "source": [
        ""
      ],
      "execution_count": 0,
      "outputs": []
    }
  ]
}