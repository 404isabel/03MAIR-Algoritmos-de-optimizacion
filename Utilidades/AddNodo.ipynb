{
  "nbformat": 4,
  "nbformat_minor": 0,
  "metadata": {
    "colab": {
      "name": "AddNodo.ipynb",
      "version": "0.3.2",
      "provenance": [],
      "collapsed_sections": [],
      "include_colab_link": true
    },
    "kernelspec": {
      "name": "python3",
      "display_name": "Python 3"
    }
  },
  "cells": [
    {
      "cell_type": "markdown",
      "metadata": {
        "id": "view-in-github",
        "colab_type": "text"
      },
      "source": [
        "<a href=\"https://colab.research.google.com/github/404isabel/03MAIR-Algoritmos-de-optimizacion/blob/master/Utilidades/AddNodo.ipynb\" target=\"_parent\"><img src=\"https://colab.research.google.com/assets/colab-badge.svg\" alt=\"Open In Colab\"/></a>"
      ]
    },
    {
      "metadata": {
        "id": "vM8oQ9qyS7qW",
        "colab_type": "code",
        "colab": {}
      },
      "cell_type": "code",
      "source": [
        "def Add_Nodo_Mod(problem, H ,T, actual ) :\n",
        " \n",
        "  alfa=1.0 #Peso que se da al rastro\n",
        "  beta=2.5 #Peso que se da a la distancia\n",
        "  \n",
        "  Nodos = list(problem.get_nodes()) \n",
        "  \n",
        "  listaValores  = []\n",
        "  listaValoresPesos = []\n",
        "  \n",
        "  #Teniendo en cuenta sólo las feromonas, me falta calcular mediante las distancias, también\n",
        "  for i in range(len(Nodos)): \n",
        "    \n",
        "    if len(T)>actual and i<len(T[actual]) :  \n",
        "      \n",
        "      feromona  = math.pow((T[actual][i]), alfa)\n",
        "    \n",
        "      #Distancia entre el nodo i y el último nodo de la hormiga     \n",
        "      hormiga=H[actual]\n",
        "      nodohormiga=hormiga[len(hormiga)-1]\n",
        "      dist=(distancia(nodohormiga,Nodos[i],problem))\n",
        "      #Divido entre 1 porque a menor distancia, mayor peso le quiero dar al nodo \n",
        "      # Lo multiplico *100 y lo convierto a entero para que funcione correctamente la función de calculo de probabilidad en base a pesos)\n",
        "      if dist!=0:\n",
        "        dist=1+(1/dist)*100            \n",
        "      \n",
        "      peso = math.pow(dist, beta) * feromona\n",
        "      \n",
        "      s=set(H[actual])\n",
        "      if Nodos[i] not in s:        \n",
        "        elem=(Nodos[i],peso)\n",
        "        listaValoresPesos.append(elem)\n",
        "  \n",
        "  \n",
        "  if(len(listaValoresPesos)>0):     \n",
        "    listadoPesos = [nodo for nodo, peso in listaValoresPesos for i in range(int(peso))]     \n",
        "    valor= random.choice(listadoPesos)\n",
        "    return valor   \n",
        "  else:\n",
        "    return random.choice(list(set(range(1,len(Nodos))) - set(H[actual]) )  )"
      ],
      "execution_count": 0,
      "outputs": []
    }
  ]
}