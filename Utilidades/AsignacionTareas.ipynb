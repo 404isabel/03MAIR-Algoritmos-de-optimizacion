{
  "nbformat": 4,
  "nbformat_minor": 0,
  "metadata": {
    "colab": {
      "name": "AsignacionTareas.ipynb",
      "version": "0.3.2",
      "provenance": [],
      "collapsed_sections": [],
      "include_colab_link": true
    },
    "kernelspec": {
      "name": "python3",
      "display_name": "Python 3"
    }
  },
  "cells": [
    {
      "cell_type": "markdown",
      "metadata": {
        "id": "view-in-github",
        "colab_type": "text"
      },
      "source": [
        "<a href=\"https://colab.research.google.com/github/404isabel/03MAIR-Algoritmos-de-optimizacion/blob/master/Utilidades/AsignacionTareas.ipynb\" target=\"_parent\"><img src=\"https://colab.research.google.com/assets/colab-badge.svg\" alt=\"Open In Colab\"/></a>"
      ]
    },
    {
      "metadata": {
        "id": "0U5JBp9YzxoG",
        "colab_type": "code",
        "colab": {}
      },
      "cell_type": "code",
      "source": [
        "#Columnas: Agentes (1,2,3,4) (A,B,C,D)\n",
        "#Filas: Trabajos (1,2,3,4)\n",
        "import numpy as np\n",
        "tareas = [\n",
        "[9,6,5,7],\n",
        "[2,4,8,6],\n",
        "[7,3,1,9],\n",
        "[8,7,8,4]\n",
        "]\n",
        "\n",
        "from time import time\n",
        "def calcular_tiempo(f):\n",
        "   \n",
        "    def wrapper(*args, **kwargs):        \n",
        "        inicio = time()       \n",
        "        resultado = f(*args, **kwargs)       \n",
        "        tiempo = float(time() - inicio)     \n",
        "        print(\"\\r\\n Tiempo de ejecución para algoritmo: \"+\"{0:.25f}\".format(tiempo))\n",
        "        return resultado\n",
        "    \n",
        "    return wrapper\n",
        "\n"
      ],
      "execution_count": 0,
      "outputs": []
    },
    {
      "metadata": {
        "id": "Dde2HQpHURu8",
        "colab_type": "code",
        "outputId": "e25adb61-3b29-40ca-df9a-609b5c90da19",
        "colab": {
          "base_uri": "https://localhost:8080/",
          "height": 187
        }
      },
      "cell_type": "code",
      "source": [
        "def isMejorable(asignacion,acumulado,superior,superiorLocal):\n",
        "   \n",
        "  #Contar los valores distintos de -1\n",
        "  #Sumar el resto de valores\n",
        "  #Si la suma + (9* número de -1) >=superior\n",
        "  #return true\n",
        "    sinAsignar=0  \n",
        "    for i in asignacion:\n",
        "        if(i==-1):\n",
        "            sinAsignar+=1   \n",
        "      \n",
        "    return(acumulado + (sinAsignar*superiorLocal)>= superior)\n",
        "   \n",
        "def sumaAcumulado(asignacion,tareas):\n",
        "    total=0\n",
        "    indice=0\n",
        "    for i in asignacion:\n",
        "        if(i!=-1):      \n",
        "            total+=tareas[indice][i]\n",
        "        indice+=1   \n",
        "    return total\n",
        "\n",
        "def obtenterIndice(maximo,resultadosNum):\n",
        "    for i in range(len(resultadosNum)):\n",
        "        if resultadosNum[i]==maximo:\n",
        "            return i\n",
        "\n",
        "def crearNuevo(mejorAsignacion):\n",
        "    resultado=[]\n",
        "    for i in mejorAsignacion:\n",
        "        resultado.append(i)\n",
        "        #np.append(resultado,i)\n",
        "    return resultado \n",
        "  \n",
        "def comprobarRepetidosElem(lista,elem):\n",
        "    \n",
        "    array1=np.array(lista)\n",
        "    mask = array1 == elem\n",
        "    repetidos = len(array1[mask]>1)\n",
        "    return repetidos\n",
        "\n",
        "#Voy a devolver todas las mejores asignaciones, no podadas\n",
        "#Y todos los mejores resultados\n",
        "def maximoBeneficio(tareas, asignacion,superiorLocal,i,j,resultadosArr,resultadosNum,iteraciones):\n",
        "  \n",
        "      todosAsignados=False in [-1 in asignacion]\n",
        " \n",
        "        #Si ya he recorrido todos los nodos\n",
        "      if todosAsignados==True and  i>len(tareas)-1 :\n",
        "            \n",
        "        acumulado=sumaAcumulado(asignacion,tareas)    \n",
        "        asignacion=crearNuevo(asignacion)        \n",
        "       \n",
        "        #Añado a los array de resultados si no están repetidos  (porque quiero una relación 1 a 1 entre trabajos y agentes) \n",
        "        if comprobarRepetidosElem(asignacion,0)<=1 and comprobarRepetidosElem(asignacion,1)<=1 and comprobarRepetidosElem(asignacion,2)<=1 and comprobarRepetidosElem(asignacion,3)<=1:\n",
        "            resultadosArr.append(asignacion)        \n",
        "            resultadosNum.append(acumulado)\n",
        "\n",
        "\n",
        "        if iteraciones<3: #sigo por otra rama\n",
        "            \n",
        "            asignacion=[-1,-1,-1,-1]\n",
        "            iteraciones=iteraciones+1\n",
        "\n",
        "            maximoBeneficio(tareas, asignacion,superiorLocal,0,iteraciones,resultadosArr,resultadosNum,iteraciones)          \n",
        "      \n",
        "      else:    \n",
        "\n",
        "        if j<len(tareas): \n",
        "            \n",
        "            #Si se repite, no es válido\n",
        "            valido=True\n",
        "            #if j in asignacion:\n",
        "            #    valido=False\n",
        "            \n",
        "            \n",
        "            asignacion[i]=j             \n",
        "            parcial=sumaAcumulado(asignacion,tareas)\n",
        "            superior=0\n",
        "            \n",
        "            if(len(resultadosNum)>0):\n",
        "                superior=np.max(resultadosNum)                \n",
        "           \n",
        "            if todosAsignados==False and isMejorable(asignacion,parcial,superior,superiorLocal and valido==True):  \n",
        "            \n",
        "                for j in range(len(tareas)):\n",
        "                    maximoBeneficio(tareas, asignacion,superiorLocal,i+1,j,resultadosArr,resultadosNum,iteraciones)\n",
        "               \n",
        "                    \n",
        "            elif todosAsignados==True:\n",
        "                for j in range(len(tareas)):\n",
        "                    maximoBeneficio(tareas, asignacion,superiorLocal,i+1,j,resultadosArr,resultadosNum,iteraciones)\n",
        "          \n",
        "            \n",
        "            #else: #Podo, no entro a comprobar este nodo\n",
        "             #   print(\"No era mejorable\")\n",
        "                #print(asignacion)\n",
        "                #print(parcial)\n",
        "                #print(superior)\n",
        "                #Voy por el nodo anterior\n",
        "            \n",
        "\n",
        "@calcular_tiempo \n",
        "def maximoBeneficioT(tareas, asignacion,superiorLocal,i,j,resultadosArr,resultadosNum,iteraciones):\n",
        "  return maximoBeneficio(tareas, asignacion,superiorLocal,i,j,resultadosArr,resultadosNum,iteraciones)           \n",
        "                \n",
        "mejorAsignacion=[0,0,0,0]\n",
        "asignacion=[-1,-1,-1,-1]\n",
        "resultadosArr=[]\n",
        "resultadosNum=[]\n",
        "mejorHastaAhora=0\n",
        "\n",
        "maximoBeneficioT(tareas,asignacion,9,0,0,resultadosArr,resultadosNum, 1)\n",
        "maximo=np.max(resultadosNum)\n",
        "\n",
        "indice=obtenterIndice(maximo,resultadosNum)\n",
        "secuencia=resultadosArr[indice]\n",
        "\n",
        "print(\"\\r\\n Asignacion óptima:\\r\\n\")\n",
        "print(secuencia)\n",
        "print(\"\\r\\n Resultado óptimo de la asignación: \\r\\n\")\n",
        "print(maximo)\n",
        "\n"
      ],
      "execution_count": 39,
      "outputs": [
        {
          "output_type": "stream",
          "text": [
            "\r\n",
            " Tiempo de ejecución para algoritmo: 0.0247704982757568359375000\n",
            "\r\n",
            " Asignacion óptima:\r\n",
            "\n",
            "[0, 2, 3, 1]\n",
            "\r\n",
            " Resultado óptimo de la asignación: \r\n",
            "\n",
            "33\n"
          ],
          "name": "stdout"
        }
      ]
    },
    {
      "metadata": {
        "id": "DkFHxiWiUs0G",
        "colab_type": "code",
        "outputId": "d3196cb6-2b84-46bb-b12c-d7536d7ba833",
        "colab": {
          "base_uri": "https://localhost:8080/",
          "height": 85
        }
      },
      "cell_type": "code",
      "source": [
        "traduccion=['A','B','C','D']\n",
        "def pintarAsignacion(secuencia):\n",
        "    for i in range(len(secuencia)):\n",
        "        print(\"El trabajo \"+str(i+1)+\" se asigna al Agente \"+str(traduccion[secuencia[i]])) \n",
        "\n",
        "pintarAsignacion(secuencia)    "
      ],
      "execution_count": 37,
      "outputs": [
        {
          "output_type": "stream",
          "text": [
            "El trabajo 1 se asigna al Agente A\n",
            "El trabajo 2 se asigna al Agente C\n",
            "El trabajo 3 se asigna al Agente D\n",
            "El trabajo 4 se asigna al Agente B\n"
          ],
          "name": "stdout"
        }
      ]
    },
    {
      "metadata": {
        "id": "IeOqn9ybZyx5",
        "colab_type": "code",
        "colab": {
          "base_uri": "https://localhost:8080/",
          "height": 255
        },
        "outputId": "fdd38acf-fc81-4e72-a8f1-6f04a0a89af2"
      },
      "cell_type": "code",
      "source": [
        "#Otros datos\n",
        "tareas2 = [\n",
        "[5,6,5,1],\n",
        "[2,49,8,42],\n",
        "[7,33,22,9],\n",
        "[41,17,9,31]\n",
        "]\n",
        "               \n",
        "resultadosArr=[]\n",
        "resultadosNum=[]\n",
        "maximoBeneficioT(tareas2,asignacion,9,0,0,resultadosArr,resultadosNum, 1)\n",
        "maximo=np.max(resultadosNum)\n",
        "indice=obtenterIndice(maximo,resultadosNum)\n",
        "secuencia=resultadosArr[indice]\n",
        "\n",
        "print(\"\\r\\n Asignacion óptima:\\r\\n\")\n",
        "print(secuencia)\n",
        "print(\"\\r\\n Resultado óptimo de la asignación: \\r\\n\")\n",
        "print(maximo)\n",
        "#print(resultadosArr)\n",
        "\n",
        "pintarAsignacion(secuencia)  "
      ],
      "execution_count": 40,
      "outputs": [
        {
          "output_type": "stream",
          "text": [
            "\r\n",
            " Tiempo de ejecución para algoritmo: 0.0254762172698974609375000\n",
            "\r\n",
            " Asignacion óptima:\r\n",
            "\n",
            "[2, 3, 1, 0]\n",
            "\r\n",
            " Resultado óptimo de la asignación: \r\n",
            "\n",
            "121\n",
            "El trabajo 1 se asigna al Agente C\n",
            "El trabajo 2 se asigna al Agente D\n",
            "El trabajo 3 se asigna al Agente B\n",
            "El trabajo 4 se asigna al Agente A\n"
          ],
          "name": "stdout"
        }
      ]
    },
    {
      "metadata": {
        "id": "pQx1KwYsCnXv",
        "colab_type": "code",
        "colab": {}
      },
      "cell_type": "code",
      "source": [
        ""
      ],
      "execution_count": 0,
      "outputs": []
    }
  ]
}