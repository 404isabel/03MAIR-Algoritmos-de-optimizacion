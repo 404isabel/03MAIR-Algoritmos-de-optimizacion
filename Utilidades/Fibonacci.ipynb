{
  "nbformat": 4,
  "nbformat_minor": 0,
  "metadata": {
    "colab": {
      "name": "Fibonacci.ipynb",
      "version": "0.3.2",
      "provenance": [],
      "collapsed_sections": [],
      "include_colab_link": true
    },
    "kernelspec": {
      "name": "python3",
      "display_name": "Python 3"
    }
  },
  "cells": [
    {
      "cell_type": "markdown",
      "metadata": {
        "id": "view-in-github",
        "colab_type": "text"
      },
      "source": [
        "<a href=\"https://colab.research.google.com/github/404isabel/03MAIR-Algoritmos-de-optimizacion/blob/master/Utilidades/Fibonacci.ipynb\" target=\"_parent\"><img src=\"https://colab.research.google.com/assets/colab-badge.svg\" alt=\"Open In Colab\"/></a>"
      ]
    },
    {
      "metadata": {
        "id": "JtO4U_-FUVrV",
        "colab_type": "code",
        "colab": {
          "base_uri": "https://localhost:8080/",
          "height": 68
        },
        "outputId": "f0a7c533-d31e-45d6-e97d-a91d7d9ded18"
      },
      "cell_type": "code",
      "source": [
        "from time import time\n",
        "def calcular_tiempo(f):\n",
        "   \n",
        "    def wrapper(*args, **kwargs):        \n",
        "        inicio = time()       \n",
        "        resultado = f(*args, **kwargs)       \n",
        "        tiempo = float(time() - inicio)     \n",
        "        print(\"\\r\\n Tiempo de ejecución para algoritmo: \"+\"{0:.25f}\".format(tiempo))\n",
        "        return resultado\n",
        "    \n",
        "    return wrapper\n",
        "\n",
        "\n",
        "def fibonacciR(n):  \n",
        "  if(n==0):\n",
        "    return 0\n",
        "  elif(n==1):\n",
        "    return 1\n",
        "  else:\n",
        "    return fibonacciR(n-1)+fibonacciR(n-2)\n",
        "  \n",
        "\n",
        "@calcular_tiempo \n",
        "def fibonacciRT(n):\n",
        "  return fibonacciR(n)  \n",
        "  \n",
        "  \n",
        "fibonacciRT(8)    \n",
        "  \n",
        "  \n",
        "    \n",
        "\n"
      ],
      "execution_count": 31,
      "outputs": [
        {
          "output_type": "stream",
          "text": [
            "\r\n",
            " Tiempo de ejecución para algoritmo: 0.0000164508819580078125000\n"
          ],
          "name": "stdout"
        },
        {
          "output_type": "execute_result",
          "data": {
            "text/plain": [
              "21"
            ]
          },
          "metadata": {
            "tags": []
          },
          "execution_count": 31
        }
      ]
    },
    {
      "metadata": {
        "id": "R-qOlk496LLG",
        "colab_type": "text"
      },
      "cell_type": "markdown",
      "source": [
        "#### Calculo de Fibonacci de forma no recursiva"
      ]
    },
    {
      "metadata": {
        "id": "00zite1X5Lyj",
        "colab_type": "code",
        "colab": {
          "base_uri": "https://localhost:8080/",
          "height": 68
        },
        "outputId": "ee41d78b-f19c-4fb7-a185-84999adc3e8e"
      },
      "cell_type": "code",
      "source": [
        "@calcular_tiempo\n",
        "def fibonacci(n):\n",
        "  \n",
        "  if(n==0):\n",
        "    return 0\n",
        "  elif(n==1):\n",
        "    return 1\n",
        "  else:  \n",
        "    resultado=0  \n",
        "    a=0\n",
        "    b=1\n",
        "    tmp=0\n",
        "    for i in range(n-1):    \n",
        "      tmp=a+b    \n",
        "      a=b\n",
        "      b=tmp\n",
        "\n",
        "    resultado=tmp  \n",
        "    return resultado  \n",
        "\n",
        "fibonacci(8)\n",
        "\n",
        "\n",
        "  "
      ],
      "execution_count": 32,
      "outputs": [
        {
          "output_type": "stream",
          "text": [
            "\r\n",
            " Tiempo de ejecución para algoritmo: 0.0000047683715820312500000\n"
          ],
          "name": "stdout"
        },
        {
          "output_type": "execute_result",
          "data": {
            "text/plain": [
              "21"
            ]
          },
          "metadata": {
            "tags": []
          },
          "execution_count": 32
        }
      ]
    },
    {
      "metadata": {
        "id": "wc2lUqDc6tbO",
        "colab_type": "code",
        "colab": {}
      },
      "cell_type": "code",
      "source": [
        ""
      ],
      "execution_count": 0,
      "outputs": []
    }
  ]
}