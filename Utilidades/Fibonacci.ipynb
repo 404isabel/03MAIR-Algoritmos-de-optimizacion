{
  "nbformat": 4,
  "nbformat_minor": 0,
  "metadata": {
    "colab": {
      "name": "Fibonacci.ipynb",
      "version": "0.3.2",
      "provenance": [],
      "collapsed_sections": [],
      "include_colab_link": true
    },
    "kernelspec": {
      "name": "python3",
      "display_name": "Python 3"
    }
  },
  "cells": [
    {
      "cell_type": "markdown",
      "metadata": {
        "id": "view-in-github",
        "colab_type": "text"
      },
      "source": [
        "<a href=\"https://colab.research.google.com/github/404isabel/03MAIR-Algoritmos-de-optimizacion/blob/master/Utilidades/Fibonacci.ipynb\" target=\"_parent\"><img src=\"https://colab.research.google.com/assets/colab-badge.svg\" alt=\"Open In Colab\"/></a>"
      ]
    },
    {
      "metadata": {
        "id": "JtO4U_-FUVrV",
        "colab_type": "code",
        "colab": {}
      },
      "cell_type": "code",
      "source": [
        "#LLamada recursiva de divide y  vencerás para el algoritmo de Fibonacci\n",
        "#Fn=Fn-1+Fn-2\n",
        "#Primero resolverla desde divide y vencerás y despúes mediante otras técnicas más eficintes(guardando la suma)\n",
        "\n"
      ],
      "execution_count": 0,
      "outputs": []
    }
  ]
}