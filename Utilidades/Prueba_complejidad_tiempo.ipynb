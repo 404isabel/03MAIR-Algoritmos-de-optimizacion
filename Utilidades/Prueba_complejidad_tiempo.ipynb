{
  "nbformat": 4,
  "nbformat_minor": 0,
  "metadata": {
    "colab": {
      "name": "Prueba_complejidad_tiempo.ipynb",
      "version": "0.3.2",
      "provenance": [],
      "collapsed_sections": [],
      "include_colab_link": true
    },
    "kernelspec": {
      "name": "python3",
      "display_name": "Python 3"
    }
  },
  "cells": [
    {
      "cell_type": "markdown",
      "metadata": {
        "id": "view-in-github",
        "colab_type": "text"
      },
      "source": [
        "<a href=\"https://colab.research.google.com/github/404isabel/03MAIR-Algoritmos-de-optimizacion/blob/master/Utilidades/Prueba_complejidad_tiempo.ipynb\" target=\"_parent\"><img src=\"https://colab.research.google.com/assets/colab-badge.svg\" alt=\"Open In Colab\"/></a>"
      ]
    },
    {
      "metadata": {
        "id": "YmOhRc9Fnybw",
        "colab_type": "text"
      },
      "cell_type": "markdown",
      "source": [
        "#### Función para realizar pruebas de tiempos con distintos algoritmos y parámetros de entrada"
      ]
    },
    {
      "metadata": {
        "id": "JqctF4u7ntcE",
        "colab_type": "code",
        "colab": {}
      },
      "cell_type": "code",
      "source": [
        "from time import time\n",
        "\n",
        "#Función que ejecuta un algoritmo en base a los siguientes parámetros:\n",
        "#Valor: veces que recorrerá cada bucle\n",
        "#Tipo: tipo de algoritmo a ejecutar. Inicialmente sólo hay de primer órden, cuadrático y polinomial, pero se podrán añadir\n",
        "#más tipos de algoritmos con posterioridad.\n",
        "#Esta función calcula el tiempo que tarda en ejecutarse cada uno\n",
        "def algoritmo(valor,tipo):\n",
        "    inicio = time() \n",
        "    resultado=0\n",
        "    if(tipo=='n'):\n",
        "        for i in range(valor):\n",
        "            resultado=valor+1\n",
        "    if(tipo=='cuadratico'):\n",
        "        for i in range(valor):\n",
        "            for j in range(valor):\n",
        "                resultado=valor+1\n",
        "    if(tipo=='polinomial'):\n",
        "        for i in range(valor):\n",
        "            for j in range(valor):\n",
        "                for k in range(valor):\n",
        "                    resultado=valor+1\n",
        "    tiempo = time() - inicio\n",
        "    print(\"Tiempo de ejecución para algoritmo de orden '%s' con valor %s: %0.10f segundos.\" % (tipo, valor, tiempo))"
      ],
      "execution_count": 0,
      "outputs": []
    },
    {
      "metadata": {
        "id": "OQ8Vk_nQn7O4",
        "colab_type": "text"
      },
      "cell_type": "markdown",
      "source": [
        "#### Pruebas con distintos algoritmos y parámetros de entrada"
      ]
    },
    {
      "metadata": {
        "id": "b2d8xlrNoP2t",
        "colab_type": "code",
        "colab": {
          "base_uri": "https://localhost:8080/",
          "height": 187
        },
        "outputId": "9db0c117-5390-4239-c05c-ed5d927bd32c"
      },
      "cell_type": "code",
      "source": [
        "algoritmo(30000,'n')\n",
        "algoritmo(70000,'n')\n",
        "print('\\r\\n')\n",
        "algoritmo(3000,'cuadratico')\n",
        "algoritmo(7000,'cuadratico')\n",
        "print('\\r\\n')\n",
        "algoritmo(300,'polinomial')\n",
        "algoritmo(700,'polinomial')"
      ],
      "execution_count": 3,
      "outputs": [
        {
          "output_type": "stream",
          "text": [
            "Tiempo de ejecución para algoritmo de orden 'n' con valor 30000: 0.0018544197 segundos.\n",
            "Tiempo de ejecución para algoritmo de orden 'n' con valor 70000: 0.0047495365 segundos.\n",
            "\r\n",
            "\n",
            "Tiempo de ejecución para algoritmo de orden 'cuadratico' con valor 3000: 0.5830147266 segundos.\n",
            "Tiempo de ejecución para algoritmo de orden 'cuadratico' con valor 7000: 3.1069169044 segundos.\n",
            "\n",
            "\n",
            "Tiempo de ejecución para algoritmo de orden 'polinomial' con valor 300: 1.6017475128 segundos.\n",
            "Tiempo de ejecución para algoritmo de orden 'polinomial' con valor 700: 21.3067715168 segundos.\n"
          ],
          "name": "stdout"
        }
      ]
    },
    {
      "metadata": {
        "id": "BjCj6zpvoUXh",
        "colab_type": "text"
      },
      "cell_type": "markdown",
      "source": [
        "#### Misma utilidad pero usando un decorador que se podrá reutilizar en funciones reales, para las cuales queramos realizar cálculos de tiempos. "
      ]
    },
    {
      "metadata": {
        "id": "PtojF1TBoWKk",
        "colab_type": "code",
        "colab": {
          "base_uri": "https://localhost:8080/",
          "height": 34
        },
        "outputId": "860fb2c6-f80a-4c46-f425-b1a50a4fc5b6"
      },
      "cell_type": "code",
      "source": [
        "from time import time\n",
        "#Función para calcular el tiempo de ejecución\n",
        "def calcular_tiempo(f):\n",
        "   \n",
        "    def wrapper(*args, **kwargs):        \n",
        "        inicio = time()       \n",
        "        resultado = f(*args, **kwargs)       \n",
        "        tiempo = time() - inicio\n",
        "        print(\"Tiempo de ejecución para algoritmo: \"+str(tiempo))\n",
        "        return resultado\n",
        "    \n",
        "    return wrapper\n",
        "\n",
        "#Se aplica el decorador calcular_tiempo a la función para la cual queremos calcular el tiempo de ejecución\n",
        "@calcular_tiempo\n",
        "def algoritmo(valor,tipo):\n",
        "    \n",
        "    resultado=0\n",
        "    if(tipo=='n'):\n",
        "        for i in range(valor):\n",
        "            resultado=valor+1\n",
        "    if(tipo=='cuadratico'):\n",
        "        for i in range(valor):\n",
        "            for j in range(valor):\n",
        "                resultado=valor+1\n",
        "    if(tipo=='polinomial'):\n",
        "        for i in range(valor):\n",
        "            for j in range(valor):\n",
        "                for k in range(valor):\n",
        "                    resultado=valor+1\n",
        "                    \n",
        "algoritmo(30000,'n')\n"
      ],
      "execution_count": 4,
      "outputs": [
        {
          "output_type": "stream",
          "text": [
            "Tiempo de ejecución para algoritmo: 0.0018613338470458984\n"
          ],
          "name": "stdout"
        }
      ]
    },
    {
      "metadata": {
        "id": "iSpvfHshoYcr",
        "colab_type": "code",
        "colab": {}
      },
      "cell_type": "code",
      "source": [
        ""
      ],
      "execution_count": 0,
      "outputs": []
    }
  ]
}