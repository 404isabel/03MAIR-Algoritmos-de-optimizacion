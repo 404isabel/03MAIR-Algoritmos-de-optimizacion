{
  "nbformat": 4,
  "nbformat_minor": 0,
  "metadata": {
    "colab": {
      "name": "Prueba_complejidad_tiempo.ipynb",
      "version": "0.3.2",
      "provenance": [],
      "include_colab_link": true
    },
    "kernelspec": {
      "name": "python3",
      "display_name": "Python 3"
    }
  },
  "cells": [
    {
      "cell_type": "markdown",
      "metadata": {
        "id": "view-in-github",
        "colab_type": "text"
      },
      "source": [
        "<a href=\"https://colab.research.google.com/github/404isabel/03MAIR-Algoritmos-de-optimizacion/blob/master/Utilidades/Prueba_complejidad_tiempo.ipynb\" target=\"_parent\"><img src=\"https://colab.research.google.com/assets/colab-badge.svg\" alt=\"Open In Colab\"/></a>"
      ]
    },
    {
      "metadata": {
        "id": "YmOhRc9Fnybw",
        "colab_type": "text"
      },
      "cell_type": "markdown",
      "source": [
        "#### Función para realizar pruebas de tiempos con distintos algoritmos y parámetros de entrada"
      ]
    },
    {
      "metadata": {
        "id": "JqctF4u7ntcE",
        "colab_type": "code",
        "colab": {}
      },
      "cell_type": "code",
      "source": [
        "from time import time\n",
        "\n",
        "#Función que ejecuta un algoritmo en base a los siguientes parámetros:\n",
        "#Valor: veces que recorrerá cada bucle\n",
        "#Tipo: tipo de algoritmo a ejecutar. Inicialmente sólo hay de primer órden, cuadrático y polinomial, pero se podrán añadir\n",
        "#más tipos de algoritmos con posterioridad.\n",
        "#Esta función calcula el tiempo que tarda en ejecutarse cada uno\n",
        "def algoritmo(valor,tipo):\n",
        "    inicio = time() \n",
        "    resultado=0\n",
        "    if(tipo=='n'):\n",
        "        for i in range(valor):\n",
        "            resultado=valor+1\n",
        "    if(tipo=='cuadratico'):\n",
        "        for i in range(valor):\n",
        "            for j in range(valor):\n",
        "                resultado=valor+1\n",
        "    if(tipo=='polinomial'):\n",
        "        for i in range(valor):\n",
        "            for j in range(valor):\n",
        "                for k in range(valor):\n",
        "                    resultado=valor+1\n",
        "    tiempo = time() - inicio\n",
        "    print(\"Tiempo de ejecución para algoritmo de orden '%s' con valor %s: %0.10f segundos.\" % (tipo, valor, tiempo))"
      ],
      "execution_count": 0,
      "outputs": []
    },
    {
      "metadata": {
        "id": "OQ8Vk_nQn7O4",
        "colab_type": "text"
      },
      "cell_type": "markdown",
      "source": [
        "#### Pruebas con distintos algoritmos y parámetros de entrada"
      ]
    }
  ]
}