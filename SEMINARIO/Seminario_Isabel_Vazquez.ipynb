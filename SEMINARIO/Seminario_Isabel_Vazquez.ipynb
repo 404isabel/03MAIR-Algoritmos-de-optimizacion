{
  "nbformat": 4,
  "nbformat_minor": 0,
  "metadata": {
    "colab": {
      "name": "Seminario-Isabel_Vazquez.ipynb",
      "version": "0.3.2",
      "provenance": [],
      "collapsed_sections": [],
      "include_colab_link": true
    },
    "kernelspec": {
      "name": "python3",
      "display_name": "Python 3"
    }
  },
  "cells": [
    {
      "cell_type": "markdown",
      "metadata": {
        "id": "view-in-github",
        "colab_type": "text"
      },
      "source": [
        "<a href=\"https://colab.research.google.com/github/404isabel/03MAIR-Algoritmos-de-optimizacion/blob/master/SEMINARIO/Seminario_Isabel_Vazquez.ipynb\" target=\"_parent\"><img src=\"https://colab.research.google.com/assets/colab-badge.svg\" alt=\"Open In Colab\"/></a>"
      ]
    },
    {
      "metadata": {
        "id": "sB2PJpKU9sLC",
        "colab_type": "text"
      },
      "cell_type": "markdown",
      "source": [
        "# Algoritmos de optimización - Seminario<br>\n",
        "Nombre y Apellidos:   Isabel Vázquez Trigás<br>\n",
        "Url: https://github.com/404isabel/03MAIR-Algoritmos-de-optimizacion/tree/master/SEMINARIO<br>\n",
        "Problema:\n",
        "\n",
        ">3. Combinar cifras y operaciones\n",
        "\n",
        "Descripción del problema:\n",
        "\n",
        "El problema consiste en analizar el siguiente problema y diseñar un algoritmo que lo resuelva.\n",
        "\n",
        "• Disponemos de las 9 cifras del 1 al 9 (excluimos el cero) y de los 4 signos básicos de las\n",
        "operaciones fundamentales: suma(+), resta(-), multiplicación(*) y división(/)\n",
        "\n",
        "• Debemos combinarlos alternativamente sin repetir ninguno de ellos para obtener una cantidad\n",
        "dada. Un ejemplo sería para obtener el 2:\n",
        "\n",
        "4+2-6/3*2 = 2\n",
        "\n",
        "• Debe analizarse el problema para encontrar soluciones a todos los valores enteros posibles\n",
        "planteando las siguientes cuestiones:\n",
        "\n",
        "- ¿Qué valor máximo y mínimo a priori se pueden obtener según las condiciones?\n",
        "\n",
        "- ¿Es posible encontrar todos los valores posibles entre dicho mínimo y máximo ?\n",
        "\n",
        "\n",
        "(*) La respuesta es obligatoria\n"
      ]
    },
    {
      "metadata": {
        "id": "jwW2pJn1sba8",
        "colab_type": "text"
      },
      "cell_type": "markdown",
      "source": [
        "Valor máximo:77\n",
        "Valor mínimo:1\n",
        "\n",
        "Explicación\n",
        "\n",
        " Siempre voy a poder obtener un resultado para +*-/\n",
        " \n",
        " a+b*c-d/e\n",
        "  \n",
        "  Se traduce en x1+x2-x3\n",
        "  \n",
        "  x1 (a) entre [1,9]\n",
        "  \n",
        "  x2 (b x c) entre [2,72] (1x2) , (9 x 8)\n",
        "  \n",
        "  x3 (d/e) entre [2,9] (2/1), (9/1)\n",
        "  \n",
        " Para obtener el máximo valor posible a obtener:\n",
        " \n",
        " Si x2 es 72 (9*8),\n",
        "  \n",
        "  entonces máximo valor posible de x1=7 y valor mínimo de x3=1 --> 7+72-2=77\n",
        "  \n",
        "  \n",
        "  En cuanto al mínimo:\n",
        "  \n",
        "  Si maximizamos x3 a 9, entonces x3=9/1, por lo que el menor valor para x2, es 6 (2*3), lo que nos deja un valor de 4 para x1\n",
        "  \n",
        "  Por ello, observamos que el menor valor posible es 1\n",
        "  \n",
        "  \n",
        "  4+2*3-9/1\n",
        "\n",
        "\n",
        "\n",
        "##### Se puede obtener un resultado para todo el rango de números enteros: [1,77]"
      ]
    },
    {
      "metadata": {
        "id": "OEImiM0l9y0l",
        "colab_type": "text"
      },
      "cell_type": "markdown",
      "source": [
        "(*)¿Cuantas posibilidades hay sin tener en cuenta las restricciones?<br>\n",
        "\n",
        "\n",
        "\n",
        "¿Cuantas posibilidades hay teniendo en cuenta todas las restricciones?\n"
      ]
    },
    {
      "metadata": {
        "id": "8ns5k0xU95vd",
        "colab_type": "text"
      },
      "cell_type": "markdown",
      "source": [
        "Respuesta"
      ]
    },
    {
      "metadata": {
        "id": "6EdkYvEx9K3T",
        "colab_type": "text"
      },
      "cell_type": "markdown",
      "source": [
        "##### Teniendo en cuenta las restricciones:\n",
        "\n",
        "Vmn(9,5) * 4! \n",
        "\n",
        "Posibilidades para los números: 9!/(9-5)! = 15120\n",
        "\n",
        "Posibilidades para los signos: 4! = 24\n",
        "\n",
        "Posibilidades totales, teniendo en cuenta las restricciones: 15120*24 = 362880\n",
        "\n",
        "<br><br>\n",
        "\n",
        "\n",
        "\n",
        "Por otro lado, si tenemos en cuenta que siempre vamos a obtener una solución para el órden de operadores (+,*,-,/), sólo hay que tener en cuenta para el cálculo las posibilidades para los números:\n",
        " \n",
        "Posibilidades totales: 15120\n",
        "\n",
        "\n",
        "##### Si tener en cuenta las restricciones:\n",
        " Suponiendo que podemos repetir tanto números como operadores:\n",
        " \n",
        "Posiblidades para los operadores:4^4 = 246\n",
        "\n",
        "Posibilidades para los números: 9^5 = 59049\n",
        " \n",
        " Posibilidades totales: 246*59049 = 14526054\n",
        " \n",
        " \n",
        "\n",
        "\n",
        "\n"
      ]
    },
    {
      "metadata": {
        "id": "SA99wxy_-ub1",
        "colab_type": "text"
      },
      "cell_type": "markdown",
      "source": [
        "Modelo para el espacio de soluciones<br>\n",
        "(*) ¿Cual es la estructura de datos que mejor se adapta al problema? Argumentalo.(Es posible que hayas elegido una al principio y veas la necesidad de cambiar, arguentalo)\n"
      ]
    },
    {
      "metadata": {
        "id": "8Ja_SDZE-xc2",
        "colab_type": "text"
      },
      "cell_type": "markdown",
      "source": [
        "Respuesta"
      ]
    },
    {
      "metadata": {
        "id": "TEeueRS4yn1A",
        "colab_type": "text"
      },
      "cell_type": "markdown",
      "source": [
        "La mejor estructura de datos que se adapta al problema es:\n",
        "\n",
        "- Un array de todos los números posibles, ordenados de menor a mayor \n",
        "NUMEROS=[1,2,3,4,5,6,7,8,9]\n",
        "\n",
        "- Un array con todos los posibles operadores. \n",
        "OPERADORES=[\"+\",\"*\",\"-\",\"/\"]\n",
        "\n",
        "Para el primer algoritmo de fuerza bruta que implemento, el órden de los operadores es irrelevante, sin embargo, para el siguiente algoritmo, necesito que vengan en el órden: +,*,-,/ (ya que éste es el órden que siempre me va a proporcionar un resultado para cualquier caso, y en la definición del problema se quiere encontrar una solución, no todas). Este orden me permite reducir el número de operaciones.\n",
        "\n"
      ]
    },
    {
      "metadata": {
        "id": "s-rm_GRtXtPF",
        "colab_type": "code",
        "colab": {}
      },
      "cell_type": "code",
      "source": [
        "NUMEROS=[1,2,3,4,5,6,7,8,9]\n",
        "OPERADORES=[\"+\",\"*\",\"-\",\"/\"] "
      ],
      "execution_count": 0,
      "outputs": []
    },
    {
      "metadata": {
        "id": "hq7-niUl-019",
        "colab_type": "text"
      },
      "cell_type": "markdown",
      "source": [
        "Según el modelo para el espacio de soluciones<br>\n",
        "(*)¿Cual es la función objetivo?\n",
        "\n",
        "(*)¿Es un problema de maximización o minimización?"
      ]
    },
    {
      "metadata": {
        "id": "UC2CYNBc-4ZK",
        "colab_type": "text"
      },
      "cell_type": "markdown",
      "source": [
        "Respuesta"
      ]
    },
    {
      "metadata": {
        "id": "ETkYG9bRy0NC",
        "colab_type": "text"
      },
      "cell_type": "markdown",
      "source": [
        "- Función objetivo: La función objetivo evalua cómo de alejados estamos del valor objetivo.  El valor objetivo es aquella función formada por 5 números y 4 operadores, para la cual se cumple que al evaluarla se obtiene un número dado. Es decir, la función objetivo será: a+b*c-d/e. Por cada conjunto obtenido (a,b,c,d,e) se evaluará si se tiene como resultado el número pasado como parámetro.\n",
        "\n",
        "- El problema no es de maximización ni de minimización, se trata de obtener una expresión en concreto que obtenga un número dado.  "
      ]
    },
    {
      "metadata": {
        "id": "rxbEI0VcYklD",
        "colab_type": "code",
        "outputId": "9f05df3f-08cf-41bc-c0b5-4bd742bfe418",
        "colab": {
          "base_uri": "https://localhost:8080/",
          "height": 51
        }
      },
      "cell_type": "code",
      "source": [
        "def obtenerExpresion(expresion,num):\n",
        "  #Se comprueba que la longitud sea 9 y que la función eval de python nos retorne el número\n",
        "  if len(expresion)==9 and eval(expresion)==num: \n",
        "    print(\"Solución \"+ expresion)\n",
        "  else:\n",
        "    print(\"No es solución\")\n",
        "\n",
        "#Ejemplos\n",
        "obtenerExpresion(\"1+2*5-9/3\",8)\n",
        "obtenerExpresion(\"1+2*4-8/5\",8)"
      ],
      "execution_count": 26,
      "outputs": [
        {
          "output_type": "stream",
          "text": [
            "Solución 1+2*5-9/3\n",
            "No es solución\n"
          ],
          "name": "stdout"
        }
      ]
    },
    {
      "metadata": {
        "id": "-5zFE3wy-6zL",
        "colab_type": "text"
      },
      "cell_type": "markdown",
      "source": [
        "Diseña un algoritmo para resolver el problema por fuerza bruta"
      ]
    },
    {
      "metadata": {
        "id": "5lw8iMD9--aW",
        "colab_type": "text"
      },
      "cell_type": "markdown",
      "source": [
        "Respuesta"
      ]
    },
    {
      "metadata": {
        "id": "NPCz53zs-_-3",
        "colab_type": "code",
        "outputId": "39f32038-9020-4aad-9e59-a564eb524872",
        "colab": {
          "base_uri": "https://localhost:8080/",
          "height": 425
        }
      },
      "cell_type": "code",
      "source": [
        "from time import time\n",
        "GUARDAR_RESULTADO=False\n",
        "TIEMPOS=[]\n",
        "def calcular_tiempo(f):\n",
        "   \n",
        "    def wrapper(*args, **kwargs):        \n",
        "        inicio = time()       \n",
        "        resultado = f(*args, **kwargs)       \n",
        "        tiempo = float(time() - inicio)     \n",
        "        print(\"\\r\\n Tiempo de ejecución para algoritmo: \"+\"{0:.25f}\".format(tiempo)+\"\\r\\n\")\n",
        "        if GUARDAR_RESULTADO==True:\n",
        "          TIEMPOS.append(tiempo)\n",
        "        return resultado\n",
        "    \n",
        "    return wrapper\n",
        "  \n",
        "### Precondiciones:\n",
        "\n",
        "#Valor mínimo a obtener: 1\n",
        "expresionMinima=\"9/3*2-6+1\"\n",
        "print(\"Valor mínimo posible a obtener \"+str(int(eval(expresionMinima))))\n",
        "#Valor máximo a obtener: 77\n",
        "expresionMaxima=\"7+8*9/1-2\"\n",
        "#expresionMaxima=\"8*9+7/1-2\"\n",
        "print(\"Valor máximo posible a obtener \"+str(int(eval(expresionMaxima))))\n",
        "#Se le da prioridad al * y / (izquierda a derecha) frente a + y -\n",
        "\n",
        "MINIMO=1\n",
        "MAXIMO=77\n",
        "NUMEROS=[1,2,3,4,5,6,7,8,9]\n",
        "OPERADORES=[\"+\",\"*\",\"-\",\"/\"]\n",
        "#Con cualquier órden de operaciones, este algoritmo funciona\n",
        "#OPERACIONES=[\"+\",\"-\",\"*\",\"/\"]\n",
        "\n",
        "\n",
        "\n",
        "def obtenerEnteroFB(num,ENTEROS,OPERACIONES):   \n",
        "    a=0\n",
        "    b=0\n",
        "    c=0\n",
        "    d=0\n",
        "    e=0\n",
        "    o1=\"\"\n",
        "    o2=\"\"\n",
        "    o3=\"\"\n",
        "    o4=\"\"\n",
        "   \n",
        "    for e1 in ENTEROS:           \n",
        "      a=e1      \n",
        "      for op1 in OPERACIONES:\n",
        "        o1=op1\n",
        "        for e2 in ENTEROS:\n",
        "          if(e2!=e1):\n",
        "            b=e2\n",
        "            for op2 in OPERACIONES:\n",
        "              if(op2!=op1):\n",
        "                o2=op2\n",
        "                for e3 in ENTEROS:\n",
        "                    if(e3!=e1 and e3!=e2):\n",
        "                      c=e3\n",
        "                      for op3 in OPERACIONES:\n",
        "                        if(op3!=op2 and op3!=op1):\n",
        "                          o3=op3\n",
        "                          for e4 in ENTEROS:\n",
        "                            if(e4!=e3 and e4!=e2 and e4!=e1):\n",
        "                              d=e4\n",
        "                              for op4 in OPERACIONES:\n",
        "                                if(op4!=op3 and op4!=op2 and op4!=op1):\n",
        "                                  o4=op4\n",
        "                                  for e5 in ENTEROS:\n",
        "                                    if(e5!=e4 and e5!=e3 and e5!=e2 and e5!=e1):\n",
        "                                      e=e5\n",
        "                                      expresion=str(a)+str(o1)+str(b)+str(o2)+str(c)+str(o3)+str(d)+str(o4)+str(e)\n",
        "                                      if(eval(expresion)==num):\n",
        "                                        #print(str(expresion))\n",
        "                                        return expresion                                         \n",
        "\n",
        "                                      \n",
        "@calcular_tiempo                                      \n",
        "def obtenerEnteroFBPintar(num,ENTEROS,OPERACIONES):\n",
        "  \n",
        "  resultado=obtenerEnteroFB(num,ENTEROS,OPERACIONES)\n",
        "  if resultado == None:\n",
        "    print(\"No se puede obtener un valor para \"+str(num)+\" debido a que no está etre el máximo y el mínimo de la función para los datos de entrada\")\n",
        "  else:    \n",
        "    print(\"Resultado para lista de \"+str(len(ENTEROS))+ \" elementos, para el número: \"+str(num)+\" :\"+str(resultado))\n",
        "\n",
        "print(\"\\r\\n\")\n",
        "obtenerEnteroFBPintar(78,NUMEROS,OPERADORES)\n",
        "obtenerEnteroFBPintar(1,NUMEROS,OPERADORES)\n",
        "obtenerEnteroFBPintar(8,NUMEROS,OPERADORES)\n",
        "obtenerEnteroFBPintar(40,NUMEROS,OPERADORES)\n",
        "obtenerEnteroFBPintar(77,NUMEROS,OPERADORES)\n",
        "\n"
      ],
      "execution_count": 27,
      "outputs": [
        {
          "output_type": "stream",
          "text": [
            "Valor mínimo posible a obtener 1\n",
            "Valor máximo posible a obtener 77\n",
            "\r\n",
            "\n",
            "No se puede obtener un valor para 78 debido a que no está etre el máximo y el mínimo de la función para los datos de entrada\n",
            "\n",
            " Tiempo de ejecución para algoritmo: 3.4646852016448974609375000\n",
            "\n",
            "Resultado para lista de 9 elementos, para el número: 1 :1+2*6/3-4\n",
            "\n",
            " Tiempo de ejecución para algoritmo: 0.0021235942840576171875000\n",
            "\n",
            "Resultado para lista de 9 elementos, para el número: 8 :1+2*5-9/3\n",
            "\n",
            " Tiempo de ejecución para algoritmo: 0.0012917518615722656250000\n",
            "\n",
            "Resultado para lista de 9 elementos, para el número: 40 :1+6*7-9/3\n",
            "\n",
            " Tiempo de ejecución para algoritmo: 0.0494103431701660156250000\n",
            "\n",
            "Resultado para lista de 9 elementos, para el número: 77 :7+8*9-2/1\n",
            "\n",
            " Tiempo de ejecución para algoritmo: 2.3665907382965087890625000\n",
            "\n"
          ],
          "name": "stdout"
        }
      ]
    },
    {
      "metadata": {
        "id": "9z3UHP2zn8L0",
        "colab_type": "text"
      },
      "cell_type": "markdown",
      "source": [
        "Calcula la complejidad del algoritmo por fuerza bruta"
      ]
    },
    {
      "metadata": {
        "id": "SZoWTFVsoItB",
        "colab_type": "text"
      },
      "cell_type": "markdown",
      "source": [
        "Respuesta"
      ]
    },
    {
      "metadata": {
        "id": "2ECeP4JDoJ6G",
        "colab_type": "text"
      },
      "cell_type": "markdown",
      "source": [
        "El algoritmo de fuerza bruta tiene la siguiente complejidad:    O(n^9) (orden polinómico)  "
      ]
    },
    {
      "metadata": {
        "id": "zskR0-oe_F38",
        "colab_type": "text"
      },
      "cell_type": "markdown",
      "source": [
        "(*)Diseña un algoritmo que mejore la complejidad del algortimo por fuerza bruta. Argumenta porque crees que mejora el algoritmo por fuerza bruta"
      ]
    },
    {
      "metadata": {
        "id": "6lyywLpq_Gdv",
        "colab_type": "text"
      },
      "cell_type": "markdown",
      "source": [
        "Respuesta"
      ]
    },
    {
      "metadata": {
        "id": "YQgmjP_MitEb",
        "colab_type": "text"
      },
      "cell_type": "markdown",
      "source": [
        "##### Se implementa algoritmo basado en el concepto de ramificación y poda (en profundidad). \n",
        "\n",
        "Este algoritmo mejora con respecto al algoritmo de fuerza bruta debido a los siguientes motivos:<br><br>\n",
        "\n",
        "Mejora en complejidad, debido a que este algoritmo tiene en cuenta que siempre existe una solución para el órden de operadores (+,*,-,/). Por ese motivo, no se van a comprobar otros posibles órdenes, esto hace que pasemos de 9 bucles a 5.<br><br>\n",
        "\n",
        "El algoritmo implementado, se trata de un algoritmo basado en el concepto de ramificación y poda. Es un algoritmo iterativo (no recursivo)  que va iterando a través de todos los nodos, y evaluando condiciones en todos los niveles para poder podar aquellos nodos que no nos van a conducir a una solución (y así no evaluarlos). De este modo evitamos tener que recorrer todos y cada uno de los nodos, resultando en una reducción significativa del total de las operaciones.<br><br>\n",
        "\n",
        "Para los datos del problema (números del 1 al 9), se aprecian reducciones de tiempos, pero, además, si ampliamos el tamaño de la lista de números se puede observar con más claridad que las mejoras son muy importantes. Para más información, ir al último apartado de este documento, donde se pueden ver comparativas.<br><br>\n",
        "\n",
        "Las explicaciones de cómo funciona el algoritmo se pueden seguir en los comentarios del código. \n",
        "\n"
      ]
    },
    {
      "metadata": {
        "id": "t3RFGO99_HYk",
        "colab_type": "code",
        "outputId": "072c854a-e807-403e-8d6a-61ff0eecad4f",
        "colab": {
          "base_uri": "https://localhost:8080/",
          "height": 391
        }
      },
      "cell_type": "code",
      "source": [
        "#Algoritmo similar a ramificación y poda (5 nodos)\n",
        "\n",
        "def esPrometedoraNodo2(x2,j,NUMEROS):  \n",
        "  return (x2%j==0 and x2/j!=j and x2/j<=len(NUMEROS) and x2/j>0)\n",
        "\n",
        "#El nodo 4 no es prometedor si es imposible que para x1+x2-x3 pueda obtener un resultado <=num\n",
        "def esPrometedoraNodo4(a,b,c,num,OPERADORES,NUMEROS):\n",
        "  maximoX3=len(NUMEROS) #Lo máximo que voy a poder restar (d/e)\n",
        "  resultado=eval(str(a)+OPERADORES[0]+str(b)+OPERADORES[1]+str(c)+OPERADORES[2]+str(maximoX3))\n",
        "  return resultado<=num\n",
        "\n",
        "def esPrometedoraNodo5(l,p):#El resultado de la división tiene que ser un entero\n",
        "  return (l%p==0)\n",
        "\n",
        "\n",
        "def calculoExpr(x2,num,NUMEROS):\n",
        "  #x2: divido x2 entre 1,2,3,4.... siempre y cuando el resto sea 0, si fueran iguales, ej: 3*3, descarto esa posibilidad\n",
        "  for j in NUMEROS:    \n",
        "      if esPrometedoraNodo2(x2,j,NUMEROS):#Nodo 2: Podo esta rama, si la rama no es prometedora\n",
        "        #Se obtienen a la vez b y c (que son el resultado de una multiplicación)\n",
        "        b=int(x2/j)       \n",
        "        c=j\n",
        "        for k in NUMEROS:\n",
        "          if(k!=b and k!=c):#Nodo 3: Podo esta rama, si no cumplo las condiciones (este nodo hará referencia al valor de a)\n",
        "            a=k   \n",
        "            for l in NUMEROS:            \n",
        "              if l!=a and l!=b and l!=c and esPrometedoraNodo4(a,b,c,num,OPERADORES,NUMEROS):#Nodo 4: Podo esta rama, si no es prometedora (hace referencia a d)\n",
        "                hasta=int(len(NUMEROS)/2)+1             \n",
        "                for p in range(1,hasta): #No tiene sentido calcular todos los valores para e, sólo aquellos para los que pueda obtener de la división un valor entero\n",
        "                  if (esPrometedoraNodo5(l,p) and p!=a and p!=b and p!=c and p!=l):#Nodo 5: Podo esta rama, si la rama no es prometedora (hace referencia a e)              \n",
        "                    d=l                  \n",
        "                    e=p                  \n",
        "                    expresion=str(a)+OPERADORES[0]+str(b)+OPERADORES[1]+str(c)+OPERADORES[2]+str(d)+OPERADORES[3]+str(e)                  \n",
        "                    if(eval(expresion)==num):\n",
        "                      return expresion\n",
        "  \n",
        "\n",
        "def calculoSimple(num,NUMEROS):\n",
        "  #Tal y como hemos podido ver en el enunciado, siempre voy a poder obtener un resultado para +*-/\n",
        "  #a+b*c-d/e\n",
        "  \n",
        "  #Se traduce en x1+x2-x3\n",
        "  #x1 entre [1,9]  a\n",
        "  #x2 entre [2,72] (9*8) b*c\n",
        "  #x3 entre [2,9] d/e\n",
        "  \n",
        "  #x2+(x1-x3)=num\n",
        "  \n",
        "  #Por ello el mayor valor posible es 77, ya que si x2 es 72, \n",
        "  #entonces máximo valor posible de x1=7 y valor mínimo de x3=1 --> 7+72-2=77\n",
        "  \n",
        "  #Al final, todo se puede simplificar en :\n",
        "  #x-8=num --> x=num+8\n",
        "  #x+7=num --> x=num-7\n",
        "  \n",
        "  \n",
        "  \n",
        "  #Si queremos generalizar los cálculos obtenemos que:\n",
        "  #x1 entre [min,max] a\n",
        "  #x2 entre [min+1,max*(max-1)]\n",
        "  #x3 entre [min+1,max]\n",
        "  \n",
        "  #x=num+(max-1)\n",
        "  #x=num-(max+2)\n",
        " \n",
        "  for i in range(0,len(NUMEROS)-1):#Nodo 1 (empiezo calculando x2 para b y c)\n",
        "    x2=num+i\n",
        "    x2prima=num-i\n",
        "    #Buscar soluciones, partiendo de x2 (si no se obtienen soluciones, buscar a partir de x2prima)      \n",
        "    exp=calculoExpr(x2,num,NUMEROS)\n",
        "    if exp==None:      \n",
        "      exp2=calculoExpr(x2prima,num,NUMEROS)\n",
        "      if(exp2!=None):        \n",
        "        return exp2        \n",
        "    else:\n",
        "      return exp\n",
        "  \n",
        "    \n",
        "\n",
        "@calcular_tiempo                                      \n",
        "def calculoSimplePintar(num,NUMEROS):\n",
        "  \n",
        "  resultado=calculoSimple(num,NUMEROS)\n",
        "  if resultado == None:    \n",
        "    print(\"No se puede obtener un valor para \"+str(num)+\" debido a que no está etre el máximo y el mínimo de la función para los datos de entrada\")\n",
        "  else:    \n",
        "    print(\"Resultado para lista de \"+str(len(NUMEROS))+ \" elementos, para el número: \"+str(num)+\" :\"+str(resultado))\n",
        "\n",
        "print(\"\\r\\n\")\n",
        "   \n",
        "calculoSimplePintar(78,NUMEROS)\n",
        "calculoSimplePintar(1,NUMEROS)\n",
        "calculoSimplePintar(8,NUMEROS)\n",
        "calculoSimplePintar(40,NUMEROS)\n",
        "calculoSimplePintar(77,NUMEROS)\n"
      ],
      "execution_count": 28,
      "outputs": [
        {
          "output_type": "stream",
          "text": [
            "\r\n",
            "\n",
            "No se puede obtener un valor para 78 debido a que no está etre el máximo y el mínimo de la función para los datos de entrada\n",
            "\r\n",
            " Tiempo de ejecución para algoritmo: 0.0019681453704833984375000\r\n",
            "\n",
            "Resultado para lista de 9 elementos, para el número: 1 :4+3*2-9/1\n",
            "\r\n",
            " Tiempo de ejecución para algoritmo: 0.0051789283752441406250000\r\n",
            "\n",
            "Resultado para lista de 9 elementos, para el número: 8 :2+8*1-6/3\n",
            "\r\n",
            " Tiempo de ejecución para algoritmo: 0.0001661777496337890625000\r\n",
            "\n",
            "Resultado para lista de 9 elementos, para el número: 40 :2+8*5-6/3\n",
            "\r\n",
            " Tiempo de ejecución para algoritmo: 0.0006039142608642578125000\r\n",
            "\n",
            "Resultado para lista de 9 elementos, para el número: 77 :7+9*8-2/1\n",
            "\r\n",
            " Tiempo de ejecución para algoritmo: 0.0009403228759765625000000\r\n",
            "\n"
          ],
          "name": "stdout"
        }
      ]
    },
    {
      "metadata": {
        "id": "4qx_r83s_HpZ",
        "colab_type": "text"
      },
      "cell_type": "markdown",
      "source": [
        "(*)Calcula la complejidad del algoritmo "
      ]
    },
    {
      "metadata": {
        "id": "9Tf1At6I_LUQ",
        "colab_type": "text"
      },
      "cell_type": "markdown",
      "source": [
        "Respuesta"
      ]
    },
    {
      "metadata": {
        "id": "whhCndrwOuJt",
        "colab_type": "text"
      },
      "cell_type": "markdown",
      "source": [
        "\n",
        "Complejidad del algoritmo: O(n^5) (orden polinómico)\n"
      ]
    },
    {
      "metadata": {
        "id": "Y-BOKZQppJsI",
        "colab_type": "text"
      },
      "cell_type": "markdown",
      "source": [
        "##### Además del algoritmo de fuerza bruta y ramificación y poda, he diseñado otro algoritmo de fuerza bruta que tiene en cuenta  el órden de los operadores (+,*,-,/)\n",
        "Con este algoritmo, quería comprobar que las mejoras del algoritmo de ramificación y poda no sólo eran debidas a la reducción de la complejidad, sino a las comprobaciones efectuadas en cada nodo. A continuación, éste es el tercer algoritmo de prueba que he creado.\n",
        "Este algoritmo tiene también orden O(n^5).  En el último apartado de este documento se pueden ver las pruebas efectuadas."
      ]
    },
    {
      "metadata": {
        "id": "XrRVPRMdpnlm",
        "colab_type": "code",
        "outputId": "860b1002-08f3-4477-82a3-8d7b5160e9a9",
        "colab": {
          "base_uri": "https://localhost:8080/",
          "height": 391
        }
      },
      "cell_type": "code",
      "source": [
        "#Algoritmo de fuerza bruta, para el cual sólo tengo en cuenta el órden (+*-/), ya que este órden siempre nos va a devolver un resultado\n",
        "#Con este algoritmo se observan mejoras, ya que se reduce la complejidad del mismo\n",
        "\n",
        "def obtenerEnteroFBRest(num,ENTEROS,OPERACIONES):   \n",
        "    a=0\n",
        "    b=0\n",
        "    c=0\n",
        "    d=0\n",
        "    e=0\n",
        "    o1=\"\"\n",
        "    o2=\"\"\n",
        "    o3=\"\"\n",
        "    o4=\"\"\n",
        "   \n",
        "    for e1 in ENTEROS:           \n",
        "      a=e1\n",
        "      o1=\"+\"\n",
        "      for e2 in ENTEROS:\n",
        "          if(e2!=e1):\n",
        "            b=e2\n",
        "            o2=\"*\"\n",
        "            for e3 in ENTEROS:\n",
        "              if(e3!=e1 and e3!=e2):\n",
        "                  c=e3\n",
        "                  o3=\"-\"\n",
        "                  for e4 in ENTEROS:\n",
        "                    if(e4!=e3 and e4!=e2 and e4!=e1):                      \n",
        "                      d=e4\n",
        "                      o4=\"/\"\n",
        "                      for e5 in ENTEROS:\n",
        "                        if(e5!=e4 and e5!=e3 and e5!=e2 and e5!=e1):\n",
        "                            e=e5\n",
        "                            expresion=str(a)+str(o1)+str(b)+str(o2)+str(c)+str(o3)+str(d)+str(o4)+str(e)\n",
        "                            if(eval(expresion)==num):\n",
        "                              return expresion                                         \n",
        "\n",
        "                                      \n",
        "@calcular_tiempo                                      \n",
        "def obtenerEnteroFBRestPintar(num,ENTEROS,OPERACIONES):\n",
        "  \n",
        "  resultado=obtenerEnteroFBRest(num,ENTEROS,OPERACIONES)\n",
        "  if resultado == None:\n",
        "    print(\"No se puede obtener un valor para \"+str(num)+\" debido a que no está etre el máximo y el mínimo de la función para los datos de entrada\")\n",
        "  else:    \n",
        "    print(\"Resultado para lista de \"+str(len(ENTEROS))+ \" elementos, para el número: \"+str(num)+\" :\"+str(resultado))\n",
        "\n",
        "print(\"\\r\\n\")\n",
        "obtenerEnteroFBRestPintar(78,NUMEROS,OPERADORES)\n",
        "obtenerEnteroFBRestPintar(1,NUMEROS,OPERADORES)\n",
        "obtenerEnteroFBRestPintar(8,NUMEROS,OPERADORES)\n",
        "obtenerEnteroFBRestPintar(40,NUMEROS,OPERADORES)\n",
        "obtenerEnteroFBRestPintar(77,NUMEROS,OPERADORES)"
      ],
      "execution_count": 29,
      "outputs": [
        {
          "output_type": "stream",
          "text": [
            "\r\n",
            "\n",
            "No se puede obtener un valor para 78 debido a que no está etre el máximo y el mínimo de la función para los datos de entrada\n",
            "\r\n",
            " Tiempo de ejecución para algoritmo: 0.1413664817810058593750000\r\n",
            "\n",
            "Resultado para lista de 9 elementos, para el número: 1 :4+2*3-9/1\n",
            "\r\n",
            " Tiempo de ejecución para algoritmo: 0.0499808788299560546875000\r\n",
            "\n",
            "Resultado para lista de 9 elementos, para el número: 8 :1+2*5-9/3\n",
            "\r\n",
            " Tiempo de ejecución para algoritmo: 0.0008783340454101562500000\r\n",
            "\n",
            "Resultado para lista de 9 elementos, para el número: 40 :1+6*7-9/3\n",
            "\n",
            " Tiempo de ejecución para algoritmo: 0.0099275112152099609375000\n",
            "\n",
            "Resultado para lista de 9 elementos, para el número: 77 :7+8*9-2/1\n",
            "\n",
            " Tiempo de ejecución para algoritmo: 0.1100151538848876953125000\n",
            "\n"
          ],
          "name": "stdout"
        }
      ]
    },
    {
      "metadata": {
        "id": "hT2E0Joh_NXH",
        "colab_type": "text"
      },
      "cell_type": "markdown",
      "source": [
        "Según el problema (y tenga sentido), diseña un juego de datos de entrada aleatorios"
      ]
    },
    {
      "metadata": {
        "id": "Pd8Bqe03_PS0",
        "colab_type": "text"
      },
      "cell_type": "markdown",
      "source": [
        "Respuesta"
      ]
    },
    {
      "metadata": {
        "id": "qt6m5nu0_RDs",
        "colab_type": "code",
        "outputId": "f147f463-3fc8-41b2-9d3b-adbb60bcaeea",
        "colab": {
          "base_uri": "https://localhost:8080/",
          "height": 34
        }
      },
      "cell_type": "code",
      "source": [
        "# En principio, según la descripción del problema, no tiene sentido generar datos aleatorios para los operadores\n",
        "# En cuanto a los números, atendiendo a las restricciones del problema tampoco tiene cabida generar números aleatorios, ya que sólo son 77, y podemos probarlos todos.\n",
        "# Pero, tal y como he implementado el algoritmo sí que puedo generar listas variables en tamaño. (Para esa lista de gran tamaño, genero números aleatorios)\n",
        "\n",
        "import random\n",
        "\n",
        "#Lista de números a probar con todos los datos de la definición del problema [1,77]\n",
        "lista1=[x for x in range(1,78)]\n",
        "numerosDefinicion=[1,2,3,4,5,6,7,8,9]\n",
        "#Para una lista de números de gran tamaño, creo un juego de datos aleatorios, comprendidos entre los valores 1,2000\n",
        "numerosListaGrande=[x for x in range(1,2356)]\n",
        "lista2=[]\n",
        "for i in range(10):\n",
        "  lista2.append(random.randint(1,len(numerosListaGrande)))\n",
        "print(lista2)  "
      ],
      "execution_count": 30,
      "outputs": [
        {
          "output_type": "stream",
          "text": [
            "[1570, 1564, 1018, 661, 336, 1781, 651, 1788, 1632, 732]\n"
          ],
          "name": "stdout"
        }
      ]
    },
    {
      "metadata": {
        "id": "K-dLwmJJ_RpN",
        "colab_type": "text"
      },
      "cell_type": "markdown",
      "source": [
        "Aplica el algoritmo al juego de datos generado"
      ]
    },
    {
      "metadata": {
        "id": "IxkXAxY4_T7Z",
        "colab_type": "text"
      },
      "cell_type": "markdown",
      "source": [
        "Respuesta"
      ]
    },
    {
      "metadata": {
        "id": "nqE9iGiUewtg",
        "colab_type": "code",
        "outputId": "053e1306-9c25-44df-dd48-e287492e0fed",
        "colab": {
          "base_uri": "https://localhost:8080/",
          "height": 5253
        }
      },
      "cell_type": "code",
      "source": [
        "#Cálculo de todos los números posibles según la definición inicial del problema\n",
        "for i in lista1:\n",
        "  calculoSimplePintar(i,numerosDefinicion)"
      ],
      "execution_count": 31,
      "outputs": [
        {
          "output_type": "stream",
          "text": [
            "Resultado para lista de 9 elementos, para el número: 1 :4+3*2-9/1\n",
            "\r\n",
            " Tiempo de ejecución para algoritmo: 0.0107519626617431640625000\r\n",
            "\n",
            "Resultado para lista de 9 elementos, para el número: 2 :4+3*2-8/1\n",
            "\r\n",
            " Tiempo de ejecución para algoritmo: 0.0093345642089843750000000\r\n",
            "\n",
            "Resultado para lista de 9 elementos, para el número: 3 :2+3*1-8/4\n",
            "\r\n",
            " Tiempo de ejecución para algoritmo: 0.0004327297210693359375000\r\n",
            "\n",
            "Resultado para lista de 9 elementos, para el número: 4 :2+4*1-6/3\n",
            "\r\n",
            " Tiempo de ejecución para algoritmo: 0.0002973079681396484375000\r\n",
            "\n",
            "Resultado para lista de 9 elementos, para el número: 5 :2+5*1-6/3\n",
            "\r\n",
            " Tiempo de ejecución para algoritmo: 0.0002789497375488281250000\r\n",
            "\n",
            "Resultado para lista de 9 elementos, para el número: 6 :2+6*1-8/4\n",
            "\r\n",
            " Tiempo de ejecución para algoritmo: 0.0002374649047851562500000\r\n",
            "\n",
            "Resultado para lista de 9 elementos, para el número: 7 :2+7*1-6/3\n",
            "\r\n",
            " Tiempo de ejecución para algoritmo: 0.0002989768981933593750000\r\n",
            "\n",
            "Resultado para lista de 9 elementos, para el número: 8 :2+8*1-6/3\n",
            "\r\n",
            " Tiempo de ejecución para algoritmo: 0.0002453327178955078125000\r\n",
            "\n",
            "Resultado para lista de 9 elementos, para el número: 9 :2+9*1-6/3\n",
            "\r\n",
            " Tiempo de ejecución para algoritmo: 0.0002360343933105468750000\r\n",
            "\n",
            "Resultado para lista de 9 elementos, para el número: 10 :3+9*1-4/2\n",
            "\r\n",
            " Tiempo de ejecución para algoritmo: 0.0032174587249755859375000\r\n",
            "\n",
            "Resultado para lista de 9 elementos, para el número: 11 :1+6*2-8/4\n",
            "\r\n",
            " Tiempo de ejecución para algoritmo: 0.0001463890075683593750000\r\n",
            "\n",
            "Resultado para lista de 9 elementos, para el número: 12 :1+7*2-9/3\n",
            "\r\n",
            " Tiempo de ejecución para algoritmo: 0.0059967041015625000000000\r\n",
            "\n",
            "Resultado para lista de 9 elementos, para el número: 13 :1+7*2-6/3\n",
            "\r\n",
            " Tiempo de ejecución para algoritmo: 0.0001037120819091796875000\r\n",
            "\n",
            "Resultado para lista de 9 elementos, para el número: 14 :1+5*3-4/2\n",
            "\r\n",
            " Tiempo de ejecución para algoritmo: 0.0038588047027587890625000\r\n",
            "\n",
            "Resultado para lista de 9 elementos, para el número: 15 :2+5*3-8/4\n",
            "\r\n",
            " Tiempo de ejecución para algoritmo: 0.0003776550292968750000000\r\n",
            "\n",
            "Resultado para lista de 9 elementos, para el número: 16 :4+5*3-6/2\n",
            "\r\n",
            " Tiempo de ejecución para algoritmo: 0.0038738250732421875000000\r\n",
            "\n",
            "Resultado para lista de 9 elementos, para el número: 17 :1+9*2-6/3\n",
            "\r\n",
            " Tiempo de ejecución para algoritmo: 0.0000824928283691406250000\r\n",
            "\n",
            "Resultado para lista de 9 elementos, para el número: 18 :2+6*3-8/4\n",
            "\r\n",
            " Tiempo de ejecución para algoritmo: 0.0010161399841308593750000\r\n",
            "\n",
            "Resultado para lista de 9 elementos, para el número: 19 :1+5*4-6/3\n",
            "\r\n",
            " Tiempo de ejecución para algoritmo: 0.0010337829589843750000000\r\n",
            "\n",
            "Resultado para lista de 9 elementos, para el número: 20 :2+5*4-6/3\n",
            "\r\n",
            " Tiempo de ejecución para algoritmo: 0.0002524852752685546875000\r\n",
            "\n",
            "Resultado para lista de 9 elementos, para el número: 21 :2+7*3-8/4\n",
            "\r\n",
            " Tiempo de ejecución para algoritmo: 0.0006995201110839843750000\r\n",
            "\n",
            "Resultado para lista de 9 elementos, para el número: 22 :4+7*3-6/2\n",
            "\r\n",
            " Tiempo de ejecución para algoritmo: 0.0003662109375000000000000\r\n",
            "\n",
            "Resultado para lista de 9 elementos, para el número: 23 :1+8*3-4/2\n",
            "\r\n",
            " Tiempo de ejecución para algoritmo: 0.0001678466796875000000000\r\n",
            "\n",
            "Resultado para lista de 9 elementos, para el número: 24 :1+9*3-8/2\n",
            "\r\n",
            " Tiempo de ejecución para algoritmo: 0.0083072185516357421875000\r\n",
            "\n",
            "Resultado para lista de 9 elementos, para el número: 25 :4+8*3-6/2\n",
            "\r\n",
            " Tiempo de ejecución para algoritmo: 0.0003883838653564453125000\r\n",
            "\n",
            "Resultado para lista de 9 elementos, para el número: 26 :1+9*3-4/2\n",
            "\r\n",
            " Tiempo de ejecución para algoritmo: 0.0002191066741943359375000\r\n",
            "\n",
            "Resultado para lista de 9 elementos, para el número: 27 :2+9*3-8/4\n",
            "\r\n",
            " Tiempo de ejecución para algoritmo: 0.0004837512969970703125000\r\n",
            "\n",
            "Resultado para lista de 9 elementos, para el número: 28 :2+7*4-6/3\n",
            "\r\n",
            " Tiempo de ejecución para algoritmo: 0.0003364086151123046875000\r\n",
            "\n",
            "Resultado para lista de 9 elementos, para el número: 29 :1+6*5-4/2\n",
            "\r\n",
            " Tiempo de ejecución para algoritmo: 0.0003154277801513671875000\r\n",
            "\n",
            "Resultado para lista de 9 elementos, para el número: 30 :2+6*5-8/4\n",
            "\r\n",
            " Tiempo de ejecución para algoritmo: 0.0003728866577148437500000\r\n",
            "\n",
            "Resultado para lista de 9 elementos, para el número: 31 :1+8*4-6/3\n",
            "\r\n",
            " Tiempo de ejecución para algoritmo: 0.0002310276031494140625000\r\n",
            "\n",
            "Resultado para lista de 9 elementos, para el número: 32 :2+8*4-6/3\n",
            "\r\n",
            " Tiempo de ejecución para algoritmo: 0.0003845691680908203125000\r\n",
            "\n",
            "Resultado para lista de 9 elementos, para el número: 33 :3+8*4-2/1\n",
            "\r\n",
            " Tiempo de ejecución para algoritmo: 0.0007009506225585937500000\r\n",
            "\n",
            "Resultado para lista de 9 elementos, para el número: 34 :1+7*5-4/2\n",
            "\r\n",
            " Tiempo de ejecución para algoritmo: 0.0003261566162109375000000\r\n",
            "\n",
            "Resultado para lista de 9 elementos, para el número: 35 :2+7*5-6/3\n",
            "\r\n",
            " Tiempo de ejecución para algoritmo: 0.0004665851593017578125000\r\n",
            "\n",
            "Resultado para lista de 9 elementos, para el número: 36 :2+9*4-6/3\n",
            "\r\n",
            " Tiempo de ejecución para algoritmo: 0.0004262924194335937500000\r\n",
            "\n",
            "Resultado para lista de 9 elementos, para el número: 37 :3+9*4-2/1\n",
            "\r\n",
            " Tiempo de ejecución para algoritmo: 0.0002865791320800781250000\r\n",
            "\n",
            "Resultado para lista de 9 elementos, para el número: 38 :1+8*5-6/2\n",
            "\r\n",
            " Tiempo de ejecución para algoritmo: 0.0005710124969482421875000\r\n",
            "\n",
            "Resultado para lista de 9 elementos, para el número: 39 :1+8*5-4/2\n",
            "\r\n",
            " Tiempo de ejecución para algoritmo: 0.0001075267791748046875000\r\n",
            "\n",
            "Resultado para lista de 9 elementos, para el número: 40 :2+8*5-6/3\n",
            "\r\n",
            " Tiempo de ejecución para algoritmo: 0.0002458095550537109375000\r\n",
            "\n",
            "Resultado para lista de 9 elementos, para el número: 41 :1+7*6-4/2\n",
            "\r\n",
            " Tiempo de ejecución para algoritmo: 0.0002338886260986328125000\r\n",
            "\n",
            "Resultado para lista de 9 elementos, para el número: 42 :2+7*6-8/4\n",
            "\r\n",
            " Tiempo de ejecución para algoritmo: 0.0004415512084960937500000\r\n",
            "\n",
            "Resultado para lista de 9 elementos, para el número: 43 :3+7*6-2/1\n",
            "\r\n",
            " Tiempo de ejecución para algoritmo: 0.0004465579986572265625000\r\n",
            "\n",
            "Resultado para lista de 9 elementos, para el número: 44 :1+9*5-4/2\n",
            "\r\n",
            " Tiempo de ejecución para algoritmo: 0.0001218318939208984375000\r\n",
            "\n",
            "Resultado para lista de 9 elementos, para el número: 45 :2+9*5-6/3\n",
            "\r\n",
            " Tiempo de ejecución para algoritmo: 0.0002419948577880859375000\r\n",
            "\n",
            "Resultado para lista de 9 elementos, para el número: 46 :3+9*5-2/1\n",
            "\r\n",
            " Tiempo de ejecución para algoritmo: 0.0006575584411621093750000\r\n",
            "\n",
            "Resultado para lista de 9 elementos, para el número: 47 :1+8*6-4/2\n",
            "\r\n",
            " Tiempo de ejecución para algoritmo: 0.0002763271331787109375000\r\n",
            "\n",
            "Resultado para lista de 9 elementos, para el número: 48 :6+9*5-3/1\n",
            "\r\n",
            " Tiempo de ejecución para algoritmo: 0.0037281513214111328125000\r\n",
            "\n",
            "Resultado para lista de 9 elementos, para el número: 49 :3+8*6-2/1\n",
            "\r\n",
            " Tiempo de ejecución para algoritmo: 0.0004076957702636718750000\r\n",
            "\n",
            "Resultado para lista de 9 elementos, para el número: 50 :4+8*6-2/1\n",
            "\r\n",
            " Tiempo de ejecución para algoritmo: 0.0005564689636230468750000\r\n",
            "\n",
            "Resultado para lista de 9 elementos, para el número: 51 :1+9*6-8/2\n",
            "\r\n",
            " Tiempo de ejecución para algoritmo: 0.0003225803375244140625000\r\n",
            "\n",
            "Resultado para lista de 9 elementos, para el número: 52 :2+9*6-4/1\n",
            "\r\n",
            " Tiempo de ejecución para algoritmo: 0.0002157688140869140625000\r\n",
            "\n",
            "Resultado para lista de 9 elementos, para el número: 53 :1+9*6-4/2\n",
            "\r\n",
            " Tiempo de ejecución para algoritmo: 0.0001058578491210937500000\r\n",
            "\n",
            "Resultado para lista de 9 elementos, para el número: 54 :2+9*6-8/4\n",
            "\r\n",
            " Tiempo de ejecución para algoritmo: 0.0003933906555175781250000\r\n",
            "\n",
            "Resultado para lista de 9 elementos, para el número: 55 :1+8*7-4/2\n",
            "\r\n",
            " Tiempo de ejecución para algoritmo: 0.0001180171966552734375000\r\n",
            "\n",
            "Resultado para lista de 9 elementos, para el número: 56 :2+8*7-6/3\n",
            "\r\n",
            " Tiempo de ejecución para algoritmo: 0.0003695487976074218750000\r\n",
            "\n",
            "Resultado para lista de 9 elementos, para el número: 57 :3+8*7-2/1\n",
            "\r\n",
            " Tiempo de ejecución para algoritmo: 0.0004844665527343750000000\r\n",
            "\n",
            "Resultado para lista de 9 elementos, para el número: 58 :4+8*7-2/1\n",
            "\r\n",
            " Tiempo de ejecución para algoritmo: 0.0004258155822753906250000\r\n",
            "\n",
            "Resultado para lista de 9 elementos, para el número: 59 :5+8*7-2/1\n",
            "\r\n",
            " Tiempo de ejecución para algoritmo: 0.0005695819854736328125000\r\n",
            "\n",
            "Resultado para lista de 9 elementos, para el número: 60 :1+9*7-8/2\n",
            "\r\n",
            " Tiempo de ejecución para algoritmo: 0.0001664161682128906250000\r\n",
            "\n",
            "Resultado para lista de 9 elementos, para el número: 61 :1+9*7-6/2\n",
            "\r\n",
            " Tiempo de ejecución para algoritmo: 0.0001351833343505859375000\r\n",
            "\n",
            "Resultado para lista de 9 elementos, para el número: 62 :1+9*7-4/2\n",
            "\r\n",
            " Tiempo de ejecución para algoritmo: 0.0001173019409179687500000\r\n",
            "\n",
            "Resultado para lista de 9 elementos, para el número: 63 :2+9*7-6/3\n",
            "\r\n",
            " Tiempo de ejecución para algoritmo: 0.0003144741058349609375000\r\n",
            "\n",
            "Resultado para lista de 9 elementos, para el número: 64 :3+9*7-2/1\n",
            "\r\n",
            " Tiempo de ejecución para algoritmo: 0.0004296302795410156250000\r\n",
            "\n",
            "Resultado para lista de 9 elementos, para el número: 65 :4+9*7-2/1\n",
            "\r\n",
            " Tiempo de ejecución para algoritmo: 0.0004453659057617187500000\r\n",
            "\n",
            "Resultado para lista de 9 elementos, para el número: 66 :5+9*7-2/1\n",
            "\r\n",
            " Tiempo de ejecución para algoritmo: 0.0005810260772705078125000\r\n",
            "\n",
            "Resultado para lista de 9 elementos, para el número: 67 :6+9*7-2/1\n",
            "\r\n",
            " Tiempo de ejecución para algoritmo: 0.0009164810180664062500000\r\n",
            "\n",
            "Resultado para lista de 9 elementos, para el número: 68 :2+9*8-6/1\n",
            "\r\n",
            " Tiempo de ejecución para algoritmo: 0.0002896785736083984375000\r\n",
            "\n",
            "Resultado para lista de 9 elementos, para el número: 69 :2+9*8-5/1\n",
            "\r\n",
            " Tiempo de ejecución para algoritmo: 0.0004253387451171875000000\r\n",
            "\n",
            "Resultado para lista de 9 elementos, para el número: 70 :1+9*8-6/2\n",
            "\r\n",
            " Tiempo de ejecución para algoritmo: 0.0001347064971923828125000\r\n",
            "\n",
            "Resultado para lista de 9 elementos, para el número: 71 :1+9*8-4/2\n",
            "\r\n",
            " Tiempo de ejecución para algoritmo: 0.0002911090850830078125000\r\n",
            "\n",
            "Resultado para lista de 9 elementos, para el número: 72 :2+9*8-6/3\n",
            "\r\n",
            " Tiempo de ejecución para algoritmo: 0.0004103183746337890625000\r\n",
            "\n",
            "Resultado para lista de 9 elementos, para el número: 73 :3+9*8-2/1\n",
            "\r\n",
            " Tiempo de ejecución para algoritmo: 0.0004892349243164062500000\r\n",
            "\n",
            "Resultado para lista de 9 elementos, para el número: 74 :4+9*8-2/1\n",
            "\r\n",
            " Tiempo de ejecución para algoritmo: 0.0005509853363037109375000\r\n",
            "\n",
            "Resultado para lista de 9 elementos, para el número: 75 :5+9*8-2/1\n",
            "\r\n",
            " Tiempo de ejecución para algoritmo: 0.0007123947143554687500000\r\n",
            "\n",
            "Resultado para lista de 9 elementos, para el número: 76 :6+9*8-2/1\n",
            "\r\n",
            " Tiempo de ejecución para algoritmo: 0.0007913112640380859375000\r\n",
            "\n",
            "Resultado para lista de 9 elementos, para el número: 77 :7+9*8-2/1\n",
            "\r\n",
            " Tiempo de ejecución para algoritmo: 0.0009505748748779296875000\r\n",
            "\n"
          ],
          "name": "stdout"
        }
      ]
    },
    {
      "metadata": {
        "id": "fwydhbCn_VtB",
        "colab_type": "code",
        "outputId": "1c6a86b2-f1d7-404a-9a81-31027726db68",
        "colab": {
          "base_uri": "https://localhost:8080/",
          "height": 697
        }
      },
      "cell_type": "code",
      "source": [
        "#Cálculo de todos los números posibles para la lista aleatoria de números generada\n",
        "for i in lista2:\n",
        "  calculoSimplePintar(i,numerosListaGrande)"
      ],
      "execution_count": 32,
      "outputs": [
        {
          "output_type": "stream",
          "text": [
            "Resultado para lista de 2355 elementos, para el número: 1570 :2+1570*1-6/3\n",
            "\r\n",
            " Tiempo de ejecución para algoritmo: 0.0018672943115234375000000\r\n",
            "\n",
            "Resultado para lista de 2355 elementos, para el número: 1564 :2+1564*1-6/3\n",
            "\r\n",
            " Tiempo de ejecución para algoritmo: 0.0012955665588378906250000\r\n",
            "\n",
            "Resultado para lista de 2355 elementos, para el número: 1018 :2+1018*1-6/3\n",
            "\r\n",
            " Tiempo de ejecución para algoritmo: 0.0016767978668212890625000\r\n",
            "\n",
            "Resultado para lista de 2355 elementos, para el número: 661 :2+661*1-6/3\n",
            "\r\n",
            " Tiempo de ejecución para algoritmo: 0.0014841556549072265625000\r\n",
            "\n",
            "Resultado para lista de 2355 elementos, para el número: 336 :2+336*1-6/3\n",
            "\r\n",
            " Tiempo de ejecución para algoritmo: 0.0016627311706542968750000\r\n",
            "\n",
            "Resultado para lista de 2355 elementos, para el número: 1781 :2+1781*1-6/3\n",
            "\r\n",
            " Tiempo de ejecución para algoritmo: 0.0019183158874511718750000\r\n",
            "\n",
            "Resultado para lista de 2355 elementos, para el número: 651 :2+651*1-6/3\n",
            "\r\n",
            " Tiempo de ejecución para algoritmo: 0.0018100738525390625000000\r\n",
            "\n",
            "Resultado para lista de 2355 elementos, para el número: 1788 :2+1788*1-6/3\n",
            "\r\n",
            " Tiempo de ejecución para algoritmo: 0.0009143352508544921875000\r\n",
            "\n",
            "Resultado para lista de 2355 elementos, para el número: 1632 :2+1632*1-6/3\n",
            "\r\n",
            " Tiempo de ejecución para algoritmo: 0.0008163452148437500000000\r\n",
            "\n",
            "Resultado para lista de 2355 elementos, para el número: 732 :2+732*1-6/3\n",
            "\r\n",
            " Tiempo de ejecución para algoritmo: 0.0008287429809570312500000\r\n",
            "\n"
          ],
          "name": "stdout"
        }
      ]
    },
    {
      "metadata": {
        "id": "Lbh1AaCN_XcM",
        "colab_type": "text"
      },
      "cell_type": "markdown",
      "source": [
        "Enumera las referencias que has utilizado(si ha sido necesario) para llevar a cabo el trabajo"
      ]
    },
    {
      "metadata": {
        "id": "c_WarK4t_aBo",
        "colab_type": "text"
      },
      "cell_type": "markdown",
      "source": [
        "Respuesta"
      ]
    },
    {
      "metadata": {
        "id": "Rkl_qcrP_bPD",
        "colab_type": "text"
      },
      "cell_type": "markdown",
      "source": [
        "Describe brevemente las lineas de como crees que es posible avanzar en el estudio del problema. Ten en cuenta incluso posibles variaciones del problema y/o variaciones al alza del tamaño"
      ]
    },
    {
      "metadata": {
        "id": "NoCEYRKB_dPr",
        "colab_type": "text"
      },
      "cell_type": "markdown",
      "source": [
        "Respuesta"
      ]
    },
    {
      "metadata": {
        "id": "URzOwMCWPgym",
        "colab_type": "text"
      },
      "cell_type": "markdown",
      "source": [
        "Se podría avanzar en el estudio de este problema en los siguientes aspectos:\n",
        "\n",
        "- Obteniendo no una solución, sino todas las posibles\n",
        "- Agregando más operadores, ejemplo: raíces cuadradas y potencias\n",
        "- Eliminando restricciones al problema:\n",
        "\n",
        "  -  Con números que se puedan repetir\n",
        "  - Con operadores que se puedan repetir\n",
        "  - Con un rango numérico más amplio (no sólo 1 a 9)\n",
        "  \n",
        "  Este último aspecto (rango numérico más amplio) ya se ha tenido en cuenta en todos los algoritmos que he implementado.\n",
        "  \n",
        "  A continuación, voy a mostrar los resultados obtenidos de utilizar dichos algoritmos para distintas entradas de datos.\n",
        "  Se va a poder observar cómo el algoritmo implementado es muy superior a los dos algoritmos de fuerza bruta."
      ]
    },
    {
      "metadata": {
        "id": "NfG6IW5Lrlzc",
        "colab_type": "code",
        "outputId": "9bc413bc-15ff-42a9-b9f0-6ecb2f2ba5d9",
        "colab": {
          "base_uri": "https://localhost:8080/",
          "height": 510
        }
      },
      "cell_type": "code",
      "source": [
        "#En el algoritmo que he implementado, ya contemplo rangos numéricos más amplios, no necesariamente desde 1 a 9\n",
        "#Se muestran a continuación los resultados obtenidos para distintos números y diferente rango numérico, no sólo el tamaño sino para diferentes rangos\n",
        "print(\"###### Algoritmo de calculoSimple\")\n",
        "lista=[x for x in range(1,5000)]  \n",
        "calculoSimplePintar(232,lista)\n",
        "\n",
        "lista=[x for x in range(200,5000)]  \n",
        "calculoSimplePintar(232,lista)\n",
        "\n",
        "lista=[x for x in range(23,544)]  \n",
        "calculoSimplePintar(232,lista)\n",
        "\n",
        "print(\"\\r\\n ###### Algoritmo de fuerza bruta\")\n",
        "#El primer algoritmo por fuerza bruta tarda muchísimo para listas grandes, se queda colgado. Pruebo con una lista de 20 elementos.:\n",
        "#obtenerEnteroFBRestPintar(232,lista,OPERACIONES)\n",
        "obtenerEnteroFBPintar(232,[x for x in range(1,20)],OPERADORES)\n",
        "print(\"\\r\\n ###### Algoritmo de fuerza bruta con restricciones\")\n",
        "#El segundo también se queda colgado con listas tan grandes, aun así, responde  mejor para la lista de 20 elementos\n",
        "#obtenerEnteroFBRestPintar(232,lista,[\"OPERACIONES\"])\n",
        "obtenerEnteroFBRestPintar(232,[x for x in range(1,20)],OPERADORES)\n",
        "obtenerEnteroFBRestPintar(232,[x for x in range(1,100)],OPERADORES)\n"
      ],
      "execution_count": 33,
      "outputs": [
        {
          "output_type": "stream",
          "text": [
            "###### Algoritmo de calculoSimple\n",
            "Resultado para lista de 4999 elementos, para el número: 232 :2+232*1-6/3\n",
            "\r\n",
            " Tiempo de ejecución para algoritmo: 0.0021996498107910156250000\r\n",
            "\n",
            "Resultado para lista de 4800 elementos, para el número: 232 :200+1*232-400/2\n",
            "\r\n",
            " Tiempo de ejecución para algoritmo: 0.1092288494110107421875000\r\n",
            "\n",
            "Resultado para lista de 521 elementos, para el número: 232 :23+8*29-46/2\n",
            "\r\n",
            " Tiempo de ejecución para algoritmo: 0.0025343894958496093750000\r\n",
            "\n",
            "\r\n",
            " ###### Algoritmo de fuerza bruta\n",
            "Resultado para lista de 19 elementos, para el número: 232 :1+13*18-6/2\n",
            "\n",
            " Tiempo de ejecución para algoritmo: 2.5065202713012695312500000\n",
            "\n",
            "\n",
            " ###### Algoritmo de fuerza bruta con restricciones\n",
            "Resultado para lista de 19 elementos, para el número: 232 :1+13*18-6/2\n",
            "\n",
            " Tiempo de ejecución para algoritmo: 0.4352219104766845703125000\n",
            "\n",
            "Resultado para lista de 99 elementos, para el número: 232 :1+3*78-6/2\n",
            "\n",
            " Tiempo de ejecución para algoritmo: 13.7970855236053466796875000\n",
            "\n"
          ],
          "name": "stdout"
        }
      ]
    },
    {
      "metadata": {
        "id": "wvg_wG7PFQyr",
        "colab_type": "text"
      },
      "cell_type": "markdown",
      "source": [
        "####GRÁFICOS DE RENDIMIENTO"
      ]
    },
    {
      "metadata": {
        "id": "o3kkBDhjFaE1",
        "colab_type": "code",
        "outputId": "62cb164a-6ccf-480f-9b2b-7b2d3aa0c1e5",
        "colab": {
          "base_uri": "https://localhost:8080/",
          "height": 1122
        }
      },
      "cell_type": "code",
      "source": [
        "#Tamaños diversos de listas, de 50 en 50 elementos\n",
        "listaGrafico=[9,59,109,159,209]\n",
        "\n",
        "GUARDAR_RESULTADO=True\n",
        "TIEMPOS=[]\n",
        "\n",
        "#Fuerza bruta\n",
        "print(\"\\r\\n Fuerza bruta:\")\n",
        "for i in(listaGrafico):\n",
        "  obtenerEnteroFBPintar(45,[x for x in range(1,i+1)],OPERADORES)\n",
        "tiemposFuerzaBruta=[]\n",
        "for j in TIEMPOS:\n",
        "  tiemposFuerzaBruta.append(j) \n",
        "TIEMPOS=[]  \n",
        "\n",
        "#Fuerza bruta restricciones\n",
        "print(\"\\r\\n Fuerza bruta con restricciones:\")\n",
        "for i in(listaGrafico):\n",
        "  obtenerEnteroFBRestPintar(45,[x for x in range(1,i+1)],OPERADORES)    \n",
        "tiemposFuerzaBrutaR=[]\n",
        "for k in TIEMPOS:\n",
        "  tiemposFuerzaBrutaR.append(k) \n",
        "TIEMPOS=[] \n",
        " \n",
        "\n",
        "#Cálculo simple\n",
        "print(\"Cálculo simple:\")\n",
        "for i in(listaGrafico):\n",
        "  calculoSimplePintar(45,[x for x in range(1,i+1)])\n",
        "tiemposCalculoSimple=[]\n",
        "for l in TIEMPOS:\n",
        "  tiemposCalculoSimple.append(l)\n",
        "TIEMPOS=[]  \n",
        "\n",
        "GUARDAR_RESULTADO=False"
      ],
      "execution_count": 34,
      "outputs": [
        {
          "output_type": "stream",
          "text": [
            "\r\n",
            " Fuerza bruta:\n",
            "Resultado para lista de 9 elementos, para el número: 45 :2+5*9-6/3\n",
            "\n",
            " Tiempo de ejecución para algoritmo: 0.4221110343933105468750000\n",
            "\n",
            "Resultado para lista de 59 elementos, para el número: 45 :1+2*23-6/3\n",
            "\n",
            " Tiempo de ejecución para algoritmo: 1.1071348190307617187500000\n",
            "\n",
            "Resultado para lista de 109 elementos, para el número: 45 :1+2*23-6/3\n",
            "\n",
            " Tiempo de ejecución para algoritmo: 3.9371385574340820312500000\n",
            "\n",
            "Resultado para lista de 159 elementos, para el número: 45 :1+2*23-6/3\n",
            "\n",
            " Tiempo de ejecución para algoritmo: 8.4720735549926757812500000\n",
            "\n",
            "Resultado para lista de 209 elementos, para el número: 45 :1+2*23-6/3\n",
            "\n",
            " Tiempo de ejecución para algoritmo: 15.3554642200469970703125000\n",
            "\n",
            "\n",
            " Fuerza bruta con restricciones:\n",
            "Resultado para lista de 9 elementos, para el número: 45 :2+5*9-6/3\n",
            "\n",
            " Tiempo de ejecución para algoritmo: 0.0234248638153076171875000\n",
            "\n",
            "Resultado para lista de 59 elementos, para el número: 45 :1+2*23-6/3\n",
            "\n",
            " Tiempo de ejecución para algoritmo: 0.5752084255218505859375000\n",
            "\n",
            "Resultado para lista de 109 elementos, para el número: 45 :1+2*23-6/3\n",
            "\n",
            " Tiempo de ejecución para algoritmo: 2.0495519638061523437500000\n",
            "\n",
            "Resultado para lista de 159 elementos, para el número: 45 :1+2*23-6/3\n",
            "\n",
            " Tiempo de ejecución para algoritmo: 4.3091304302215576171875000\n",
            "\n",
            "Resultado para lista de 209 elementos, para el número: 45 :1+2*23-6/3\n",
            "\n",
            " Tiempo de ejecución para algoritmo: 7.3381392955780029296875000\n",
            "\n",
            "Cálculo simple:\n",
            "Resultado para lista de 9 elementos, para el número: 45 :2+9*5-6/3\n",
            "\n",
            " Tiempo de ejecución para algoritmo: 0.0004756450653076171875000\n",
            "\n",
            "Resultado para lista de 59 elementos, para el número: 45 :2+45*1-6/3\n",
            "\n",
            " Tiempo de ejecución para algoritmo: 0.0003216266632080078125000\n",
            "\n",
            "Resultado para lista de 109 elementos, para el número: 45 :2+45*1-6/3\n",
            "\n",
            " Tiempo de ejecución para algoritmo: 0.0002908706665039062500000\n",
            "\n",
            "Resultado para lista de 159 elementos, para el número: 45 :2+45*1-6/3\n",
            "\n",
            " Tiempo de ejecución para algoritmo: 0.0001599788665771484375000\n",
            "\n",
            "Resultado para lista de 209 elementos, para el número: 45 :2+45*1-6/3\n",
            "\n",
            " Tiempo de ejecución para algoritmo: 0.0004165172576904296875000\n",
            "\n"
          ],
          "name": "stdout"
        }
      ]
    },
    {
      "metadata": {
        "id": "-_lZd-oWUt98",
        "colab_type": "text"
      },
      "cell_type": "markdown",
      "source": [
        "#### Gráficos de rendimiento para los tres algoritmos"
      ]
    },
    {
      "metadata": {
        "id": "jzupJmr2l5dF",
        "colab_type": "code",
        "outputId": "877a3ae8-20c9-42ec-8fae-eeee37662f6b",
        "colab": {
          "base_uri": "https://localhost:8080/",
          "height": 363
        }
      },
      "cell_type": "code",
      "source": [
        "import matplotlib.pyplot as plt\n",
        "fig,axis = plt.subplots(1,1) \n",
        "axis.plot(listaGrafico,tiemposFuerzaBruta,'r',label='Fuerza bruta',linewidth=2) \n",
        "axis.plot(listaGrafico,tiemposFuerzaBrutaR,'b',label='Fuerza bruta restricciones',linewidth=1)\n",
        "axis.plot(listaGrafico,tiemposCalculoSimple,'g',label='Algoritmo simple',linewidth=1)\n",
        "axis.legend(loc='best') \n",
        "axis.set_xlabel('Tamaño de la lista')  \n",
        "axis.set_ylabel('Tiempo de ejecución') \n",
        "plt.show() # Se muestra la figura"
      ],
      "execution_count": 35,
      "outputs": [
        {
          "output_type": "display_data",
          "data": {
            "image/png": "[encoded data removed]",
            "text/plain": [
              "<Figure size 576x396 with 1 Axes>"
            ]
          },
          "metadata": {
            "tags": []
          }
        }
      ]
    },
    {
      "metadata": {
        "id": "tlFFqS_bVC4w",
        "colab_type": "text"
      },
      "cell_type": "markdown",
      "source": [
        "Tal y como se aprecia, a medida que aumenta el tamaño de la lista, los tiempos para fuerza bruta y fuerza bruta con restricciones, crecen mucho más que para el algoritmo simple. Esto es debido, tal y como se ha explicado en apartaodos anteriores, a su menor complejidad y menor número de operaciones "
      ]
    },
    {
      "metadata": {
        "id": "9TXZn5KXPpHn",
        "colab_type": "text"
      },
      "cell_type": "markdown",
      "source": [
        "#### Gráfico de rendimiento para algoritmo calculoSimple"
      ]
    },
    {
      "metadata": {
        "id": "9KoHftnODRJ9",
        "colab_type": "code",
        "outputId": "d4ac6cd2-00b5-4473-e5ad-8983f9a07adc",
        "colab": {
          "base_uri": "https://localhost:8080/",
          "height": 357
        }
      },
      "cell_type": "code",
      "source": [
        "TIEMPOS=[] \n",
        "GUARDAR_RESULTADO=True\n",
        "tiemposCalculoSimpleT=[]\n",
        "\n",
        "calculoSimplePintar(18,[x for x in range(1,10000)])\n",
        "calculoSimplePintar(180,[x for x in range(1,100000)])\n",
        "calculoSimplePintar(1809,[x for x in range(1,1000000)])\n",
        "calculoSimplePintar(18097,[x for x in range(1,10000000)])\n",
        "calculoSimplePintar(180978,[x for x in range(1,100000000)])\n",
        "\n",
        "for t in TIEMPOS:\n",
        "  tiemposCalculoSimpleT.append(t)\n",
        "\n",
        "TIEMPOS=[] \n",
        "GUARDAR_RESULTADO=False"
      ],
      "execution_count": 36,
      "outputs": [
        {
          "output_type": "stream",
          "text": [
            "Resultado para lista de 9999 elementos, para el número: 18 :2+18*1-6/3\n",
            "\r\n",
            " Tiempo de ejecución para algoritmo: 0.0054597854614257812500000\r\n",
            "\n",
            "Resultado para lista de 99999 elementos, para el número: 180 :2+180*1-6/3\n",
            "\r\n",
            " Tiempo de ejecución para algoritmo: 0.0288965702056884765625000\r\n",
            "\n",
            "Resultado para lista de 999999 elementos, para el número: 1809 :2+1809*1-6/3\n",
            "\n",
            " Tiempo de ejecución para algoritmo: 0.3042008876800537109375000\n",
            "\n",
            "Resultado para lista de 9999999 elementos, para el número: 18097 :2+18097*1-6/3\n",
            "\n",
            " Tiempo de ejecución para algoritmo: 2.9269754886627197265625000\n",
            "\n",
            "Resultado para lista de 99999999 elementos, para el número: 180978 :2+180978*1-6/3\n",
            "\n",
            " Tiempo de ejecución para algoritmo: 28.4644644260406494140625000\n",
            "\n"
          ],
          "name": "stdout"
        }
      ]
    },
    {
      "metadata": {
        "id": "7lvdvXt4OWHh",
        "colab_type": "code",
        "outputId": "f0903d17-d782-4a49-9844-6735343347e7",
        "colab": {
          "base_uri": "https://localhost:8080/",
          "height": 361
        }
      },
      "cell_type": "code",
      "source": [
        "import matplotlib.pyplot as plt\n",
        "fig,axis = plt.subplots(1,1) \n",
        "axis.plot([10000/1000,100000/1000,1000000/1000,10000000/1000,100000000/1000],tiemposCalculoSimpleT,'r',label='Cálculo simple',linewidth=2)\n",
        "axis.legend(loc='best') \n",
        "axis.set_xlabel('Tamaño de la lista en miles de elementos')  \n",
        "axis.set_ylabel('Tiempo de ejecución')\n",
        "plt.show() # Se muestra la figura"
      ],
      "execution_count": 37,
      "outputs": [
        {
          "output_type": "display_data",
          "data": {
            "image/png": "[encoded data removed]",
            "text/plain": [
              "<Figure size 576x396 with 1 Axes>"
            ]
          },
          "metadata": {
            "tags": []
          }
        }
      ]
    },
    {
      "metadata": {
        "id": "RzAL0947VZUI",
        "colab_type": "text"
      },
      "cell_type": "markdown",
      "source": [
        "Se ha hecho un gráfico aparte para calculo simple para tamaños más grandes de listas. El gráfico está puesto en miles de elementos.\n",
        "Se aprecia un crecimiento lineal, a medida que el número a calcular y el listado de números es mayor."
      ]
    }
  ]
}