{
  "nbformat": 4,
  "nbformat_minor": 0,
  "metadata": {
    "colab": {
      "name": "AG1-Isabel_Vazquez",
      "version": "0.3.2",
      "provenance": [],
      "collapsed_sections": [],
      "include_colab_link": true
    },
    "kernelspec": {
      "name": "python3",
      "display_name": "Python 3"
    }
  },
  "cells": [
    {
      "cell_type": "markdown",
      "metadata": {
        "id": "view-in-github",
        "colab_type": "text"
      },
      "source": [
        "<a href=\"https://colab.research.google.com/github/404isabel/03MAIR-Algoritmos-de-optimizacion/blob/master/AG1/AG1_Isabel_Vazquez.ipynb\" target=\"_parent\"><img src=\"https://colab.research.google.com/assets/colab-badge.svg\" alt=\"Open In Colab\"/></a>"
      ]
    },
    {
      "metadata": {
        "id": "Cjio1eJKa90j",
        "colab_type": "text"
      },
      "cell_type": "markdown",
      "source": [
        "AG1 - Actividad Guiada 1<br>\n",
        "Isabel Vázquez Trigás <br>\n",
        "https://github.com/404isabel/03MAIR-Algoritmos-de-optimizacion/tree/master/AG1"
      ]
    },
    {
      "metadata": {
        "id": "L-p7oEbFyGDv",
        "colab_type": "text"
      },
      "cell_type": "markdown",
      "source": [
        "##### Función para calcular tiempo"
      ]
    },
    {
      "metadata": {
        "id": "5MCRrApNyDm-",
        "colab_type": "code",
        "colab": {}
      },
      "cell_type": "code",
      "source": [
        "from time import time\n",
        "def calcular_tiempo(f):\n",
        "   \n",
        "    def wrapper(*args, **kwargs):        \n",
        "        inicio = time()       \n",
        "        resultado = f(*args, **kwargs)       \n",
        "        tiempo = float(time() - inicio)     \n",
        "        print(\"\\r\\n Tiempo de ejecución para algoritmo: \"+\"{0:.25f}\".format(tiempo))\n",
        "        return resultado\n",
        "    \n",
        "    return wrapper\n",
        "\n"
      ],
      "execution_count": 0,
      "outputs": []
    },
    {
      "metadata": {
        "id": "F88YDVKax-I-",
        "colab_type": "text"
      },
      "cell_type": "markdown",
      "source": [
        "### Algoritmo quick_sort"
      ]
    },
    {
      "metadata": {
        "id": "x4be5pJpbiqg",
        "colab_type": "code",
        "outputId": "2fb6b30e-f9ea-44f4-d26f-b2fbcb71208b",
        "colab": {
          "base_uri": "https://localhost:8080/",
          "height": 68
        }
      },
      "cell_type": "code",
      "source": [
        "#quick_sort\n",
        "\n",
        "@calcular_tiempo \n",
        "def QS(A):\n",
        "  return quick_sort(A)\n",
        "\n",
        "A = [9187, 244, 4054, 9222, 8373, 4993, 5265, 5470, 4519, 7182, 2035, 3506, 4337, 7580, 2554, 2824, 8357, 4447, 7379]\n",
        "\n",
        "\n",
        "def quick_sort(A):\n",
        "  if len(A)==1:\n",
        "    return A\n",
        "  elif len(A)==2:\n",
        "    return [min(A),max(A)]\n",
        "  \n",
        "  else: #Modificación: se mete este código en un else\n",
        "    izq=[]\n",
        "    der=[]\n",
        "    \n",
        "    pivote = (A[0]+ A[1]+ A[2])/3\n",
        "  \n",
        "    for i in A:\n",
        "      if i<pivote:\n",
        "        izq.append(i)\n",
        "      else:\n",
        "        der.append(i)\n",
        "      \n",
        "  return quick_sort(izq)+quick_sort(der)\n",
        "\n",
        "quick_sort(A)\n",
        "print(QS(A))\n"
      ],
      "execution_count": 35,
      "outputs": [
        {
          "output_type": "stream",
          "text": [
            "\r\n",
            " Tiempo de ejecución para algoritmo: 0.0000283718109130859375000\n",
            "[244, 2035, 2554, 2824, 3506, 4054, 4337, 4447, 4519, 4993, 5265, 5470, 7182, 7379, 7580, 8357, 8373, 9187, 9222]\n"
          ],
          "name": "stdout"
        }
      ]
    },
    {
      "metadata": {
        "id": "mmt0pGnxYKYG",
        "colab_type": "text"
      },
      "cell_type": "markdown",
      "source": [
        "#### Algoritmo quick_sort, mediante técnica de reposicionamiento del pivote\n",
        "En este caso se va recorriendo la lista de izquierda a derecha, y de derecha a izquierda\n",
        "El pivote se pone donde sabemos que todos los elementos de la izquierda son menores, y los de la derecha mayores"
      ]
    },
    {
      "metadata": {
        "id": "NP-QtCQvZD03",
        "colab_type": "code",
        "colab": {
          "base_uri": "https://localhost:8080/",
          "height": 68
        },
        "outputId": "e7cd00c6-a93c-4374-edf6-269a14d9ca8b"
      },
      "cell_type": "code",
      "source": [
        "def quicksortIndices(A, inicio, fin):\n",
        "    # definimos los índices y calculamos el pivote\n",
        "    i = inicio\n",
        "    j = fin    \n",
        "    pivote = (A[i] + A[j]) / 2\n",
        "   \n",
        "    while i < j:        \n",
        "        while A[i] < pivote:           \n",
        "            i+=1       \n",
        "        while A[j] > pivote:          \n",
        "            j-=1\n",
        "        # i y j están al lado o son el mismo\n",
        "        if i<= j:            \n",
        "            x = A[j]           \n",
        "            A[j] = A[i]\n",
        "            A[i] = x           \n",
        "            i+=1\n",
        "            j-=1\n",
        "\n",
        "    # si inicio es menor que j o fin es mayor que i, seguimos iterando sobre la lista\n",
        "    if inicio < j :\n",
        "       A = quicksortIndices(A, inicio, j)\n",
        "    elif fin>i:\n",
        "       A = quicksortIndices(A, i, fin)\n",
        "   \n",
        "    return A\n",
        "  \n",
        "\n",
        "  \n",
        "@calcular_tiempo \n",
        "def QST(A,inicio,fin):\n",
        "  return quicksortIndices(A,inicio,fin)\n",
        "\n",
        "print(QST(A,0,len(A)-1))"
      ],
      "execution_count": 38,
      "outputs": [
        {
          "output_type": "stream",
          "text": [
            "\r\n",
            " Tiempo de ejecución para algoritmo: 0.0000104904174804687500000\n",
            "[244, 2035, 2554, 3506, 2824, 4337, 4447, 4054, 4519, 7182, 5470, 5265, 4993, 7580, 7379, 8373, 8357, 9222, 9187]\n"
          ],
          "name": "stdout"
        }
      ]
    },
    {
      "metadata": {
        "id": "BWM8dKlNxvsi",
        "colab_type": "text"
      },
      "cell_type": "markdown",
      "source": [
        "### Cálculo de monedas"
      ]
    },
    {
      "metadata": {
        "id": "rUrme-8Vew0R",
        "colab_type": "code",
        "outputId": "c0ec1f18-f841-457f-ee58-eec3b84f6486",
        "colab": {
          "base_uri": "https://localhost:8080/",
          "height": 85
        }
      },
      "cell_type": "code",
      "source": [
        "@calcular_tiempo \n",
        "def cambio_monedas(cantidad,sistema):\n",
        "  \n",
        "  print(sistema)\n",
        "  solucion=[0 for i in range(len(sistema))]     \n",
        "  valor_acumulado = 0\n",
        "  \n",
        "  for i in range(len(sistema)):    \n",
        "    monedas = int((cantidad - valor_acumulado)/sistema[i])\n",
        "    solucion[i]=monedas\n",
        "    valor_acumulado+=monedas*sistema[i]    \n",
        "    if valor_acumulado==cantidad:\n",
        "      return solucion\n",
        "  \n",
        "  \n",
        "\n",
        "sistema=[25,10,5,1] \n",
        "#Devuelve el número de monedas de cada posición\n",
        "print(cambio_monedas(77,sistema))\n",
        " "
      ],
      "execution_count": 3,
      "outputs": [
        {
          "output_type": "stream",
          "text": [
            "[25, 10, 5, 1]\n",
            "\r\n",
            " Tiempo de ejecución para algoritmo: 0.0036876201629638671875000\n",
            "[3, 0, 0, 2]\n"
          ],
          "name": "stdout"
        }
      ]
    },
    {
      "metadata": {
        "id": "naU7YyZqyWCc",
        "colab_type": "text"
      },
      "cell_type": "markdown",
      "source": [
        "##### Algoritmo modificado en el cual se devuelven las monedas necesarias"
      ]
    },
    {
      "metadata": {
        "id": "L6NoRn3puaec",
        "colab_type": "code",
        "outputId": "6881e862-154e-4601-f263-f1ee7a6bab63",
        "colab": {
          "base_uri": "https://localhost:8080/",
          "height": 68
        }
      },
      "cell_type": "code",
      "source": [
        "#Mi algoritmo, devolviendo en un array las monedas necesarias, en vez de las monedas por posición\n",
        "@calcular_tiempo \n",
        "def cambioMonedas(cantidad, monedas):\n",
        "  monedas.sort(reverse=True)\n",
        "  resultado=[]\n",
        "  i=0\n",
        "  total=0\n",
        "  while(i<len(monedas) and total<cantidad):\n",
        "    if(cantidad >= monedas[i] and monedas[i]+total<=cantidad):      \n",
        "      resultado.append(monedas[i])\n",
        "      total+=monedas[i]\n",
        "    else:\n",
        "      i+=1\n",
        "  return resultado\n",
        "    \n",
        "r1=cambioMonedas(77,[25,10,5,1])\n",
        "print(r1)"
      ],
      "execution_count": 5,
      "outputs": [
        {
          "output_type": "stream",
          "text": [
            "\r\n",
            " Tiempo de ejecución para algoritmo: 0.0000090599060058593750000\n",
            "[25, 25, 25, 1, 1]\n"
          ],
          "name": "stdout"
        }
      ]
    },
    {
      "metadata": {
        "id": "i38g-zcFx3yu",
        "colab_type": "text"
      },
      "cell_type": "markdown",
      "source": [
        "### Algoritmo de las 4 reinas"
      ]
    },
    {
      "metadata": {
        "id": "UnOx5ThFkNkW",
        "colab_type": "code",
        "outputId": "7a859fb2-c285-4222-ce50-794e49038ff5",
        "colab": {
          "base_uri": "https://localhost:8080/",
          "height": 85
        }
      },
      "cell_type": "code",
      "source": [
        "N=2\n",
        "\n",
        "solucion = [0 for i in range(N)]\n",
        "\n",
        "etapa=0\n",
        "\n",
        "@calcular_tiempo \n",
        "def tiempoReinas(N,solucion,etapa):\n",
        "  #Modificación: Añado comprobación para problema con 2 reinas\n",
        "  if(N==2):\n",
        "    print(\"No se puede resolver para 2 reinas\")\n",
        "  return reinas(N,solucion,etapa)\n",
        "\n",
        "def es_prometedora(solucion,etapa):\n",
        "  for i in range(etapa+1):\n",
        "    if solucion.count(solucion[i])>1:\n",
        "      return False\n",
        "    \n",
        "    #Verificar las diagonales\n",
        "    for j in range(i+1,etapa+1):\n",
        "      if abs(i-j) == abs(solucion[i]-solucion[j]):\n",
        "        return False\n",
        "  return True   \n",
        "\n",
        "def escribe(S):\n",
        "  n = len(S)\n",
        "  for x in range(n):\n",
        "    print(\"\")\n",
        "    for i in range(n):\n",
        "      if solucion[i] == x+1:\n",
        "        print(\" X \" , end=\"\")\n",
        "      else:\n",
        "        print(\" - \", end=\"\")\n",
        "\n",
        "\n",
        "def reinas(N, solucion, etapa):\n",
        "  \n",
        "  for i in range(1,N+1):\n",
        "    solucion[etapa]=i\n",
        "    if es_prometedora(solucion,etapa):\n",
        "      if etapa == N-1:\n",
        "        print(\"\\r\\n La solución es \\r\\n\")\n",
        "        print(solucion)\n",
        "        escribe(solucion)\n",
        "      else:\n",
        "        #es prometedora\n",
        "        reinas(N,solucion, etapa+1)\n",
        "        \n",
        "    #Modificación: quito este else\n",
        "    #else:      \n",
        "     # None\n",
        "    solucion[etapa] = 0\n",
        "    \n",
        "#reinas(N,solucion,etapa)\n",
        "\n",
        "print(tiempoReinas(N,solucion,etapa))\n",
        "\n"
      ],
      "execution_count": 31,
      "outputs": [
        {
          "output_type": "stream",
          "text": [
            "No se puede resolver para 2 reinas\n",
            "\r\n",
            " Tiempo de ejecución para algoritmo: 0.0005507469177246093750000\n",
            "None\n"
          ],
          "name": "stdout"
        }
      ]
    },
    {
      "metadata": {
        "id": "2rRds3FqWTSw",
        "colab_type": "code",
        "colab": {}
      },
      "cell_type": "code",
      "source": [
        ""
      ],
      "execution_count": 0,
      "outputs": []
    }
  ]
}