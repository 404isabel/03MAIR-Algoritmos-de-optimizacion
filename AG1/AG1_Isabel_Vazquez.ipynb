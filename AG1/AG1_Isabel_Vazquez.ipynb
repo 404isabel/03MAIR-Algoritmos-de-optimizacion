{
  "nbformat": 4,
  "nbformat_minor": 0,
  "metadata": {
    "colab": {
      "name": "AG1-Isabel_Vazquez",
      "version": "0.3.2",
      "provenance": [],
      "collapsed_sections": [],
      "include_colab_link": true
    },
    "kernelspec": {
      "name": "python3",
      "display_name": "Python 3"
    }
  },
  "cells": [
    {
      "cell_type": "markdown",
      "metadata": {
        "id": "view-in-github",
        "colab_type": "text"
      },
      "source": [
        "<a href=\"https://colab.research.google.com/github/404isabel/03MAIR-Algoritmos-de-optimizacion/blob/master/AG1/AG1_Isabel_Vazquez.ipynb\" target=\"_parent\"><img src=\"https://colab.research.google.com/assets/colab-badge.svg\" alt=\"Open In Colab\"/></a>"
      ]
    },
    {
      "metadata": {
        "id": "Cjio1eJKa90j",
        "colab_type": "text"
      },
      "cell_type": "markdown",
      "source": [
        "AG1 - Actividad Guiada 1<br>\n",
        "Isabel Vázquez Trigás <br>\n",
        "https://github.com/404isabel/03MAIR-Algoritmos-de-optimizacion/tree/master/AG1"
      ]
    },
    {
      "metadata": {
        "id": "XqoCk06HfzbB",
        "colab_type": "code",
        "colab": {}
      },
      "cell_type": "code",
      "source": [
        "from time import time\n",
        "def calcular_tiempo(f):\n",
        "   \n",
        "    def wrapper(*args, **kwargs):        \n",
        "        inicio = time()       \n",
        "        resultado = f(*args, **kwargs)       \n",
        "        tiempo = time() - inicio\n",
        "        print(\"Tiempo de ejecución para algoritmo: \"+str(tiempo))\n",
        "        return resultado\n",
        "    \n",
        "    return wrapper\n",
        "\n",
        "@calcular_tiempo \n",
        "def QS(A):\n",
        "  return quick_sort(A)"
      ],
      "execution_count": 0,
      "outputs": []
    },
    {
      "metadata": {
        "id": "x4be5pJpbiqg",
        "colab_type": "code",
        "colab": {
          "base_uri": "https://localhost:8080/",
          "height": 51
        },
        "outputId": "76df2d03-7a00-430f-9d6f-a95a0036b1cc"
      },
      "cell_type": "code",
      "source": [
        "\n",
        "#quick_sort\n",
        "\n",
        "A = [9187, 244, 4054, 9222, 8373, 4993, 5265, 5470, 4519, 7182, 2035, 3506, 4337, 7580, 2554, 2824, 8357, 4447, 7379]\n",
        "\n",
        "\n",
        "def quick_sort(A):\n",
        "  if len(A)==1:\n",
        "    return A\n",
        "  elif len(A)==2:\n",
        "    return [min(A),max(A)]\n",
        "  \n",
        "  izq=[]\n",
        "  der=[]\n",
        "  #Meter todo esto de abajo en un else\n",
        "  \n",
        "  #mejorable la elección del pivote (máx-min)/2. Igual calculando de una manera eficiente la mediana. (La mediana recorre la lista completa, y eso incrementa el valor de la complejidad)\n",
        " \n",
        "  pivote = (A[0]+ A[1]+ A[2])/3\n",
        "  \n",
        "  #Mirar si puedo hacerlo con un while, para eliminar iteraciones\n",
        "  for i in A:\n",
        "    if i<pivote:\n",
        "      izq.append(i)\n",
        "    else:\n",
        "      der.append(i)\n",
        "      \n",
        "  return quick_sort(izq)+quick_sort(der)\n",
        "\n",
        "quick_sort(A)\n",
        "print(QS(A))"
      ],
      "execution_count": 20,
      "outputs": [
        {
          "output_type": "stream",
          "text": [
            "Tiempo de ejecución para algoritmo: 2.7179718017578125e-05\n",
            "[244, 2035, 2554, 2824, 3506, 4054, 4337, 4447, 4519, 4993, 5265, 5470, 7182, 7379, 7580, 8357, 8373, 9187, 9222]\n"
          ],
          "name": "stdout"
        }
      ]
    },
    {
      "metadata": {
        "id": "rUrme-8Vew0R",
        "colab_type": "code",
        "colab": {
          "base_uri": "https://localhost:8080/",
          "height": 68
        },
        "outputId": "065c38e4-1e3b-462e-8948-df25d709b869"
      },
      "cell_type": "code",
      "source": [
        "@calcular_tiempo \n",
        "def cambio_monedas(cantidad,sistema):\n",
        "  \n",
        "  print(sistema)\n",
        "  solucion=[0 for i in range(len(sistema))]    \n",
        "  valor_acumulado = 0\n",
        "  \n",
        "  for i in range(len(sistema)):    \n",
        "    monedas = int((cantidad - valor_acumulado)/sistema[i])\n",
        "    solucion[i]=monedas\n",
        "    valor_acumulado+=monedas*sistema[i]    \n",
        "    if valor_acumulado==cantidad:\n",
        "      return solucion\n",
        "  \n",
        "  \n",
        "\n",
        "sistema=[25,10,5,1] \n",
        "#Devuelve el número de monedas de cada posición\n",
        "cambio_monedas(77,sistema)  \n",
        " "
      ],
      "execution_count": 48,
      "outputs": [
        {
          "output_type": "stream",
          "text": [
            "[25, 10, 5, 1]\n",
            "Tiempo de ejecución para algoritmo: 0.003053903579711914\n"
          ],
          "name": "stdout"
        },
        {
          "output_type": "execute_result",
          "data": {
            "text/plain": [
              "[3, 0, 0, 2]"
            ]
          },
          "metadata": {
            "tags": []
          },
          "execution_count": 48
        }
      ]
    },
    {
      "metadata": {
        "id": "UnOx5ThFkNkW",
        "colab_type": "code",
        "colab": {}
      },
      "cell_type": "code",
      "source": [
        "N=4\n",
        "\n",
        "solucion = [0 for i in range(N)]\n",
        "\n",
        "etapa=0\n",
        "\n",
        "def es_prometedora(solucion,etapa):\n",
        "  for i in range(etapa+1):\n",
        "    if solucion.count(solucion[i])>1:\n",
        "      return False\n",
        "    \n",
        "    #Verificar las diagonales\n",
        "    for j in range(i+1,etapa+1):\n",
        "      if abs(i-j) == abs(solucion[i]-solucion[j]):\n",
        "        return False\n",
        "  return True   \n",
        "\n",
        "def escribe(S):\n",
        "  n=len(S)\n",
        "  for x in range(n):\n",
        "    print(\"\")\n",
        "    for i \n",
        "\n",
        "\n",
        "def reinas(N, solucion, etapa):\n",
        "  \n",
        "  if es_prometedora(solucion,etapa):\n",
        "    if etapa == N-1:\n",
        "      print(solucion)\n",
        "      escribe(solucion)\n",
        "    else:\n",
        "      #es prometedora\n",
        "      reinas(N,solucion, etapa+1)\n",
        "  else:\n",
        "    #no es prometedora\n",
        "    None"
      ],
      "execution_count": 0,
      "outputs": []
    },
    {
      "metadata": {
        "id": "RXLS1nFhqCqt",
        "colab_type": "code",
        "colab": {}
      },
      "cell_type": "code",
      "source": [
        ""
      ],
      "execution_count": 0,
      "outputs": []
    }
  ]
}