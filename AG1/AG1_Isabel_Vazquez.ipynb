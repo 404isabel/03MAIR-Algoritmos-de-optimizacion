{
  "nbformat": 4,
  "nbformat_minor": 0,
  "metadata": {
    "colab": {
      "name": "AG1-Isabel_Vazquez",
      "version": "0.3.2",
      "provenance": [],
      "collapsed_sections": [],
      "include_colab_link": true
    },
    "kernelspec": {
      "name": "python3",
      "display_name": "Python 3"
    }
  },
  "cells": [
    {
      "cell_type": "markdown",
      "metadata": {
        "id": "view-in-github",
        "colab_type": "text"
      },
      "source": [
        "<a href=\"https://colab.research.google.com/github/404isabel/03MAIR-Algoritmos-de-optimizacion/blob/master/AG1/AG1_Isabel_Vazquez.ipynb\" target=\"_parent\"><img src=\"https://colab.research.google.com/assets/colab-badge.svg\" alt=\"Open In Colab\"/></a>"
      ]
    },
    {
      "metadata": {
        "id": "Cjio1eJKa90j",
        "colab_type": "text"
      },
      "cell_type": "markdown",
      "source": [
        "AG1 - Actividad Guiada 1<br>\n",
        "Isabel Vázquez Trigás <br>\n",
        "https://github.com/404isabel/03MAIR-Algoritmos-de-optimizacion/tree/master/AG1"
      ]
    },
    {
      "metadata": {
        "id": "L-p7oEbFyGDv",
        "colab_type": "text"
      },
      "cell_type": "markdown",
      "source": [
        "##### Función para calcular tiempo"
      ]
    },
    {
      "metadata": {
        "id": "5MCRrApNyDm-",
        "colab_type": "code",
        "colab": {}
      },
      "cell_type": "code",
      "source": [
        "from time import time\n",
        "def calcular_tiempo(f):\n",
        "   \n",
        "    def wrapper(*args, **kwargs):        \n",
        "        inicio = time()       \n",
        "        resultado = f(*args, **kwargs)       \n",
        "        tiempo = float(time() - inicio)        \n",
        "        #print(\"Tiempo de ejecución para algoritmo: \"+str(tiempo))\n",
        "        print(\"\\r\\n Tiempo de ejecución para algoritmo: \"+\"{0:.25f}\".format(tiempo))\n",
        "        return resultado\n",
        "    \n",
        "    return wrapper\n",
        "\n"
      ],
      "execution_count": 0,
      "outputs": []
    },
    {
      "metadata": {
        "id": "F88YDVKax-I-",
        "colab_type": "text"
      },
      "cell_type": "markdown",
      "source": [
        "### Algoritmo quick_sort"
      ]
    },
    {
      "metadata": {
        "id": "x4be5pJpbiqg",
        "colab_type": "code",
        "colab": {
          "base_uri": "https://localhost:8080/",
          "height": 68
        },
        "outputId": "819666b6-2b27-4bb6-c347-ed69841ee808"
      },
      "cell_type": "code",
      "source": [
        "#quick_sort\n",
        "\n",
        "@calcular_tiempo \n",
        "def QS(A):\n",
        "  return quick_sort(A)\n",
        "\n",
        "A = [9187, 244, 4054, 9222, 8373, 4993, 5265, 5470, 4519, 7182, 2035, 3506, 4337, 7580, 2554, 2824, 8357, 4447, 7379]\n",
        "\n",
        "\n",
        "def quick_sort(A):\n",
        "  if len(A)==1:\n",
        "    return A\n",
        "  elif len(A)==2:\n",
        "    return [min(A),max(A)]\n",
        "  \n",
        "  else: #Modificación: se mete este código en un else\n",
        "    izq=[]\n",
        "    der=[]\n",
        "\n",
        "\n",
        "    #mejorable la elección del pivote (máx-min)/2. Igual calculando de una manera eficiente la mediana. (La mediana recorre la lista completa, y eso incrementa el valor de la complejidad)\n",
        "\n",
        "    pivote = (A[0]+ A[1]+ A[2])/3\n",
        "\n",
        "    #Mirar si puedo hacerlo con un while, para eliminar iteraciones\n",
        "    for i in A:\n",
        "      if i<pivote:\n",
        "        izq.append(i)\n",
        "      else:\n",
        "        der.append(i)\n",
        "      \n",
        "  return quick_sort(izq)+quick_sort(der)\n",
        "\n",
        "quick_sort(A)\n",
        "print(QS(A))\n",
        "\n"
      ],
      "execution_count": 3,
      "outputs": [
        {
          "output_type": "stream",
          "text": [
            "\r\n",
            " Tiempo de ejecución para algoritmo: 0.0000250339508056640625000\n",
            "[244, 2035, 2554, 2824, 3506, 4054, 4337, 4447, 4519, 4993, 5265, 5470, 7182, 7379, 7580, 8357, 8373, 9187, 9222]\n"
          ],
          "name": "stdout"
        }
      ]
    },
    {
      "metadata": {
        "id": "BWM8dKlNxvsi",
        "colab_type": "text"
      },
      "cell_type": "markdown",
      "source": [
        "### Cálculo de monedas"
      ]
    },
    {
      "metadata": {
        "id": "rUrme-8Vew0R",
        "colab_type": "code",
        "colab": {
          "base_uri": "https://localhost:8080/",
          "height": 68
        },
        "outputId": "a8dd9f2a-c2e1-4a19-cad8-67e444112e3c"
      },
      "cell_type": "code",
      "source": [
        "@calcular_tiempo \n",
        "def cambio_monedas(cantidad,sistema):\n",
        "  \n",
        "  print(sistema)\n",
        "  solucion=[0 for i in range(len(sistema))]    \n",
        "  valor_acumulado = 0\n",
        "  \n",
        "  for i in range(len(sistema)):    \n",
        "    monedas = int((cantidad - valor_acumulado)/sistema[i])\n",
        "    solucion[i]=monedas\n",
        "    valor_acumulado+=monedas*sistema[i]    \n",
        "    if valor_acumulado==cantidad:\n",
        "      return solucion\n",
        "  \n",
        "  \n",
        "\n",
        "sistema=[25,10,5,1] \n",
        "#Devuelve el número de monedas de cada posición\n",
        "print(cambio_monedas(77,sistema))\n",
        " "
      ],
      "execution_count": 94,
      "outputs": [
        {
          "output_type": "stream",
          "text": [
            "[25, 10, 5, 1]\n",
            "Tiempo de ejecución para algoritmo: 0.0003428459167480468750000\n",
            "[3, 0, 0, 2]\n"
          ],
          "name": "stdout"
        }
      ]
    },
    {
      "metadata": {
        "id": "naU7YyZqyWCc",
        "colab_type": "text"
      },
      "cell_type": "markdown",
      "source": [
        "##### Algoritmo modificado en el cual se devuelven las monedas necesarias"
      ]
    },
    {
      "metadata": {
        "id": "L6NoRn3puaec",
        "colab_type": "code",
        "colab": {
          "base_uri": "https://localhost:8080/",
          "height": 51
        },
        "outputId": "e718da31-2515-439f-b424-e87c441a0326"
      },
      "cell_type": "code",
      "source": [
        "#Mi algoritmo, devolviendo en un array las monedas necesarias.\n",
        "@calcular_tiempo \n",
        "def cambioMonedas(cantidad, monedas):\n",
        "  monedas.sort(reverse=True)\n",
        "  resultado=[]\n",
        "  i=0\n",
        "  total=0\n",
        "  while(i<len(monedas) and total<cantidad):\n",
        "    if(cantidad >= monedas[i] and monedas[i]+total<=cantidad):      \n",
        "      resultado.append(monedas[i])\n",
        "      total+=monedas[i]\n",
        "    else:\n",
        "      i+=1\n",
        "  return resultado\n",
        "    \n",
        "r1=cambioMonedas(77,[25,10,5,1])\n",
        "print(r1)"
      ],
      "execution_count": 95,
      "outputs": [
        {
          "output_type": "stream",
          "text": [
            "Tiempo de ejecución para algoritmo: 0.0000095367431640625000000\n",
            "[25, 25, 25, 1, 1]\n"
          ],
          "name": "stdout"
        }
      ]
    },
    {
      "metadata": {
        "id": "i38g-zcFx3yu",
        "colab_type": "text"
      },
      "cell_type": "markdown",
      "source": [
        "### Algoritmo de las 4 reinas"
      ]
    },
    {
      "metadata": {
        "id": "UnOx5ThFkNkW",
        "colab_type": "code",
        "colab": {
          "base_uri": "https://localhost:8080/",
          "height": 340
        },
        "outputId": "b6f4d227-92b7-4db0-85f0-5911040c3baf"
      },
      "cell_type": "code",
      "source": [
        "N=4\n",
        "\n",
        "solucion = [0 for i in range(N)]\n",
        "\n",
        "etapa=0\n",
        "\n",
        "@calcular_tiempo \n",
        "def tiempoReinas(N,solucion,etapa):  \n",
        "  return reinas(N,solucion,etapa)\n",
        "\n",
        "def es_prometedora(solucion,etapa):\n",
        "  for i in range(etapa+1):\n",
        "    if solucion.count(solucion[i])>1:\n",
        "      return False\n",
        "    \n",
        "    #Verificar las diagonales\n",
        "    for j in range(i+1,etapa+1):\n",
        "      if abs(i-j) == abs(solucion[i]-solucion[j]):\n",
        "        return False\n",
        "  return True   \n",
        "\n",
        "def escribe(S):\n",
        "  n = len(S)\n",
        "  for x in range(n):\n",
        "    print(\"\")\n",
        "    for i in range(n):\n",
        "      if solucion[i] == x+1:\n",
        "        print(\" X \" , end=\"\")\n",
        "      else:\n",
        "        print(\" - \", end=\"\")\n",
        "\n",
        "\n",
        "def reinas(N, solucion, etapa):\n",
        "  \n",
        "  for i in range(1,N+1):\n",
        "    solucion[etapa]=i\n",
        "    if es_prometedora(solucion,etapa):\n",
        "      if etapa == N-1:\n",
        "        print(\"\\r\\n La solución es \\r\\n\")\n",
        "        print(solucion)\n",
        "        escribe(solucion)\n",
        "      else:\n",
        "        #es prometedora\n",
        "        reinas(N,solucion, etapa+1)\n",
        "        \n",
        "    #Si no es prometedora, no hago nada, he quitado el else\n",
        "    #else:\n",
        "      #no es prometedora\n",
        "     # None\n",
        "    solucion[etapa] = 0\n",
        "    \n",
        "#reinas(N,solucion,etapa)\n",
        "\n",
        "print(tiempoReinas(N,solucion,etapa))\n",
        "\n"
      ],
      "execution_count": 36,
      "outputs": [
        {
          "output_type": "stream",
          "text": [
            "\r\n",
            " La solución es \r\n",
            "\n",
            "[2, 4, 1, 3]\n",
            "\n",
            " -  -  X  - \n",
            " X  -  -  - \n",
            " -  -  -  X \n",
            " -  X  -  - \r\n",
            " La solución es \r\n",
            "\n",
            "[3, 1, 4, 2]\n",
            "\n",
            " -  X  -  - \n",
            " -  -  -  X \n",
            " X  -  -  - \n",
            " -  -  X  - \r\n",
            " Tiempo de ejecución para algoritmo: 0.0078666210174560546875000\n",
            "None\n"
          ],
          "name": "stdout"
        }
      ]
    },
    {
      "metadata": {
        "id": "8TxxnSRBzm2q",
        "colab_type": "code",
        "colab": {}
      },
      "cell_type": "code",
      "source": [
        "      "
      ],
      "execution_count": 0,
      "outputs": []
    },
    {
      "metadata": {
        "id": "uAjvLj_CBbl4",
        "colab_type": "code",
        "colab": {}
      },
      "cell_type": "code",
      "source": [
        ""
      ],
      "execution_count": 0,
      "outputs": []
    }
  ]
}